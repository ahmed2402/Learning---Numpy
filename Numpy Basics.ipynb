{
  "nbformat": 4,
  "nbformat_minor": 0,
  "metadata": {
    "colab": {
      "provenance": []
    },
    "kernelspec": {
      "name": "python3",
      "display_name": "Python 3"
    },
    "language_info": {
      "name": "python"
    }
  },
  "cells": [
    {
      "cell_type": "markdown",
      "source": [
        "By the end of this lecture, students will:\n",
        "\n",
        "- Understand the purpose and importance of NumPy in data science and numerical computing.\n",
        "\n",
        "- Learn how to create, manipulate, and perform operations on arrays.\n",
        "\n",
        "- Explore key NumPy functionalities, including array indexing, broadcasting, and linear algebra.\n",
        "\n",
        "- Solve real-world problems using NumPy."
      ],
      "metadata": {
        "id": "9cUVnLg7HEc1"
      }
    },
    {
      "cell_type": "markdown",
      "source": [
        "What is NumPy?\n",
        "\n",
        "- Numerical Python: A library for numerical computations.\n",
        "\n",
        "- Efficient handling of large datasets.\n",
        "\n",
        "- Core object: ndarray (N-dimensional array)."
      ],
      "metadata": {
        "id": "e4vj3ogoHO30"
      }
    },
    {
      "cell_type": "code",
      "source": [
        "pip install numpy"
      ],
      "metadata": {
        "colab": {
          "base_uri": "https://localhost:8080/"
        },
        "id": "iK1wgPedHbQO",
        "outputId": "2708f9b0-d82c-4dd5-95b2-31396ba858d3"
      },
      "execution_count": 43,
      "outputs": [
        {
          "output_type": "stream",
          "name": "stdout",
          "text": [
            "Requirement already satisfied: numpy in /usr/local/lib/python3.11/dist-packages (1.26.4)\n"
          ]
        }
      ]
    },
    {
      "cell_type": "code",
      "source": [
        "import numpy as np"
      ],
      "metadata": {
        "id": "lGAy8DmrHisV"
      },
      "execution_count": 44,
      "outputs": []
    },
    {
      "cell_type": "markdown",
      "source": [
        "Basics of ndarray\n",
        "\n",
        "- Properties of ndarray: shape, size, dtype, ndim"
      ],
      "metadata": {
        "id": "HOXBc5cEH5eQ"
      }
    },
    {
      "cell_type": "code",
      "source": [
        "import numpy as np\n",
        "\n",
        "arr = np.array( [[1, 2, 3],[4, 5.5, 6]\n",
        "                ,[7, 8, 9]\n",
        "                ,[10,11,12]]\n",
        "                )\n",
        "print(\"Array:\\n\", arr)\n",
        "print(\"Shape:\\n\", arr.shape)\n",
        "print(\"Size:\\n\", arr.size)\n",
        "print(\"Data Type:\\n\", arr.dtype)"
      ],
      "metadata": {
        "colab": {
          "base_uri": "https://localhost:8080/"
        },
        "id": "P_5ov-w6IBcJ",
        "outputId": "bd38c7e1-9fea-4636-c365-f0b56383e8f9"
      },
      "execution_count": 42,
      "outputs": [
        {
          "output_type": "stream",
          "name": "stdout",
          "text": [
            "Array:\n",
            " [[ 1.   2.   3. ]\n",
            " [ 4.   5.5  6. ]\n",
            " [ 7.   8.   9. ]\n",
            " [10.  11.  12. ]]\n",
            "Shape:\n",
            " (4, 3)\n",
            "Size:\n",
            " 12\n",
            "Data Type:\n",
            " float64\n"
          ]
        }
      ]
    },
    {
      "cell_type": "markdown",
      "source": [
        "Exercise:\n",
        "\n",
        "Create a 1D array of integers from 1 to 10 and print its properties.\n",
        "\n",
        "Create a 2D array of shape (3, 3) filled with zeros.\n",
        "\n",
        "Convert a Python list [1.1, 2.2, 3.3] into a NumPy array and check its data type."
      ],
      "metadata": {
        "id": "SiiEfEq8IQzi"
      }
    },
    {
      "cell_type": "code",
      "source": [
        "arr1 = np.arange(1, 65)\n",
        "print(\"Array:\", arr1)\n",
        "arr=arr1.reshape(4,4,4)\n",
        "print(arr)\n",
        "print(\"Shape:\", arr1.shape)\n",
        "print(\"Size:\", arr1.size)\n",
        "print(\"Data Type:\", arr1.dtype)\n",
        "print(arr1.ndim)\n",
        "print(arr.ndim)"
      ],
      "metadata": {
        "colab": {
          "base_uri": "https://localhost:8080/"
        },
        "id": "wMWb40fOIXy4",
        "outputId": "99b9726a-da43-4120-a5ec-bd1ee833d36e"
      },
      "execution_count": 17,
      "outputs": [
        {
          "output_type": "stream",
          "name": "stdout",
          "text": [
            "Array: [ 1  2  3  4  5  6  7  8  9 10 11 12 13 14 15 16 17 18 19 20 21 22 23 24\n",
            " 25 26 27 28 29 30 31 32 33 34 35 36 37 38 39 40 41 42 43 44 45 46 47 48\n",
            " 49 50 51 52 53 54 55 56 57 58 59 60 61 62 63 64]\n",
            "[[[ 1  2  3  4]\n",
            "  [ 5  6  7  8]\n",
            "  [ 9 10 11 12]\n",
            "  [13 14 15 16]]\n",
            "\n",
            " [[17 18 19 20]\n",
            "  [21 22 23 24]\n",
            "  [25 26 27 28]\n",
            "  [29 30 31 32]]\n",
            "\n",
            " [[33 34 35 36]\n",
            "  [37 38 39 40]\n",
            "  [41 42 43 44]\n",
            "  [45 46 47 48]]\n",
            "\n",
            " [[49 50 51 52]\n",
            "  [53 54 55 56]\n",
            "  [57 58 59 60]\n",
            "  [61 62 63 64]]]\n",
            "Shape: (64,)\n",
            "Size: 64\n",
            "Data Type: int64\n",
            "1\n",
            "3\n"
          ]
        }
      ]
    },
    {
      "cell_type": "code",
      "source": [
        "arr2 = np.zeros((4, 4))\n",
        "print(\"Array:\\n\", arr2)\n",
        "print(\"\\nShape:\", arr2.shape)\n",
        "print(\"\\nSize:\", arr2.size)\n",
        "print(\"\\nData Type:\", arr2.dtype)\n",
        "print(\"Dimension of array:\",arr2.ndim)"
      ],
      "metadata": {
        "colab": {
          "base_uri": "https://localhost:8080/"
        },
        "id": "tvw_3zvnIlrO",
        "outputId": "2120dfac-c3c0-4e73-82b5-eb43f1ee0567"
      },
      "execution_count": 21,
      "outputs": [
        {
          "output_type": "stream",
          "name": "stdout",
          "text": [
            "Array:\n",
            " [[0. 0. 0. 0.]\n",
            " [0. 0. 0. 0.]\n",
            " [0. 0. 0. 0.]\n",
            " [0. 0. 0. 0.]]\n",
            "\n",
            "Shape: (4, 4)\n",
            "\n",
            "Size: 16\n",
            "\n",
            "Data Type: float64\n",
            "Dimension of array: 2\n"
          ]
        }
      ]
    },
    {
      "cell_type": "code",
      "source": [
        "arr3= np.array([1.1, 2.2, 3.3])\n",
        "print(\"Array:\", arr3)\n",
        "print(\"Shape:\", arr3.shape)\n",
        "print(\"Size:\", arr3.size)\n",
        "print(\"Data Type:\", arr3.dtype)\n",
        "print(\"Dimension of array:\",arr3.ndim)"
      ],
      "metadata": {
        "colab": {
          "base_uri": "https://localhost:8080/"
        },
        "id": "p3-b9we4ItyB",
        "outputId": "8553d403-a388-4a76-973c-eb6229e05b3e"
      },
      "execution_count": 22,
      "outputs": [
        {
          "output_type": "stream",
          "name": "stdout",
          "text": [
            "Array: [1.1 2.2 3.3]\n",
            "Shape: (3,)\n",
            "Size: 3\n",
            "Data Type: float64\n",
            "Dimension of array: 1\n"
          ]
        }
      ]
    },
    {
      "cell_type": "code",
      "source": [
        "lst_1=[1,2,3,4,5,6,7,8,9,10]\n",
        "print(\"List is:\",lst_1,\"and type of list is:\\n\")\n",
        "print(type(lst_1))\n",
        "arr4 = np.array(lst_1)\n",
        "print(\"\\nArray is:\\n\",arr4)\n",
        "print(\"\\nType of array is:\",type(arr4))"
      ],
      "metadata": {
        "colab": {
          "base_uri": "https://localhost:8080/"
        },
        "id": "V6a25RvYI5eI",
        "outputId": "8a997496-9610-453c-fe7f-37902e9e8cfd"
      },
      "execution_count": 23,
      "outputs": [
        {
          "output_type": "stream",
          "name": "stdout",
          "text": [
            "List is: [1, 2, 3, 4, 5, 6, 7, 8, 9, 10] and type of list is:\n",
            "\n",
            "<class 'list'>\n",
            "\n",
            "Array is:\n",
            " [ 1  2  3  4  5  6  7  8  9 10]\n",
            "\n",
            "Type of array is: <class 'numpy.ndarray'>\n"
          ]
        }
      ]
    },
    {
      "cell_type": "markdown",
      "source": [
        "Array Creation\n",
        "\n",
        "From lists or tuples\n",
        "\n",
        "Using np.zeros, np.ones, np.arange, np.linspace, and np.eye"
      ],
      "metadata": {
        "id": "dPzi91HYJSZ7"
      }
    },
    {
      "cell_type": "code",
      "source": [
        "zeros_array = np.zeros((3, 3))\n",
        "ones_array = np.ones((2, 4))\n",
        "arange_array = np.arange(0, 31, 3)\n",
        "linspace_array = np.linspace(0, 15, 5)\n",
        "eye_array = np.eye(3)\n",
        "print(zeros_array,\"\\n\\n\")\n",
        "\n",
        "print( ones_array,\"\\n\\n\")\n",
        "\n",
        "print(arange_array,\"\\n\\n\")\n",
        "\n",
        "print(linspace_array,\"\\n\\n\")\n",
        "\n",
        "print(eye_array)"
      ],
      "metadata": {
        "colab": {
          "base_uri": "https://localhost:8080/"
        },
        "id": "cLBYIReyJT4-",
        "outputId": "1fc76abd-8942-4f9b-b651-d25af2ccea60"
      },
      "execution_count": 24,
      "outputs": [
        {
          "output_type": "stream",
          "name": "stdout",
          "text": [
            "[[0. 0. 0.]\n",
            " [0. 0. 0.]\n",
            " [0. 0. 0.]] \n",
            "\n",
            "\n",
            "[[1. 1. 1. 1.]\n",
            " [1. 1. 1. 1.]] \n",
            "\n",
            "\n",
            "[ 0  3  6  9 12 15 18 21 24 27 30] \n",
            "\n",
            "\n",
            "[ 0.    3.75  7.5  11.25 15.  ] \n",
            "\n",
            "\n",
            "[[1. 0. 0.]\n",
            " [0. 1. 0.]\n",
            " [0. 0. 1.]]\n"
          ]
        }
      ]
    },
    {
      "cell_type": "markdown",
      "source": [
        "Array Manipulation\n",
        "\n",
        "Reshaping with reshape\n",
        "\n",
        "Flattening with flatten or ravel\n",
        "\n",
        "Concatenation and stacking (vstack, hstack, concatenate)"
      ],
      "metadata": {
        "id": "ixYLzXJcKSCM"
      }
    },
    {
      "cell_type": "code",
      "source": [
        "arr = np.array([[1, 2, 3], [4, 5, 6]])\n",
        "arr2 = np.array([[7,8,9],[10,11,12]])\n",
        "reshaped = arr.reshape(3, 2)\n",
        "flattened = arr.flatten()\n",
        "stacked = np.vstack((arr,arr2))\n",
        "print(\"\\nReshaped:\", reshaped)\n",
        "print(\"\\nFlattened:\", flattened)\n",
        "print(\"\\nStacked:\\n\", stacked)"
      ],
      "metadata": {
        "colab": {
          "base_uri": "https://localhost:8080/"
        },
        "id": "x-aING6yKWHp",
        "outputId": "fd3bc9fa-5c5a-421a-9755-557bf84b1113"
      },
      "execution_count": 28,
      "outputs": [
        {
          "output_type": "stream",
          "name": "stdout",
          "text": [
            "\n",
            "Reshaped: [[1 2]\n",
            " [3 4]\n",
            " [5 6]]\n",
            "\n",
            "Flattened: [1 2 3 4 5 6]\n",
            "\n",
            "Stacked:\n",
            " [[ 1  2  3]\n",
            " [ 4  5  6]\n",
            " [ 7  8  9]\n",
            " [10 11 12]]\n"
          ]
        }
      ]
    },
    {
      "cell_type": "markdown",
      "source": [
        "Create a 3D array of shape (2, 3, 4) filled with random integers between 0 and 100.\n",
        "\n",
        "Reshape a 1D array of size 12 into a 2D array of shape (4, 3).\n",
        "\n",
        "Concatenate two arrays of size (2, 2) along rows and columns."
      ],
      "metadata": {
        "id": "mmdqR3dSKspZ"
      }
    },
    {
      "cell_type": "code",
      "source": [
        "arr4=np.arange(1,13)\n",
        "print(\"1D Array is: \", arr4)\n",
        "arr5=arr4.reshape(4,3)\n",
        "print(\"Array has been reshaped into 4 by 3 i.e \\n\",arr5)"
      ],
      "metadata": {
        "colab": {
          "base_uri": "https://localhost:8080/"
        },
        "id": "A-emQnFKpEZO",
        "outputId": "ba8a1d09-b7de-44e5-e8cb-abb41359de2b"
      },
      "execution_count": null,
      "outputs": [
        {
          "output_type": "stream",
          "name": "stdout",
          "text": [
            "1D Array is:  [ 1  2  3  4  5  6  7  8  9 10 11 12]\n",
            "Array has been reshaped into 4 by 3 i.e \n",
            " [[ 1  2  3]\n",
            " [ 4  5  6]\n",
            " [ 7  8  9]\n",
            " [10 11 12]]\n"
          ]
        }
      ]
    },
    {
      "cell_type": "code",
      "source": [
        "arr3d= np.random.randint(0, 100, (2, 3, 4))\n",
        "print(\"Random integer arr:\\n\",arr3d)"
      ],
      "metadata": {
        "colab": {
          "base_uri": "https://localhost:8080/"
        },
        "id": "fkk2EXzJKxdU",
        "outputId": "f24a427b-40c8-4b21-e3ec-be5eda0d654f"
      },
      "execution_count": null,
      "outputs": [
        {
          "output_type": "stream",
          "name": "stdout",
          "text": [
            "Random integer arr:\n",
            " [[[27 48 52 66]\n",
            "  [75 19 98  2]\n",
            "  [ 5 75 42 56]]\n",
            "\n",
            " [[ 4 42 42 65]\n",
            "  [62 29 10 91]\n",
            "  [54 38 56 44]]]\n"
          ]
        }
      ]
    },
    {
      "cell_type": "code",
      "source": [
        "arr1d = np.arange(12)\n",
        "print(\"1D array:\\n\",arr1d)\n",
        "reshaped = arr1d.reshape(4, 3)\n",
        "print(\"Reshaped array:\\n\",reshaped)"
      ],
      "metadata": {
        "colab": {
          "base_uri": "https://localhost:8080/"
        },
        "id": "lFrpehAiLNAF",
        "outputId": "80311c5c-746b-46ee-f6bf-942fab148734"
      },
      "execution_count": null,
      "outputs": [
        {
          "output_type": "stream",
          "name": "stdout",
          "text": [
            "1D array:\n",
            " [ 0  1  2  3  4  5  6  7  8  9 10 11]\n",
            "Reshaped array:\n",
            " [[ 0  1  2]\n",
            " [ 3  4  5]\n",
            " [ 6  7  8]\n",
            " [ 9 10 11]]\n"
          ]
        }
      ]
    },
    {
      "cell_type": "code",
      "source": [
        "#Concatenate two arrays of size (2, 2) along rows and columns.\n",
        "arr1 = np.array([[1, 2], [3, 4]])\n",
        "arr2 = np.array([[5, 6], [7, 8]])\n",
        "concatenated_rows = np.concatenate((arr1, arr2), axis=0)\n",
        "concatenated_columns = np.concatenate((arr1, arr2), axis=1)\n",
        "print(\"Concatenated along rows:\\n\", concatenated_rows)\n",
        "print(\"Concatenated along columns:\\n\",concatenated_columns)"
      ],
      "metadata": {
        "colab": {
          "base_uri": "https://localhost:8080/"
        },
        "id": "M-tGg5x-Lfnj",
        "outputId": "2fe63762-3dcc-41cd-a37e-e6d90d828574"
      },
      "execution_count": 29,
      "outputs": [
        {
          "output_type": "stream",
          "name": "stdout",
          "text": [
            "Concatenated along rows:\n",
            " [[1 2]\n",
            " [3 4]\n",
            " [5 6]\n",
            " [7 8]]\n",
            "Concatenated along columns:\n",
            " [[1 2 5 6]\n",
            " [3 4 7 8]]\n"
          ]
        }
      ]
    },
    {
      "cell_type": "markdown",
      "source": [
        "Arithmetic Operations\n",
        "\n",
        "Element-wise operations: +, -, **, /, exponential"
      ],
      "metadata": {
        "id": "9J1E63UZL2SV"
      }
    },
    {
      "cell_type": "code",
      "source": [
        "a = np.array([1, 2, 3])\n",
        "b = np.array([4, 5, 6])\n",
        "print(a + b,\"\\n\")\n",
        "print(a * b,\"\\n\")\n",
        "print(a ** 2,\"\\n\")"
      ],
      "metadata": {
        "colab": {
          "base_uri": "https://localhost:8080/"
        },
        "id": "qZS4N4CAMDMj",
        "outputId": "7fd7491a-529b-4486-d958-04fb42381f59"
      },
      "execution_count": 30,
      "outputs": [
        {
          "output_type": "stream",
          "name": "stdout",
          "text": [
            "[5 7 9] \n",
            "\n",
            "[ 4 10 18] \n",
            "\n",
            "[1 4 9] \n",
            "\n"
          ]
        }
      ]
    },
    {
      "cell_type": "markdown",
      "source": [
        "Statistical Functions\n",
        "\n",
        "Mean, median, variance, standard deviation"
      ],
      "metadata": {
        "id": "xuRf-go_MRMA"
      }
    },
    {
      "cell_type": "markdown",
      "source": [
        "1. Mean:\n",
        "\n",
        "The mean (also called the average) is calculated by summing up all the values in a dataset and then dividing by the total number of values.\n",
        "\n",
        "Formula:\n",
        "\n",
        "\n",
        "Mean (μ) = (Sum of all values) / (Total number of values)\n",
        "Use code with caution\n",
        "Example:\n",
        "\n",
        "For the dataset [2, 4, 6, 8, 10]:\n",
        "\n",
        "Mean = (2 + 4 + 6 + 8 + 10) / 5 = 6\n",
        "\n",
        "2. Median:\n",
        "\n",
        "The median is the middle value in a dataset when it is ordered from least to greatest. If there is an even number of values, the median is the average of the two middle values.\n",
        "\n",
        "Steps:\n",
        "\n",
        "Sort the dataset in ascending order.\n",
        "If the dataset has an odd number of values, the median is the middle value.\n",
        "If the dataset has an even number of values, the median is the average of the two middle values.\n",
        "Example:\n",
        "\n",
        "For the dataset [2, 4, 6, 8, 10]: Median = 6\n",
        "For the dataset [2, 4, 6, 8]: Median = (4 + 6) / 2 = 5\n",
        "3. Variance:\n",
        "\n",
        "Variance measures how spread out the data is from the mean. It's calculated by finding the average of the squared differences between each data point and the mean.\n",
        "\n",
        "Formula:\n",
        "\n",
        "\n",
        "Variance (σ²) = Σ (xi - μ)² / (N -1)  for sample Variance\n",
        "Variance (σ²) = Σ (xi - μ)² / N for population Variance\n",
        "Use code with caution\n",
        "where:\n",
        "\n",
        "xi = each data point\n",
        "μ = the mean\n",
        "N = the total number of data points\n",
        "Example:\n",
        "\n",
        "For the dataset [2, 4, 6, 8, 10] (where the mean is 6):\n",
        "\n",
        "Variance = [(2-6)² + (4-6)² + (6-6)² + (8-6)² + (10-6)²] / 4 = 8\n",
        "\n",
        "4. Standard Deviation:\n",
        "\n",
        "The standard deviation is the square root of the variance. It provides a more interpretable measure of data spread in the original units of the data.\n",
        "\n",
        "Formula:\n",
        "\n",
        "\n",
        "Standard Deviation (σ) = √Variance\n",
        "Use code with caution\n",
        "Example:\n",
        "\n",
        "For the dataset [2, 4, 6, 8, 10] (where the variance is 8):\n",
        "\n",
        "Standard Deviation = √Variance = √8 ≈ 2.83\n"
      ],
      "metadata": {
        "id": "fgapyK-TiQ5X"
      }
    },
    {
      "cell_type": "code",
      "source": [
        "import numpy as np\n",
        "arr = np.array([1, 2, 3, 4, 5,6,7,8,9])\n",
        "print(\"Mean:\", np.mean(arr))\n",
        "print(\"Median:\", np.median(arr))\n",
        "print(\"Variance:\", np.var(arr))\n",
        "print(\"Standard Deviation:\", np.std(arr))"
      ],
      "metadata": {
        "colab": {
          "base_uri": "https://localhost:8080/"
        },
        "id": "gS8AOWp1MbxB",
        "outputId": "f457b1a7-073e-40fe-f98c-6afbd310dafc"
      },
      "execution_count": null,
      "outputs": [
        {
          "output_type": "stream",
          "name": "stdout",
          "text": [
            "Mean: 5.0\n",
            "Median: 5.0\n",
            "Variance: 6.666666666666667\n",
            "Standard Deviation: 2.581988897471611\n"
          ]
        }
      ]
    },
    {
      "cell_type": "markdown",
      "source": [
        "Exercise 1: Properties of ndarray\n",
        "\n",
        "Create a NumPy array from the list [1, 2, 3, 4, 5, 6].\n",
        "\n",
        "Print the shape, size, data type (dtype), and number of dimensions (ndim) of the array.\n",
        "\n",
        "Reshape the array into a 2x3 matrix and verify the properties again.\n"
      ],
      "metadata": {
        "id": "dWweS5R1NpJz"
      }
    },
    {
      "cell_type": "markdown",
      "source": [
        "Exercise 2: Array Creation\n",
        "\n",
        "Create the following arrays using NumPy functions:\n",
        "\n",
        "A 3x3 array filled with zeros.\n",
        "\n",
        "A 4x4 identity matrix using np.eye.\n",
        "\n",
        "An array of evenly spaced numbers from 0 to 10 with 5 elements using np.\n",
        "linspace.\n",
        "\n",
        "An array of numbers from 10 to 50 with a step of 5 using np.arange.\n",
        "\n",
        "Print each array along with its properties."
      ],
      "metadata": {
        "id": "6fdT6UvtNtuc"
      }
    },
    {
      "cell_type": "markdown",
      "source": [
        "Exercise 3: Array Manipulation\n",
        "\n",
        "Create a 1D array with 12 elements using np.arange(1, 13).\n",
        "\n",
        "Reshape it into a 3x4 matrix.\n",
        "\n",
        "Flatten the reshaped matrix using flatten and ravel. Observe the differences.\n",
        "\n",
        "Create a second array, [[13, 14, 15, 16], [17, 18, 19, 20], [21, 22, 23, 24]].\n",
        "\n",
        "Concatenate the two arrays vertically and horizontally using vstack and hstack."
      ],
      "metadata": {
        "id": "lnS0Mf-kN4ts"
      }
    },
    {
      "cell_type": "markdown",
      "source": [
        "Exercise 4: Arithmetic Operations\n",
        "\n",
        "Create two arrays:\n",
        "\n",
        "A = np.array([1, 2, 3, 4])\n",
        "\n",
        "B = np.array([5, 6, 7, 8])\n",
        "\n",
        "Perform the following element-wise operations:\n",
        "\n",
        "Addition: A + B\n",
        "\n",
        "Subtraction: A - B\n",
        "\n",
        "Multiplication: A * B\n",
        "\n",
        "Division: A / B\n",
        "\n",
        "Exponentiation: A ** 2\n",
        "\n",
        "Calculate the exponential of all elements in A.\n"
      ],
      "metadata": {
        "id": "HLsZbmo-OH3d"
      }
    },
    {
      "cell_type": "code",
      "source": [
        "import numpy as np\n",
        "A=np.arange(1,13).reshape(3,4)\n",
        "print(A)\n",
        "B=np.arange(13,25).reshape(3,4)\n",
        "print(B)\n",
        "print(\"Addition:\\n\", A + B)# Adding two arrays\n",
        "print(\"Subtraction:\\n\", B - A)\n",
        "print(\"Multiplication:\\n\", A * B)\n",
        "print(\"Division:\\n\", A / B)\n",
        "print(\"Exponentiation:\\n\", A ** 2)\n",
        "print(\"Exponential of A:\\n\", np.exp(A))"
      ],
      "metadata": {
        "colab": {
          "base_uri": "https://localhost:8080/"
        },
        "id": "30omFdfw0ckW",
        "outputId": "75be6f9b-4c33-4497-9873-d5f4d91b4e07"
      },
      "execution_count": null,
      "outputs": [
        {
          "output_type": "stream",
          "name": "stdout",
          "text": [
            "[[ 1  2  3  4]\n",
            " [ 5  6  7  8]\n",
            " [ 9 10 11 12]]\n",
            "[[13 14 15 16]\n",
            " [17 18 19 20]\n",
            " [21 22 23 24]]\n",
            "Addition:\n",
            " [[14 16 18 20]\n",
            " [22 24 26 28]\n",
            " [30 32 34 36]]\n",
            "Subtraction:\n",
            " [[12 12 12 12]\n",
            " [12 12 12 12]\n",
            " [12 12 12 12]]\n",
            "Multiplication:\n",
            " [[ 13  28  45  64]\n",
            " [ 85 108 133 160]\n",
            " [189 220 253 288]]\n",
            "Division:\n",
            " [[0.07692308 0.14285714 0.2        0.25      ]\n",
            " [0.29411765 0.33333333 0.36842105 0.4       ]\n",
            " [0.42857143 0.45454545 0.47826087 0.5       ]]\n",
            "Exponentiation:\n",
            " [[  1   4   9  16]\n",
            " [ 25  36  49  64]\n",
            " [ 81 100 121 144]]\n",
            "Exponential of A:\n",
            " [[2.71828183e+00 7.38905610e+00 2.00855369e+01 5.45981500e+01]\n",
            " [1.48413159e+02 4.03428793e+02 1.09663316e+03 2.98095799e+03]\n",
            " [8.10308393e+03 2.20264658e+04 5.98741417e+04 1.62754791e+05]]\n"
          ]
        }
      ]
    },
    {
      "cell_type": "markdown",
      "source": [
        "Exercise 5: Statistical Functions\n",
        "\n",
        "Create an array: data = np.array([2, 4, 6, 8, 10, 12]).\n",
        "\n",
        "Calculate and print the following statistical measures:\n",
        "\n",
        "Mean\n",
        "\n",
        "Median\n",
        "\n",
        "Variance\n",
        "\n",
        "Standard Deviation\n",
        "\n",
        "Create a 2x3 matrix with random integers between 1 and 10. Calculate the mean along rows and columns."
      ],
      "metadata": {
        "id": "Q27NONNqOSJm"
      }
    },
    {
      "cell_type": "code",
      "source": [
        "#Exercise 1\n",
        "import numpy as np\n",
        "\n",
        "# Create a NumPy array\n",
        "array = np.array([1, 2, 3, 4, 5, 6])\n",
        "\n",
        "# Properties\n",
        "print(\"Array:\", array)\n",
        "print(\"Shape:\", array.shape)\n",
        "print(\"Size:\", array.size)\n",
        "print(\"Data Type (dtype):\", array.dtype)\n",
        "print(\"Number of Dimensions (ndim):\", array.ndim)\n",
        "\n",
        "# Reshape the array\n",
        "reshaped_array = array.reshape(2, 3)\n",
        "print(\"\\nReshaped Array:\\n\", reshaped_array)\n",
        "print(\"Shape after reshape:\", reshaped_array.shape)\n"
      ],
      "metadata": {
        "colab": {
          "base_uri": "https://localhost:8080/"
        },
        "id": "jGv0ZPrOOpZY",
        "outputId": "c092d136-f853-4d5a-c61d-1551916250ed"
      },
      "execution_count": null,
      "outputs": [
        {
          "output_type": "stream",
          "name": "stdout",
          "text": [
            "Array: [1 2 3 4 5 6]\n",
            "Shape: (6,)\n",
            "Size: 6\n",
            "Data Type (dtype): int64\n",
            "Number of Dimensions (ndim): 1\n",
            "\n",
            "Reshaped Array:\n",
            " [[1 2 3]\n",
            " [4 5 6]]\n",
            "Shape after reshape: (2, 3)\n"
          ]
        }
      ]
    },
    {
      "cell_type": "code",
      "source": [
        "#Array Creation\n",
        "# Create arrays\n",
        "zeros_array = np.zeros((3, 3))\n",
        "identity_matrix = np.eye(4)\n",
        "linspace_array = np.linspace(0, 10, 5)\n",
        "arange_array = np.arange(10, 51, 5)\n",
        "\n",
        "# Print arrays\n",
        "print(\"3x3 Zeros Array:\\n\", zeros_array)\n",
        "print(\"\\n4x4 Identity Matrix:\\n\", identity_matrix)\n",
        "print(\"\\nLinspace Array (0 to 10, 5 elements):\\n\", linspace_array)\n",
        "print(\"\\nArange Array (10 to 50, step 5):\\n\", arange_array)\n"
      ],
      "metadata": {
        "colab": {
          "base_uri": "https://localhost:8080/"
        },
        "id": "H4KuHGRSOwlm",
        "outputId": "26fdae98-5eee-4c11-95ed-4fad5d008597"
      },
      "execution_count": null,
      "outputs": [
        {
          "output_type": "stream",
          "name": "stdout",
          "text": [
            "3x3 Zeros Array:\n",
            " [[0. 0. 0.]\n",
            " [0. 0. 0.]\n",
            " [0. 0. 0.]]\n",
            "\n",
            "4x4 Identity Matrix:\n",
            " [[1. 0. 0. 0.]\n",
            " [0. 1. 0. 0.]\n",
            " [0. 0. 1. 0.]\n",
            " [0. 0. 0. 1.]]\n",
            "\n",
            "Linspace Array (0 to 10, 5 elements):\n",
            " [ 0.   2.5  5.   7.5 10. ]\n",
            "\n",
            "Arange Array (10 to 50, step 5):\n",
            " [10 15 20 25 30 35 40 45 50]\n"
          ]
        }
      ]
    },
    {
      "cell_type": "code",
      "source": [
        "#Array Manipulation\n",
        "# Create a 1D array\n",
        "array = np.arange(1, 13)\n",
        "\n",
        "# Reshape to 3x4 matrix\n",
        "reshaped_array = array.reshape(3, 4)\n",
        "print(\"Reshaped Array:\\n\", reshaped_array)\n",
        "\n",
        "# Flatten with flatten and ravel\n",
        "flattened = reshaped_array.flatten()\n",
        "raveled = reshaped_array.ravel()\n",
        "print(\"\\nFlattened Array:\", flattened)\n",
        "print(\"Raveled Array:\", raveled)\n",
        "\n",
        "# Create a second array\n",
        "second_array = np.array([[13, 14, 15, 16], [17, 18, 19, 20], [21, 22, 23, 24]])\n",
        "\n",
        "# Concatenate arrays\n",
        "vstacked = np.vstack((reshaped_array, second_array))\n",
        "hstacked = np.hstack((reshaped_array, second_array))\n",
        "print(\"\\nVertically Stacked Arrays:\\n\", vstacked)\n",
        "print(\"\\nHorizontally Stacked Arrays:\\n\", hstacked)\n"
      ],
      "metadata": {
        "colab": {
          "base_uri": "https://localhost:8080/"
        },
        "id": "tM9N3W9EO1y0",
        "outputId": "f958cc64-6634-46f0-8809-35d9841ffa0d"
      },
      "execution_count": 31,
      "outputs": [
        {
          "output_type": "stream",
          "name": "stdout",
          "text": [
            "Reshaped Array:\n",
            " [[ 1  2  3  4]\n",
            " [ 5  6  7  8]\n",
            " [ 9 10 11 12]]\n",
            "\n",
            "Flattened Array: [ 1  2  3  4  5  6  7  8  9 10 11 12]\n",
            "Raveled Array: [ 1  2  3  4  5  6  7  8  9 10 11 12]\n",
            "\n",
            "Vertically Stacked Arrays:\n",
            " [[ 1  2  3  4]\n",
            " [ 5  6  7  8]\n",
            " [ 9 10 11 12]\n",
            " [13 14 15 16]\n",
            " [17 18 19 20]\n",
            " [21 22 23 24]]\n",
            "\n",
            "Horizontally Stacked Arrays:\n",
            " [[ 1  2  3  4 13 14 15 16]\n",
            " [ 5  6  7  8 17 18 19 20]\n",
            " [ 9 10 11 12 21 22 23 24]]\n"
          ]
        }
      ]
    },
    {
      "cell_type": "code",
      "source": [
        "#Array Arithematic Opearations\n",
        "# Create two arrays\n",
        "A = np.array([1, 2, 3, 4])\n",
        "B = np.array([5, 6, 7, 8])\n",
        "\n",
        "# Element-wise operations\n",
        "print(\"Addition:\", A + B)\n",
        "print(\"Subtraction:\", A - B)\n",
        "print(\"Multiplication:\", A * B)\n",
        "print(\"Division:\", A / B)\n",
        "print(\"Exponentiation:\", A ** 2)\n",
        "\n",
        "# Exponential of A\n",
        "exp_A = np.exp(A)\n",
        "print(\"\\nExponential of A:\", exp_A)\n"
      ],
      "metadata": {
        "colab": {
          "base_uri": "https://localhost:8080/"
        },
        "id": "WmB71h1pO-7k",
        "outputId": "6cf65421-1bc0-4920-aada-62e2cbb8c706"
      },
      "execution_count": null,
      "outputs": [
        {
          "output_type": "stream",
          "name": "stdout",
          "text": [
            "Addition: [ 6  8 10 12]\n",
            "Subtraction: [-4 -4 -4 -4]\n",
            "Multiplication: [ 5 12 21 32]\n",
            "Division: [0.2        0.33333333 0.42857143 0.5       ]\n",
            "Exponentiation: [ 1  4  9 16]\n",
            "\n",
            "Exponential of A: [ 2.71828183  7.3890561  20.08553692 54.59815003]\n"
          ]
        }
      ]
    },
    {
      "cell_type": "code",
      "source": [
        "#Statistical Functions\n",
        "# Create an array\n",
        "data = np.array([2, 4, 6, 8, 10, 12])\n",
        "\n",
        "# Statistical measures\n",
        "print(\"Mean:\", np.mean(data))\n",
        "print(\"Median:\", np.median(data))\n",
        "print(\"Variance:\", np.var(data))\n",
        "print(\"Standard Deviation:\", np.std(data))\n",
        "\n",
        "# Create a random 2x3 matrix\n",
        "random_matrix = np.random.randint(1, 10, (2, 3))\n",
        "print(\"\\nRandom 2x3 Matrix:\\n\", random_matrix)\n",
        "\n",
        "# Mean along rows and columns\n",
        "print(\"Mean along rows:\\n\", np.mean(random_matrix, axis=1))\n",
        "print(\"Mean along columns:\\n\", np.mean(random_matrix, axis=0))\n"
      ],
      "metadata": {
        "colab": {
          "base_uri": "https://localhost:8080/"
        },
        "id": "pnarbo7xPI9r",
        "outputId": "6fc5014d-67e7-4d85-bf12-c6120e68452e"
      },
      "execution_count": null,
      "outputs": [
        {
          "output_type": "stream",
          "name": "stdout",
          "text": [
            "Mean: 7.0\n",
            "Median: 7.0\n",
            "Variance: 11.666666666666666\n",
            "Standard Deviation: 3.415650255319866\n",
            "\n",
            "Random 2x3 Matrix:\n",
            " [[9 4 5]\n",
            " [6 3 5]]\n",
            "Mean along rows:\n",
            " [6.         4.66666667]\n",
            "Mean along columns:\n",
            " [7.5 3.5 5. ]\n"
          ]
        }
      ]
    },
    {
      "cell_type": "markdown",
      "source": [
        "Matrix Operations\n",
        "\n",
        "Dot product: np.dot\n",
        "\n",
        "Matrix multiplication: @\n",
        "\n",
        "Transpose: T"
      ],
      "metadata": {
        "id": "cCYo93u9Pa7T"
      }
    },
    {
      "cell_type": "code",
      "source": [
        "a = np.array([[1, 2], [3, 4]])\n",
        "b = np.array([[5, 6], [7, 8]])\n",
        "print(\"\\n\",a)\n",
        "print(\"\\n\",b)\n",
        "print(\"Dot Product:\\n\", np.dot(a, b))\n",
        "print(\"Transpose:\", a.T)"
      ],
      "metadata": {
        "colab": {
          "base_uri": "https://localhost:8080/"
        },
        "id": "nORhTn4DPc3v",
        "outputId": "912e3469-f1ab-4b85-987f-a14fcb5ff625"
      },
      "execution_count": null,
      "outputs": [
        {
          "output_type": "stream",
          "name": "stdout",
          "text": [
            "\n",
            " [[1 2]\n",
            " [3 4]]\n",
            "\n",
            " [[5 6]\n",
            " [7 8]]\n",
            "Dot Product:\n",
            " [[19 22]\n",
            " [43 50]]\n",
            "Transpose: [[1 3]\n",
            " [2 4]]\n"
          ]
        }
      ]
    },
    {
      "cell_type": "markdown",
      "source": [
        "Transpose of a Matrix\n",
        "\n",
        "The transpose of a matrix is obtained by interchanging its rows and columns. More formally, if A is an m x n matrix (with m rows and n columns), its transpose, denoted by A<sup>T</sup> (or A' ), is an n x m matrix where the element in the i-th row and j-th column of A<sup>T</sup> is the element in the j-th row and i-th column of A.\n",
        "\n",
        "Mathematical Notation:\n",
        "\n",
        "\n",
        "[A<sup>T</sup>]<sub>ij</sub> = [A]<sub>ji</sub>\n",
        "Use code with caution\n",
        "where:\n",
        "\n",
        "[A<sup>T</sup>]<sub>ij</sub> represents the element in the i-th row and j-th column of the transposed matrix A<sup>T</sup>.\n",
        "[A]<sub>ji</sub> represents the element in the j-th row and i-th column of the original matrix A.\n",
        "Example:\n",
        "\n",
        "Let's say we have a matrix A:\n",
        "\n",
        "\n",
        "A = | 1  2  3 |\n",
        "    | 4  5  6 |\n",
        "Use code with caution\n",
        "To find the transpose A<sup>T</sup>, we interchange the rows and columns:\n",
        "\n",
        "\n",
        "A<sup>T</sup> = | 1  4 |\n",
        "          | 2  5 |\n",
        "          | 3  6 |\n",
        "Use code with caution\n",
        "In simpler terms:\n",
        "\n",
        "Identify the elements: Look at each element in the original matrix and its position (row and column).\n",
        "Swap positions: For the transposed matrix, place that element in the reversed position (column becomes row, row becomes column).\n",
        "Repeat: Do this for all elements of the original matrix.\n",
        "Key Properties of Transpose:\n",
        "\n",
        "(A<sup>T</sup>)<sup>T</sup> = A: The transpose of the transpose of a matrix is the original matrix.\n",
        "(A + B)<sup>T</sup> = A<sup>T</sup> + B<sup>T</sup>: The transpose of a sum of matrices is the sum of their transposes.\n",
        "(kA)<sup>T</sup> = kA<sup>T</sup>: The transpose of a scalar multiple of a matrix is the scalar multiple of the transpose.\n",
        "(AB)<sup>T</sup> = B<sup>T</sup>A<sup>T</sup>: The transpose of a product of matrices is the product of their transposes in reverse order."
      ],
      "metadata": {
        "id": "xKZpz1rdjIMy"
      }
    },
    {
      "cell_type": "markdown",
      "source": [
        "Perform element-wise addition and multiplication on two 3x3 matrices.\n",
        "\n",
        "Compute the dot product of two vectors.\n",
        "\n",
        "Compute the cross product of two vectors.\n",
        "\n",
        "Calculate the mean and variance of a random 2D array."
      ],
      "metadata": {
        "id": "9drkSJJqPloF"
      }
    },
    {
      "cell_type": "code",
      "source": [
        "#Perform element-wise addition and multiplication on two 3x3 matrices.\n",
        "\n",
        "import numpy as np\n",
        "\n",
        "# Create two 3x3 matrices\n",
        "matrix1 = np.array([[1, 2, 3], [4, 5, 6], [7, 8, 9]])\n",
        "matrix2 = np.array([[9, 8, 7], [6, 5, 4], [3, 2, 1]])\n",
        "\n",
        "# Element-wise addition\n",
        "addition_result = matrix1 + matrix2\n",
        "print(\"Element-wise Addition:\\n\", addition_result)\n",
        "\n",
        "# Element-wise multiplication\n",
        "multiplication_result = matrix1 * matrix2\n",
        "print(\"\\nElement-wise Multiplication:\\n\", multiplication_result)"
      ],
      "metadata": {
        "colab": {
          "base_uri": "https://localhost:8080/"
        },
        "id": "fzbhlAtkGIBO",
        "outputId": "79025341-0057-439b-f7f5-aa6fff462a5c"
      },
      "execution_count": null,
      "outputs": [
        {
          "output_type": "stream",
          "name": "stdout",
          "text": [
            "Element-wise Addition:\n",
            " [[10 10 10]\n",
            " [10 10 10]\n",
            " [10 10 10]]\n",
            "\n",
            "Element-wise Multiplication:\n",
            " [[ 9 16 21]\n",
            " [24 25 24]\n",
            " [21 16  9]]\n"
          ]
        }
      ]
    },
    {
      "cell_type": "markdown",
      "source": [
        "The dot product, also known as the scalar product, is an operation performed on two vectors of the same dimension (they have the same number of elements). The result of the dot product is a single scalar value (a number).\n",
        "\n",
        "Here's how it's calculated:\n",
        "\n",
        "Element-wise Multiplication: You multiply the corresponding elements of the two vectors.\n",
        "\n",
        "Summation: You add up all the products obtained in the previous step.\n",
        "\n",
        "Formula:\n",
        "\n",
        "If you have two vectors, a = [a1, a2, a3, ..., an] and b = [b1, b2, b3, ..., bn], their dot product is calculated as follows:\n",
        "\n",
        "a · b = (a1 * b1) + (a2 * b2) + (a3 * b3) + ... + (an * bn)\n",
        "\n",
        "Example:\n",
        "\n",
        "Let's say we have the vectors:\n",
        "\n",
        "a = [1, 2, 3] b = [4, 5, 6]\n",
        "\n",
        "The dot product would be:\n",
        "\n",
        "a · b = (1 * 4) + (2 * 5) + (3 * 6) = 4 + 10 + 18 = 32\n",
        "\n",
        "Geometric Interpretation:\n",
        "\n",
        "The dot product also has a geometric interpretation. It can be expressed in terms of the magnitudes of the vectors and the cosine of the angle between them:\n",
        "\n",
        "a · b = ||a|| ||b|| cos(θ)\n",
        "\n",
        "where:\n",
        "\n",
        "||a|| and ||b|| are the magnitudes (lengths) of vectors a and b, respectively.\n",
        "θ is the angle between the two vectors.\n",
        "This geometric interpretation is useful in various applications, such as determining if two vectors are orthogonal (perpendicular, meaning their dot product is 0) or finding the projection of one vector onto another."
      ],
      "metadata": {
        "id": "gCp2LlKNHnRg"
      }
    },
    {
      "cell_type": "code",
      "source": [
        "# Compute the dot product of two vectors.\n",
        "\n",
        "import numpy as np\n",
        "\n",
        "# Create two vectors\n",
        "vector1 = np.array([3, 4, 5])\n",
        "vector2 = np.array([3, 4, 5])\n",
        "\n",
        "# Compute the dot product\n",
        "dot_product = np.dot(vector1, vector2)\n",
        "\n",
        "# Print the result\n",
        "print(\"Dot product:\", dot_product)"
      ],
      "metadata": {
        "colab": {
          "base_uri": "https://localhost:8080/"
        },
        "id": "7CI0M5gHGVbv",
        "outputId": "aa0edafd-e4a6-44d9-de7e-eb53cb9f4b45"
      },
      "execution_count": 32,
      "outputs": [
        {
          "output_type": "stream",
          "name": "stdout",
          "text": [
            "Dot product: 50\n"
          ]
        }
      ]
    },
    {
      "cell_type": "markdown",
      "source": [
        "dot_product = np.dot(vector1, vector2): This is the core of the calculation. np.dot() is a NumPy function that calculates the dot product of two arrays (in this case, our vectors). The dot product is a mathematical operation that results in a single number."
      ],
      "metadata": {
        "id": "zaBwl_bcH7Kl"
      }
    },
    {
      "cell_type": "markdown",
      "source": [
        "\n",
        "The Cross Product in Mathematics\n",
        "The cross product, also known as the vector product, is a binary operation on two vectors in three-dimensional space. It results in a third vector that is perpendicular to both of the original vectors and has a magnitude equal to the area of the parallelogram spanned by those vectors.\n",
        "\n",
        "Here's a breakdown:\n",
        "\n",
        "Input: Two vectors, usually denoted as a and b, in three-dimensional space (R³).\n",
        "\n",
        "Output: A third vector, denoted as a × b, also in three-dimensional space.\n",
        "\n",
        "Properties:\n",
        "\n",
        "Perpendicularity: The resulting vector (a × b) is perpendicular to both a and b. This means the dot product of (a × b) with either a or b is zero.\n",
        "Magnitude: The magnitude (length) of the cross product vector is given by: ||a × b|| = ||a|| ||b|| sin(θ) where:\n",
        "||a|| and ||b|| are the magnitudes of vectors a and b, respectively.\n",
        "θ is the angle between vectors a and b (0° ≤ θ ≤ 180°).\n",
        "Direction: The direction of the cross product vector is determined by the right-hand rule. If you point your right-hand fingers in the direction of vector a and curl them towards vector b, your thumb will point in the direction of a × b.\n",
        "Geometric Interpretation:\n",
        "\n",
        "The magnitude of the cross product represents the area of the parallelogram formed by vectors a and b.\n",
        "The direction of the cross product indicates the orientation of the plane containing a and b.\n",
        "Formula: If a = (a₁, a₂, a₃) and b = (b₁, b₂, b₃), then the cross product is calculated as follows:\n",
        "\n",
        "a × b = (a₂b₃ - a₃b₂, a₃b₁ - a₁b₃, a₁b₂ - a₂b₁)\n",
        "\n",
        "Important Considerations:\n",
        "\n",
        "The cross product is not commutative, meaning a × b ≠ b × a. In fact, a × b = -(b × a).\n",
        "The cross product is only defined for vectors in three-dimensional space."
      ],
      "metadata": {
        "id": "n_cNp2f6Ii9y"
      }
    },
    {
      "cell_type": "code",
      "source": [
        "# Compute the cross product of two vectors\n",
        "\n",
        "import numpy as np\n",
        "\n",
        "# Example vectors\n",
        "vector_a = np.array([1, 2, 3])\n",
        "vector_b = np.array([4, 5, 6])\n",
        "\n",
        "# Compute the cross product\n",
        "cross_product = np.cross(vector_a, vector_b)\n",
        "\n",
        "# Print the result\n",
        "print(\"Cross product:\", cross_product)"
      ],
      "metadata": {
        "colab": {
          "base_uri": "https://localhost:8080/"
        },
        "id": "Ro5kD7VJGicO",
        "outputId": "9c006bf2-7ea5-440e-c1db-3b4e56177d46"
      },
      "execution_count": null,
      "outputs": [
        {
          "output_type": "stream",
          "name": "stdout",
          "text": [
            "Cross product: [-3  6 -3]\n"
          ]
        }
      ]
    },
    {
      "cell_type": "markdown",
      "source": [
        "Broadcasting\n",
        "\n",
        "Adding scalar to an array\n",
        "\n",
        "Operations between arrays of different shapes"
      ],
      "metadata": {
        "id": "BUmaZlpbPpVt"
      }
    },
    {
      "cell_type": "code",
      "source": [
        "# Operations between arrays of different shapes\n",
        "\n",
        "import numpy as np\n",
        "\n",
        "# Broadcasting examples\n",
        "a = np.array([1, 2, 3])\n",
        "b = 2\n",
        "print(a + b,\"\\n\")  # Adds 2 to each element of 'a'\n",
        "\n",
        "c = np.array([[1, 2, 3], [4, 5, 6]])\n",
        "d = np.array([10, 20, 30])\n",
        "print(c + d,\"\\n\")  # Adds 'd' to each row of 'c'\n",
        "\n",
        "e = np.array([[1, 2], [3, 4]])\n",
        "f = np.array([10, 20])\n",
        "print(e + f,\"\\n\") # Adds f to each row of e\n",
        "\n",
        "#More complex broadcasting\n",
        "g = np.array([[[1,2],[3,4]],[[5,6],[7,8]]])\n",
        "h = np.array([[9,10],[11,12]])\n",
        "print(g + h)"
      ],
      "metadata": {
        "colab": {
          "base_uri": "https://localhost:8080/"
        },
        "id": "apHI5eta7BzD",
        "outputId": "551c4a31-ccb6-4d4a-a36d-c05daa913845"
      },
      "execution_count": null,
      "outputs": [
        {
          "output_type": "stream",
          "name": "stdout",
          "text": [
            "[3 4 5] \n",
            "\n",
            "[[11 22 33]\n",
            " [14 25 36]] \n",
            "\n",
            "[[11 22]\n",
            " [13 24]] \n",
            "\n",
            "[[[10 12]\n",
            "  [14 16]]\n",
            "\n",
            " [[14 16]\n",
            "  [18 20]]]\n"
          ]
        }
      ]
    },
    {
      "cell_type": "code",
      "source": [
        "#Adding scalar to an array\n",
        "\n",
        "import numpy as np\n",
        "\n",
        "# Broadcasting examples\n",
        "a = np.array([1, 2, 3])\n",
        "b = 2\n",
        "print(a + b)  # Adds 2 to each element of 'a'\n",
        "\n",
        "c = np.array([[1, 2, 3], [4, 5, 6]])\n",
        "d = np.array([10, 20, 30])\n",
        "print(c + d)  # Adds 'd' to each row of 'c'\n",
        "\n",
        "e = np.array([[1, 2], [3, 4]])\n",
        "f = np.array([10, 20])\n",
        "print(e + f) # Adds f to each row of e\n",
        "\n",
        "#More complex broadcasting\n",
        "g = np.array([[[1,2],[3,4]],[[5,6],[7,8]]])\n",
        "h = np.array([[9,10],[11,12]])\n",
        "g + h"
      ],
      "metadata": {
        "colab": {
          "base_uri": "https://localhost:8080/"
        },
        "id": "LwFaSYjQ7Ta7",
        "outputId": "7a561b79-7db6-4ad4-ff77-bcf914b911dc"
      },
      "execution_count": null,
      "outputs": [
        {
          "output_type": "stream",
          "name": "stdout",
          "text": [
            "[3 4 5]\n",
            "[[11 22 33]\n",
            " [14 25 36]]\n",
            "[[11 22]\n",
            " [13 24]]\n"
          ]
        },
        {
          "output_type": "execute_result",
          "data": {
            "text/plain": [
              "array([[[10, 12],\n",
              "        [14, 16]],\n",
              "\n",
              "       [[14, 16],\n",
              "        [18, 20]]])"
            ]
          },
          "metadata": {},
          "execution_count": 9
        }
      ]
    },
    {
      "cell_type": "code",
      "source": [
        "a = np.array([[1, 2], [3, 4]])\n",
        "b = np.array([10, 20])\n",
        "print(a + b)"
      ],
      "metadata": {
        "colab": {
          "base_uri": "https://localhost:8080/"
        },
        "id": "3WGSgll4Pw_y",
        "outputId": "628f73ce-3bb2-4b91-ee21-d07de64713d9"
      },
      "execution_count": null,
      "outputs": [
        {
          "output_type": "stream",
          "name": "stdout",
          "text": [
            "[[11 22]\n",
            " [13 24]]\n"
          ]
        }
      ]
    },
    {
      "cell_type": "markdown",
      "source": [
        "Indexing and Slicing\n",
        "\n",
        "Accessing elements, rows, and columns\n",
        "\n",
        "Boolean indexing"
      ],
      "metadata": {
        "id": "OBaosipZP4lN"
      }
    },
    {
      "cell_type": "code",
      "source": [
        "import numpy as np\n",
        "arr = np.array([[1, 2, 3], [4, 5, 6], [7, 8, 9]])\n",
        "print(arr)\n",
        "print(arr[1, 2])  # Single element\n",
        "print(arr[:, 1])  # All rows, second column\n",
        "print(arr[arr > 5])  # Boolean indexing"
      ],
      "metadata": {
        "colab": {
          "base_uri": "https://localhost:8080/"
        },
        "id": "DcmbfZU-QAA0",
        "outputId": "4a8fdce9-66a4-4f2a-b1c6-ea1af6f84e3d"
      },
      "execution_count": null,
      "outputs": [
        {
          "output_type": "stream",
          "name": "stdout",
          "text": [
            "[[1 2 3]\n",
            " [4 5 6]\n",
            " [7 8 9]]\n",
            "6\n",
            "[2 5 8]\n",
            "[6 7 8 9]\n"
          ]
        }
      ]
    },
    {
      "cell_type": "markdown",
      "source": [
        "Linear Algebra\n",
        "\n",
        "Determinants, eigenvalues, solving equations"
      ],
      "metadata": {
        "id": "xYPhQYyVQP8f"
      }
    },
    {
      "cell_type": "code",
      "source": [
        "a = np.array([[3, 1], [2, 4]])\n",
        "print(a)\n",
        "print(\"Determinant:\", np.linalg.det(a))"
      ],
      "metadata": {
        "colab": {
          "base_uri": "https://localhost:8080/"
        },
        "id": "Uf9r9JpsQVao",
        "outputId": "ba3019b1-e719-4015-b308-08a377de1514"
      },
      "execution_count": null,
      "outputs": [
        {
          "output_type": "stream",
          "name": "stdout",
          "text": [
            "[[3 1]\n",
            " [2 4]]\n",
            "Determinant: 10.000000000000002\n"
          ]
        }
      ]
    },
    {
      "cell_type": "code",
      "source": [
        "import numpy as np\n",
        "a=np.random.randint(2,100,9)\n",
        "a=a.reshape(3,3)\n",
        "print(a)\n",
        "Determinant = np.linalg.det(a)\n",
        "print(\"Determinant:\", Determinant)"
      ],
      "metadata": {
        "colab": {
          "base_uri": "https://localhost:8080/"
        },
        "id": "piW6W_-reATL",
        "outputId": "e9ba1550-d9d0-44db-c646-3529acf36412"
      },
      "execution_count": null,
      "outputs": [
        {
          "output_type": "stream",
          "name": "stdout",
          "text": [
            "[[13 22 20]\n",
            " [67 67 21]\n",
            " [83 52 71]]\n",
            "Determinant: -60202.99999999996\n"
          ]
        }
      ]
    },
    {
      "cell_type": "markdown",
      "source": [
        "Exercise:\n",
        "\n",
        "Add a column vector to a 2D matrix using broadcasting.\n",
        "\n",
        "Extract a 2x2 submatrix from a 3x3 matrix.\n",
        "\n",
        "Solve the system of equations\n",
        "\n",
        "1. 2x + y = 5, x - 3y = -3\n",
        "2. 2x + y - z = 1, x + 3y + 2z = 10, x - y + z = 0"
      ],
      "metadata": {
        "id": "v4T-BAjTQZPB"
      }
    },
    {
      "cell_type": "code",
      "source": [
        "a=np.random.randint(2,100,4)\n",
        "a=a.reshape(2,2)\n",
        "print(a)\n",
        "b=([10,20])\n",
        "print(b)\n",
        "print(a+b)"
      ],
      "metadata": {
        "colab": {
          "base_uri": "https://localhost:8080/"
        },
        "id": "DwB9wo2rkb5F",
        "outputId": "7c3a47af-0af4-4db7-b497-04a8c9c9626f"
      },
      "execution_count": 35,
      "outputs": [
        {
          "output_type": "stream",
          "name": "stdout",
          "text": [
            "[[46 60]\n",
            " [10 99]]\n",
            "[10, 20]\n",
            "[[ 56  80]\n",
            " [ 20 119]]\n"
          ]
        }
      ]
    },
    {
      "cell_type": "markdown",
      "source": [
        "1. 2x2 Matrix\n",
        "\n",
        "For a 2x2 matrix:\n",
        "\n",
        "\n",
        "A = | a  b |\n",
        "    | c  d |\n",
        "Use code with caution\n",
        "The determinant, denoted as det(A) or |A|, is calculated as:\n",
        "\n",
        "\n",
        "det(A) = (a * d) - (b * c)\n",
        "Use code with caution\n",
        "Example:\n",
        "\n",
        "\n",
        "A = | 2  3 |\n",
        "    | 1  4 |\n",
        "\n",
        "det(A) = (2 * 4) - (3 * 1) = 8 - 3 = 5\n",
        "Use code with caution\n",
        "2. 3x3 Matrix\n",
        "\n",
        "For a 3x3 matrix:\n",
        "\n",
        "\n",
        "A = | a  b  c |\n",
        "    | d  e  f |\n",
        "    | g  h  i |\n",
        "Use code with caution\n",
        "The determinant is calculated using the following formula:\n",
        "\n",
        "\n",
        "det(A) = a(ei − fh) − b(di − fg) + c(dh − eg)\n",
        "Use code with caution\n",
        "This can be visualized as:\n",
        "\n",
        "Expansion along the first row:\n",
        "Take element a, multiply it by the determinant of the 2x2 submatrix formed by removing the row and column containing a (which is ei - fh).\n",
        "Do the same for element b (multiply by di - fg) and element c (multiply by dh - eg).\n",
        "Alternate the signs: +, -, +.\n",
        "Example:\n",
        "\n",
        "\n",
        "A = | 1  2  3 |\n",
        "    | 4  5  6 |\n",
        "    | 7  8  9 |\n",
        "\n",
        "det(A) = 1(5*9 - 6*8) - 2(4*9 - 6*7) + 3(4*8 - 5*7)\n",
        "       = 1(45 - 48) - 2(36 - 42) + 3(32 - 35)\n",
        "       = -3 + 12 - 9\n",
        "       = 0\n",
        "Use code with caution\n",
        "3. 4x4 Matrix and Beyond\n",
        "\n",
        "For larger matrices like 4x4, the determinant calculation becomes more complex. The general approach involves:\n",
        "\n",
        "Cofactor Expansion: Choose a row or column to expand along.\n",
        "Calculate Cofactors: For each element in the chosen row/column, find its cofactor. The cofactor is the determinant of the submatrix formed by removing the row and column containing that element, multiplied by (-1)^(row + column).\n",
        "Sum of Products: Multiply each element in the chosen row/column by its cofactor and sum the results.\n",
        "Formula for a 4x4 matrix:\n",
        "\n",
        "\n",
        "A = | a  b  c  d |\n",
        "    | e  f  g  h |\n",
        "    | i  j  k  l |\n",
        "    | m  n  o  p |\n",
        "\n",
        "det(A) = a * det(3x3 submatrix) - b * det(3x3 submatrix) + c * det(3x3 submatrix) - d * det(3x3 submatrix)\n",
        "Use code with caution\n",
        "Where each 3x3 submatrix is formed by removing the row and column containing the corresponding element (a, b, c, or d).\n",
        "\n",
        "In practice, for matrices larger than 3x3, it's often more efficient to use numerical methods and software tools like NumPy to calculate determinants, as the manual calculations become quite tedious."
      ],
      "metadata": {
        "id": "e77l6fEmftOb"
      }
    },
    {
      "cell_type": "code",
      "source": [
        "# determine eigenvalues using numpy\n",
        "\n",
        "import numpy as np\n",
        "\n",
        "a = np.array([[3, 1], [2, 4]])\n",
        "eigenvalues = np.linalg.eigvals(a)\n",
        "print(\"Eigenvalues:\", eigenvalues)\n"
      ],
      "metadata": {
        "colab": {
          "base_uri": "https://localhost:8080/"
        },
        "id": "hqn8E0jggyHk",
        "outputId": "88110cd6-52c6-4ce5-8e95-412a8615c2a0"
      },
      "execution_count": null,
      "outputs": [
        {
          "output_type": "stream",
          "name": "stdout",
          "text": [
            "Eigenvalues: [2. 5.]\n"
          ]
        }
      ]
    },
    {
      "cell_type": "markdown",
      "source": [
        "Eigenvalues and Eigenvectors\n",
        "\n",
        "Eigenvalues (λ) and eigenvectors (v) are closely related concepts in linear algebra. They are defined for a square matrix (A).\n",
        "\n",
        "Eigenvector (v): A non-zero vector that, when multiplied by the matrix (A), results in a scaled version of itself.\n",
        "Eigenvalue (λ): The scaling factor by which the eigenvector is stretched or compressed when multiplied by the matrix (A).\n",
        "The Eigenvalue Equation\n",
        "\n",
        "The fundamental equation that governs eigenvalues and eigenvectors is:\n",
        "\n",
        "\n",
        "A * v = λ * v\n",
        "Use code with caution\n",
        "where:\n",
        "\n",
        "A is the square matrix.\n",
        "v is the eigenvector.\n",
        "λ is the eigenvalue.\n",
        "Steps to Calculate Eigenvalues\n",
        "\n",
        "Characteristic Equation: Rearrange the eigenvalue equation:\n",
        "\n",
        "A * v - λ * v = 0\n",
        "(A - λ * I) * v = 0\n",
        "Use code with caution\n",
        "where:\n",
        "\n",
        "I is the identity matrix of the same size as A.\n",
        "Determinant: For the above equation to have a non-zero solution for the eigenvector (v), the determinant of (A - λ * I) must be zero:\n",
        "\n",
        "det(A - λ * I) = 0\n",
        "Use code with caution\n",
        "This equation is called the characteristic equation.\n",
        "\n",
        "Solving for λ: The characteristic equation is a polynomial equation in λ. Solving this equation for λ gives you the eigenvalues of the matrix A.\n",
        "Example: 2x2 Matrix\n",
        "\n",
        "Let's consider a 2x2 matrix:\n",
        "\n",
        "\n",
        "A = | a  b |\n",
        "    | c  d |\n",
        "Use code with caution\n",
        "Characteristic Equation:\n",
        "\n",
        "det(A - λ * I) = det(| a - λ  b |) = (a - λ)(d - λ) - (b * c) = 0\n",
        "                       | c      d - λ |\n",
        "Use code with caution\n",
        "Solving for λ: Expand the determinant and solve the resulting quadratic equation for λ. The solutions are the eigenvalues.\n",
        "Larger Matrices:\n",
        "\n",
        "The process is similar for larger matrices, but the characteristic equation becomes a higher-degree polynomial, making it more complex to solve analytically. Numerical methods are often used to find eigenvalues in these cases.\n",
        "\n",
        "In summary: Eigenvalues are found by solving the characteristic equation, which is obtained by setting the determinant of (A - λ * I) to zero. The solutions to this equation represent the"
      ],
      "metadata": {
        "id": "j5Ly1UxdhRAI"
      }
    },
    {
      "cell_type": "code",
      "source": [
        "\n",
        "\n",
        "import numpy as np\n",
        "\n",
        "# Example matrix and column vector\n",
        "matrix = np.array([[1, 2, 3],\n",
        "                   [4, 5, 6],\n",
        "                   [7, 8, 9]])\n",
        "vector = np.array([10, 20, 30])\n",
        "\n",
        "# Add the column vector to the matrix using broadcasting\n",
        "result = matrix + vector.reshape(3,1) # Reshape for proper column vector addition\n",
        "result"
      ],
      "metadata": {
        "colab": {
          "base_uri": "https://localhost:8080/"
        },
        "id": "CcmTBN93C8fJ",
        "outputId": "0600a4e0-fe74-42cf-8de6-0fc7de31af25"
      },
      "execution_count": null,
      "outputs": [
        {
          "output_type": "execute_result",
          "data": {
            "text/plain": [
              "array([[11, 12, 13],\n",
              "       [24, 25, 26],\n",
              "       [37, 38, 39]])"
            ]
          },
          "metadata": {},
          "execution_count": 1
        }
      ]
    },
    {
      "cell_type": "code",
      "source": [
        "import numpy as np\n",
        "\n",
        "# Example 3x3 matrix\n",
        "matrix = np.arange(1,65).reshape(4,4,4)\n",
        "\n",
        "# Extract a 2x2 submatrix (e.g., top-left corner)\n",
        "submatrix = matrix[1,1:3, : ]\n",
        "\n",
        "print(\"Original Matrix:\\n\", matrix)\n",
        "print(\"\\n2x2 Submatrix:\\n\", submatrix)"
      ],
      "metadata": {
        "colab": {
          "base_uri": "https://localhost:8080/"
        },
        "id": "mgQVceoWDPFp",
        "outputId": "31b39a86-b36f-42eb-af28-03e97ee5c9c9"
      },
      "execution_count": 38,
      "outputs": [
        {
          "output_type": "stream",
          "name": "stdout",
          "text": [
            "Original Matrix:\n",
            " [[[ 1  2  3  4]\n",
            "  [ 5  6  7  8]\n",
            "  [ 9 10 11 12]\n",
            "  [13 14 15 16]]\n",
            "\n",
            " [[17 18 19 20]\n",
            "  [21 22 23 24]\n",
            "  [25 26 27 28]\n",
            "  [29 30 31 32]]\n",
            "\n",
            " [[33 34 35 36]\n",
            "  [37 38 39 40]\n",
            "  [41 42 43 44]\n",
            "  [45 46 47 48]]\n",
            "\n",
            " [[49 50 51 52]\n",
            "  [53 54 55 56]\n",
            "  [57 58 59 60]\n",
            "  [61 62 63 64]]]\n",
            "\n",
            "2x2 Submatrix:\n",
            " [[21 22 23 24]\n",
            " [25 26 27 28]]\n"
          ]
        }
      ]
    },
    {
      "cell_type": "code",
      "source": [
        "# Solve 2 variable system of equations using Numpy\n",
        "\n",
        "import numpy as np\n",
        "\n",
        "# Example system of equations:\n",
        "# 2x + y = 5\n",
        "# x - 3y = -3\n",
        "\n",
        "# Represent the coefficients as a matrix\n",
        "A = np.array([[2, 1], [1, -3]])\n",
        "\n",
        "# Represent the constants as a vector\n",
        "b = np.array([5, -3])\n",
        "\n",
        "# Solve the system of equations using numpy.linalg.solve\n",
        "x = np.linalg.solve(A, b)\n",
        "\n",
        "# Print the solution\n",
        "print(\"Solution:\")\n",
        "print(\"x =\", x[0])\n",
        "print(\"y =\", x[1])"
      ],
      "metadata": {
        "colab": {
          "base_uri": "https://localhost:8080/"
        },
        "id": "rywS5HAlDhxf",
        "outputId": "a8aabd44-249c-4e26-92bc-f1df46a6d3ec"
      },
      "execution_count": null,
      "outputs": [
        {
          "output_type": "stream",
          "name": "stdout",
          "text": [
            "Solution:\n",
            "x = 1.7142857142857144\n",
            "y = 1.5714285714285714\n"
          ]
        }
      ]
    },
    {
      "cell_type": "code",
      "source": [
        "# Solve 3 variable system of equations using Numpy\n",
        "\n",
        "import numpy as np\n",
        "\n",
        "# Example system of equations:\n",
        "# 2x + y - z = 1\n",
        "# x + 3y + 2z = 10\n",
        "# x - y + z = 0\n",
        "\n",
        "# Represent the coefficients as a matrix\n",
        "A = np.array([[2, 1, -1],\n",
        "              [1, 3, 2],\n",
        "              [1, -1, 1]])\n",
        "\n",
        "# Represent the constants as a vector\n",
        "b = np.array([1, 10, 0])\n",
        "\n",
        "# Solve the system of equations using numpy.linalg.solve\n",
        "x = np.linalg.solve(A, b)\n",
        "\n",
        "# Print the solution\n",
        "print(\"Solution:\")\n",
        "print(\"x =\", x[0])\n",
        "print(\"y =\", x[1])\n",
        "print(\"z =\", x[2])"
      ],
      "metadata": {
        "colab": {
          "base_uri": "https://localhost:8080/"
        },
        "id": "UNHBsvzOEVnR",
        "outputId": "6f37fed1-55bc-4ed0-ca4b-8000e5ca94d5"
      },
      "execution_count": null,
      "outputs": [
        {
          "output_type": "stream",
          "name": "stdout",
          "text": [
            "Solution:\n",
            "x = 0.3333333333333335\n",
            "y = 2.0666666666666664\n",
            "z = 1.7333333333333336\n"
          ]
        }
      ]
    },
    {
      "cell_type": "markdown",
      "source": [
        "np.linalg.solve: This is a function from NumPy's linear algebra module (linalg). Its purpose is to solve a system of linear equations.\n",
        "\n",
        "A: This variable represents the coefficient matrix of your system of equations. It's a NumPy array containing the coefficients of the unknowns (like 'x' and 'y' in a typical system).\n",
        "\n",
        "b: This variable represents the constant vector in your system of equations. It's a NumPy array containing the values on the right-hand side of the equation.\n",
        "\n",
        "x: This is where the result is stored. The np.linalg.solve function calculates the values of the unknowns that satisfy the equations and assigns them to x. x will also be a NumPy array."
      ],
      "metadata": {
        "id": "_hvswkD8EM_n"
      }
    },
    {
      "cell_type": "markdown",
      "source": [
        "**Matrix Operations: Dot Product**\n",
        "\n",
        "1. Create two 2x2 matrices A and B. Compute their dot product using np.dot().\n",
        "\n",
        "2. Verify the result by manually calculating the dot product of the matrices.\n",
        "3. Create a 3x3 matrix C and a 3x1 matrix D. Find their dot product.\n",
        "4. Generate two random 4x4 matrices using np.random.rand and calculate their dot product.\n",
        "5. Check if the dot product of two matrices is commutative (A @ B == B @ A).\n"
      ],
      "metadata": {
        "id": "sLMUtHzUCd-X"
      }
    },
    {
      "cell_type": "code",
      "source": [
        "import numpy as np\n",
        "\n",
        "# 1. Compute the dot product of two 2x2 matrices\n",
        "A = np.array([[1, 2], [3, 4]])\n",
        "B = np.array([[5, 6], [7, 8]])\n",
        "dot_product = np.dot(A, B)\n",
        "print(\"Dot Product of A and B:\\n\", dot_product)\n",
        "\n",
        "# 2. Verify manually\n",
        "manual_result = [[19, 22], [43, 50]]  # Example calculation\n",
        "print(\"Manual Dot Product Verification:\\n\", manual_result)\n",
        "\n",
        "# 3. Dot product of a 3x3 matrix and a 3x1 matrix\n",
        "C = np.array([[1, 2, 3], [4, 5, 6], [7, 8, 9]])\n",
        "D = np.array([[1], [2], [3]])\n",
        "dot_product_CD = np.dot(C, D)\n",
        "print(\"Dot Product of C and D:\\n\", dot_product_CD)\n",
        "\n",
        "# 4. Random 4x4 matrices\n",
        "M1 = np.random.rand(4, 4)\n",
        "M2 = np.random.rand(4, 4)\n",
        "print(\"Dot Product of Random Matrices:\\n\", np.dot(M1, M2))\n",
        "\n",
        "# 5. Commutative check\n",
        "print(\"A @ B == B @ A:\", np.array_equal(np.dot(A, B), np.dot(B, A)))\n"
      ],
      "metadata": {
        "colab": {
          "base_uri": "https://localhost:8080/"
        },
        "id": "xlsmt6Qo-c7c",
        "outputId": "9bf11c2d-317e-4b2f-9a82-54854cac4449"
      },
      "execution_count": null,
      "outputs": [
        {
          "output_type": "stream",
          "name": "stdout",
          "text": [
            "Dot Product of A and B:\n",
            " [[19 22]\n",
            " [43 50]]\n",
            "Manual Dot Product Verification:\n",
            " [[19, 22], [43, 50]]\n",
            "Dot Product of C and D:\n",
            " [[14]\n",
            " [32]\n",
            " [50]]\n",
            "Dot Product of Random Matrices:\n",
            " [[0.68967233 0.28795165 1.0181268  0.81833266]\n",
            " [0.73676179 0.43932955 1.28220277 0.98061345]\n",
            " [0.73571692 0.27076603 1.18920706 0.86477279]\n",
            " [0.534695   0.36308627 0.73467828 0.87830395]]\n",
            "A @ B == B @ A: False\n"
          ]
        }
      ]
    },
    {
      "cell_type": "markdown",
      "source": [
        "**Matrix Operations: Multiplication**\n",
        "\n",
        "\n",
        "1. Create two matrices, M1 and M2, and perform element-wise multiplication using *.\n",
        "2. Generate two matrices of different sizes that allow broadcasting and multiply them.\n",
        "3. Create a 3x3 identity matrix and multiply it with another 3x3 matrix. Verify the result.\n",
        "4. Multiply a matrix by a scalar value and observe the change in values.\n",
        "5. Create a 2D matrix and a 1D array. Multiply them using broadcasting rules."
      ],
      "metadata": {
        "id": "Kqce57Sz_iR-"
      }
    },
    {
      "cell_type": "code",
      "source": [
        "# 1. Element-wise multiplication\n",
        "M1 = np.array([[1, 2], [3, 4]])\n",
        "M2 = np.array([[5, 6], [7, 8]])\n",
        "print(\"Element-wise Multiplication:\\n\", M1 * M2)\n",
        "\n",
        "# 2. Broadcasting multiplication\n",
        "matrix = np.array([[1, 2, 3], [4, 5, 6]])\n",
        "vector = np.array([1, 2, 3])\n",
        "print(\"Broadcasting Multiplication:\\n\", matrix * vector)\n",
        "\n",
        "# 3. Identity matrix multiplication\n",
        "identity_matrix = np.eye(3)\n",
        "other_matrix = np.array([[1, 2, 3], [4, 5, 6], [7, 8, 9]])\n",
        "print(\"Identity Matrix Multiplication:\\n\", np.dot(identity_matrix, other_matrix))\n",
        "\n",
        "# 4. Scalar multiplication\n",
        "scalar_matrix = M1 * 3\n",
        "print(\"Scalar Multiplication:\\n\", scalar_matrix)\n",
        "\n",
        "# 5. Broadcasting with 2D and 1D\n",
        "array_1d = np.array([1, 2])\n",
        "matrix_2d = np.array([[1, 2], [3, 4]])\n",
        "print(\"2D and 1D Multiplication:\\n\", matrix_2d * array_1d)\n"
      ],
      "metadata": {
        "colab": {
          "base_uri": "https://localhost:8080/"
        },
        "id": "PliTXo_8-g8l",
        "outputId": "8589f0b4-9b17-4d63-938d-fa726b3a55e0"
      },
      "execution_count": null,
      "outputs": [
        {
          "output_type": "stream",
          "name": "stdout",
          "text": [
            "Element-wise Multiplication:\n",
            " [[ 5 12]\n",
            " [21 32]]\n",
            "Broadcasting Multiplication:\n",
            " [[ 1  4  9]\n",
            " [ 4 10 18]]\n",
            "Identity Matrix Multiplication:\n",
            " [[1. 2. 3.]\n",
            " [4. 5. 6.]\n",
            " [7. 8. 9.]]\n",
            "Scalar Multiplication:\n",
            " [[ 3  6]\n",
            " [ 9 12]]\n",
            "2D and 1D Multiplication:\n",
            " [[1 4]\n",
            " [3 8]]\n"
          ]
        }
      ]
    },
    {
      "cell_type": "markdown",
      "source": [
        "**Matrix Operations: Transpose**\n",
        "\n",
        "Create a 2x3 matrix and find its transpose using np.transpose() and .T.\n",
        "\n",
        "Verify that the transpose of a transpose returns the original matrix.\n",
        "\n",
        "Create a random 4x4 matrix and calculate its transpose. Verify symmetry for symmetric matrices.\n",
        "\n",
        "Multiply a 2x2 matrix by its transpose. Check if the result is symmetric.\n",
        "\n",
        "Find the transpose of a 3D array (shape 2x3x4) along specified axes.\n"
      ],
      "metadata": {
        "id": "sHHptG_P_2EN"
      }
    },
    {
      "cell_type": "code",
      "source": [
        "# 1. Transpose of 2x3 matrix\n",
        "import random\n",
        "matrix_2x3 = np.array([[1, 2, 3], [4, 5, 6]])\n",
        "print(\"\\nSimple matrix\\n\",matrix_2x3)\n",
        "print(\"\\nTranspose:\\n\", matrix_2x3.T)\n",
        "\n",
        "# 2. Transpose of a transpose\n",
        "print(\"Transpose of Transpose:\\n\", (matrix_2x3.T).T)\n",
        "\n",
        "# 3. Random 4x4 matrix transpose\n",
        "random_matrix = np.random.randint(1,100,(4, 4) )\n",
        "#random_matrix = np.reshape(4, 4)\n",
        "print(\"\\nRandom Matrix is:\\n\",random_matrix)\n",
        "print(\"Random Matrix Transpose:\\n\", random_matrix.T)\n",
        "\n",
        "# 4. Symmetric matrix test\n",
        "symmetric_matrix = np.array([[1, 2], [2, 1]])\n",
        "print(\"\\n Matrix is \\n\",symmetric_matrix,\"\\nand transpose is\\n\",symmetric_matrix.T)\n",
        "print(\"Symmetric Matrix Test (A == A.T):\", np.array_equal(symmetric_matrix, symmetric_matrix.T))\n",
        "\n",
        "# 5. Transpose along specified axes\n",
        "tensor = np.random.rand(2, 3, 4)\n",
        "print(\"\\nTensor\\n\",tensor)\n",
        "#print(\"Transposed Tensor:\\n\", np.transpose(tensor, (1, 2, 0)))\n",
        "transposed = np.transpose(tensor, (1, 0, 2))\n",
        "print(\"Transposed Tensor:\\n\", transposed)\n",
        "print(\"Transposed Tensor Shape:\", transposed.shape)\n"
      ],
      "metadata": {
        "colab": {
          "base_uri": "https://localhost:8080/"
        },
        "id": "scEAvwkj-lqn",
        "outputId": "50378ac4-7682-4a59-f53b-fc1e01b73c11"
      },
      "execution_count": null,
      "outputs": [
        {
          "output_type": "stream",
          "name": "stdout",
          "text": [
            "\n",
            "Simple matrix\n",
            " [[1 2 3]\n",
            " [4 5 6]]\n",
            "\n",
            "Transpose:\n",
            " [[1 4]\n",
            " [2 5]\n",
            " [3 6]]\n",
            "Transpose of Transpose:\n",
            " [[1 2 3]\n",
            " [4 5 6]]\n",
            "\n",
            "Random Matrix is:\n",
            " [[80 37 86 27]\n",
            " [11 24 54 16]\n",
            " [75 38 39 38]\n",
            " [12 72 25 20]]\n",
            "Random Matrix Transpose:\n",
            " [[80 11 75 12]\n",
            " [37 24 38 72]\n",
            " [86 54 39 25]\n",
            " [27 16 38 20]]\n",
            "\n",
            " Matrix is \n",
            " [[1 2]\n",
            " [2 1]] \n",
            "and transpose is\n",
            " [[1 2]\n",
            " [2 1]]\n",
            "Symmetric Matrix Test (A == A.T): True\n",
            "\n",
            "Tensor\n",
            " [[[0.79929986 0.80233577 0.77379507 0.33095516]\n",
            "  [0.47049066 0.2434217  0.82585226 0.74201259]\n",
            "  [0.0392203  0.44120555 0.05355808 0.92710337]]\n",
            "\n",
            " [[0.93929522 0.71809071 0.43303289 0.66349404]\n",
            "  [0.01508682 0.4945011  0.27469244 0.95902088]\n",
            "  [0.99140835 0.01172529 0.17198523 0.87748845]]]\n",
            "Transposed Tensor:\n",
            " [[[0.79929986 0.80233577 0.77379507 0.33095516]\n",
            "  [0.93929522 0.71809071 0.43303289 0.66349404]]\n",
            "\n",
            " [[0.47049066 0.2434217  0.82585226 0.74201259]\n",
            "  [0.01508682 0.4945011  0.27469244 0.95902088]]\n",
            "\n",
            " [[0.0392203  0.44120555 0.05355808 0.92710337]\n",
            "  [0.99140835 0.01172529 0.17198523 0.87748845]]]\n",
            "Transposed Tensor Shape: (3, 2, 4)\n"
          ]
        }
      ]
    },
    {
      "cell_type": "markdown",
      "source": [
        "Broadcasting\n",
        "\n",
        "\n",
        "Add a scalar (e.g., 5) to a 1D array of size 5.\n",
        "\n",
        "Create a 2x3 matrix and a 1D array of size 3. Add them using broadcasting.\n",
        "\n",
        "Multiply a 2x3 matrix with a 1D array of size 2 along the correct axis.\n",
        "\n",
        "Create a 3x3x3 tensor and add a scalar to all its elements.\n",
        "\n",
        "Divide a 4x4 matrix by a 1D array of size 4, broadcasting along columns.\n"
      ],
      "metadata": {
        "id": "EU3gz6cGAYKn"
      }
    },
    {
      "cell_type": "code",
      "source": [
        "# 1. Adding scalar to 1D array\n",
        "array = np.array([1, 2, 3, 4, 5])\n",
        "print(\"Array + Scalar:\\n\", array + 5)\n",
        "\n",
        "# 2. Adding 2x3 matrix and 1D array\n",
        "matrix = np.array([[1, 2, 3], [4, 5, 6]])\n",
        "vector = np.array([1, 2, 3])\n",
        "print(\"Matrix + Vector:\\n\", matrix + vector)\n",
        "\n",
        "# 3. Multiply with broadcasting\n",
        "matrix = np.array([[1, 2, 3], [4, 5, 6]])\n",
        "vector = np.array([1, 2])\n",
        "print(\"Matrix * Vector (Broadcasting):\\n\", (matrix.T * vector).T)\n",
        "\n",
        "# 4. Add scalar to tensor\n",
        "tensor = np.random.rand(3, 3, 3)\n",
        "print(\"Tensor + Scalar:\\n\", tensor + 1)\n",
        "\n",
        "# 5. Divide with broadcasting\n",
        "matrix = np.array([[10, 20, 30], [40, 50, 60]])\n",
        "vector = np.array([10, 20, 30])\n",
        "print(\"Matrix / Vector:\\n\", matrix / vector)\n"
      ],
      "metadata": {
        "colab": {
          "base_uri": "https://localhost:8080/"
        },
        "id": "NIJVPs25-oat",
        "outputId": "8ee2f321-d6ca-4a60-9093-73bc4aa6419d"
      },
      "execution_count": null,
      "outputs": [
        {
          "output_type": "stream",
          "name": "stdout",
          "text": [
            "Array + Scalar:\n",
            " [ 6  7  8  9 10]\n",
            "Matrix + Vector:\n",
            " [[2 4 6]\n",
            " [5 7 9]]\n",
            "Matrix * Vector (Broadcasting):\n",
            " [[ 1  2  3]\n",
            " [ 8 10 12]]\n",
            "Tensor + Scalar:\n",
            " [[[1.99795175 1.15950288 1.70388842]\n",
            "  [1.6010123  1.53394955 1.32450629]\n",
            "  [1.13042041 1.65476485 1.39103421]]\n",
            "\n",
            " [[1.4077305  1.09511549 1.75056348]\n",
            "  [1.40312784 1.7057094  1.07355469]\n",
            "  [1.04549537 1.83341435 1.54873766]]\n",
            "\n",
            " [[1.33667265 1.98730388 1.27864577]\n",
            "  [1.65112015 1.20889437 1.33860335]\n",
            "  [1.96216331 1.85625443 1.55135205]]]\n",
            "Matrix / Vector:\n",
            " [[1.  1.  1. ]\n",
            " [4.  2.5 2. ]]\n"
          ]
        }
      ]
    },
    {
      "cell_type": "markdown",
      "source": [
        "5. Indexing\n",
        "\n",
        "Create a 4x4 matrix and access the element at the second row, third column.\n",
        "\n",
        "Create a 3x3 matrix and access all elements in the second row.\n",
        "\n",
        "Create a 3x3x3 tensor and access the first layer (2D slice).\n",
        "\n",
        "Modify the element at position (2, 2) in a 4x4 matrix to 10.\n",
        "\n",
        "Access the last element of each row in a 3x4 matrix.\n"
      ],
      "metadata": {
        "id": "BBap4cZwAv0d"
      }
    },
    {
      "cell_type": "code",
      "source": [
        "# 1. Access specific element\n",
        "matrix = np.array([[1, 2], [3, 4]])\n",
        "print(\"Element at (1,1):\", matrix[1, 1])\n",
        "\n",
        "# 2. Access row\n",
        "print(\"Second row:\", matrix[1])\n",
        "\n",
        "# 3. Access layer in 3D tensor\n",
        "tensor = np.random.rand(3, 3, 3)\n",
        "print(\"First Layer:\\n\", tensor[0])\n",
        "\n",
        "# 4. Modify specific element\n",
        "matrix[1, 1] = 10\n",
        "print(\"Modified Matrix:\\n\", matrix)\n",
        "\n",
        "# 5. Last element of each row\n",
        "matrix = np.array([[1, 2, 3], [4, 5, 6]])\n",
        "print(\"Last Elements of Rows:\", matrix[:, -1])\n"
      ],
      "metadata": {
        "colab": {
          "base_uri": "https://localhost:8080/"
        },
        "id": "L03Pag38-qWU",
        "outputId": "6a97b738-3c16-4d9e-a20b-d9c788534487"
      },
      "execution_count": null,
      "outputs": [
        {
          "output_type": "stream",
          "name": "stdout",
          "text": [
            "Element at (1,1): 4\n",
            "Second row: [3 4]\n",
            "First Layer:\n",
            " [[0.26703911 0.2279654  0.95134216]\n",
            " [0.44645328 0.43974664 0.28539294]\n",
            " [0.49550537 0.52646878 0.93153978]]\n",
            "Modified Matrix:\n",
            " [[ 1  2]\n",
            " [ 3 10]]\n",
            "Last Elements of Rows: [3 6]\n"
          ]
        }
      ]
    },
    {
      "cell_type": "markdown",
      "source": [
        "6. Slicing\n",
        "\n",
        "Create a 1D array of 10 elements and slice out the first 5 elements.\n",
        "\n",
        "Create a 4x4 matrix and extract the first two rows and columns.\n",
        "\n",
        "Create a 3D tensor (shape 3x4x5) and slice out the first two layers.\n",
        "\n",
        "Extract every alternate row from a 5x5 matrix.\n",
        "\n",
        "Slice a 1D array to reverse its elements."
      ],
      "metadata": {
        "id": "z7GDVTQ5A1z1"
      }
    },
    {
      "cell_type": "code",
      "source": [
        "# 1. Slice 1D array\n",
        "array = np.arange(10)\n",
        "print(\"First 5 Elements:\", array[:5])\n",
        "\n",
        "# 2. Slice 4x4 matrix\n",
        "matrix = np.arange(16).reshape(4, 4)\n",
        "print(\"Top-Left 2x2:\\n\", matrix[:2, :2])\n",
        "\n",
        "# 3. Slice 3D tensor\n",
        "tensor = np.random.rand(3, 4, 5)\n",
        "print(\"First Two Layers:\\n\", tensor[:2])\n",
        "\n",
        "# 4. Alternate rows\n",
        "print(\"Alternate Rows:\\n\", matrix[::2])\n",
        "\n",
        "# 5. Reverse array\n",
        "print(\"Reversed Array:\", array[::-1])\n"
      ],
      "metadata": {
        "colab": {
          "base_uri": "https://localhost:8080/"
        },
        "id": "8D0UUohB-sG8",
        "outputId": "b7a23a78-261d-48d9-b85b-f038fee6f96f"
      },
      "execution_count": null,
      "outputs": [
        {
          "output_type": "stream",
          "name": "stdout",
          "text": [
            "First 5 Elements: [0 1 2 3 4]\n",
            "Top-Left 2x2:\n",
            " [[0 1]\n",
            " [4 5]]\n",
            "First Two Layers:\n",
            " [[[0.42736739 0.74606331 0.42883753 0.70568205 0.93155207]\n",
            "  [0.322549   0.04541889 0.7165597  0.60373562 0.20847626]\n",
            "  [0.13856056 0.31625453 0.96717288 0.97352703 0.24004969]\n",
            "  [0.47755891 0.76345357 0.535128   0.46510682 0.48918243]]\n",
            "\n",
            " [[0.44143343 0.14744112 0.6557017  0.04264702 0.46631896]\n",
            "  [0.87393026 0.24361056 0.91283496 0.93071878 0.98020823]\n",
            "  [0.73265471 0.63793213 0.85696044 0.96760108 0.26444397]\n",
            "  [0.53890511 0.28899857 0.04741582 0.84415652 0.43018971]]]\n",
            "Alternate Rows:\n",
            " [[ 0  1  2  3]\n",
            " [ 8  9 10 11]]\n",
            "Reversed Array: [9 8 7 6 5 4 3 2 1 0]\n"
          ]
        }
      ]
    },
    {
      "cell_type": "markdown",
      "source": [
        "7. Boolean Indexing\n",
        "\n",
        "Create a 1D array of integers and filter out all even numbers.\n",
        "\n",
        "Create a 5x5 matrix and replace all values greater than 10 with 0.\n",
        "\n",
        "Generate a random array of 20 elements and select all values greater than the\n",
        "mean.\n",
        "\n",
        "Create a 1D array and find the indices where the values are divisible by 3.\n",
        "\n",
        "Replace negative values in a matrix with their absolute values using boolean indexing."
      ],
      "metadata": {
        "id": "s2uQAAH7A6wg"
      }
    },
    {
      "cell_type": "code",
      "source": [
        "# 1. Filter even numbers\n",
        "array = np.arange(10)\n",
        "print(\"Even Numbers:\", array[array % 2 == 0])\n",
        "\n",
        "# 2. Replace > 10 with 0\n",
        "matrix = np.random.randint(0, 20, (4, 4))\n",
        "matrix[matrix > 10] = 0\n",
        "print(\"Replaced Matrix:\\n\", matrix)\n",
        "\n",
        "# 3. Values greater than mean\n",
        "random_array = np.random.rand(20)\n",
        "print(\"Greater than Mean:\", random_array[random_array > random_array.mean()])\n",
        "\n",
        "# 4. Divisible by 3\n",
        "print(\"Indices Divisible by 3:\", np.where(array % 3 == 0))\n",
        "\n",
        "# 5. Replace negatives with absolute\n",
        "matrix = np.array([[1, -2], [-3, 4]])\n",
        "matrix[matrix < 0] = np.abs(matrix[matrix < 0])\n",
        "print(\"Positive Matrix:\\n\", matrix)\n"
      ],
      "metadata": {
        "colab": {
          "base_uri": "https://localhost:8080/"
        },
        "id": "TDGzqTOH-xxk",
        "outputId": "d90c82a9-badb-412b-f595-1a2af4e14f5c"
      },
      "execution_count": null,
      "outputs": [
        {
          "output_type": "stream",
          "name": "stdout",
          "text": [
            "Even Numbers: [0 2 4 6 8]\n",
            "Replaced Matrix:\n",
            " [[ 6  0  3  0]\n",
            " [ 0  0  3  0]\n",
            " [ 3  0  5  0]\n",
            " [ 0  0  6 10]]\n",
            "Greater than Mean: [0.84299829 0.59850893 0.93243468 0.73716368 0.76036955 0.99426542\n",
            " 0.94461153 0.79232537 0.72323916 0.87597436]\n",
            "Indices Divisible by 3: (array([0, 3, 6, 9]),)\n",
            "Positive Matrix:\n",
            " [[1 2]\n",
            " [3 4]]\n"
          ]
        }
      ]
    },
    {
      "cell_type": "markdown",
      "source": [
        "8. Linear Algebra: Determinants\n",
        "\n",
        "Create a 2x2 matrix and compute its determinant using np.linalg.det.\n",
        "\n",
        "Verify that the determinant of a singular matrix is 0.\n",
        "\n",
        "Calculate the determinant of a 3x3 random matrix.\n",
        "\n",
        "Check if the determinant of a matrix product equals the product of determinants.\n",
        "\n",
        "Create a 4x4 identity matrix and calculate its determinant.\n"
      ],
      "metadata": {
        "id": "wKlkQjeuBN5m"
      }
    },
    {
      "cell_type": "code",
      "source": [
        "import numpy as np\n",
        "\n",
        "# 1. Determinant of a 2x2 matrix\n",
        "matrix_2x2 = np.array([[4, 6], [3, 8]])\n",
        "det_2x2 = np.linalg.det(matrix_2x2)\n",
        "print(\"Determinant of 2x2 Matrix:\", det_2x2)\n",
        "\n",
        "# 2. Determinant of a singular matrix\n",
        "singular_matrix = np.array([[1, 2], [2, 4]])\n",
        "det_singular = np.linalg.det(singular_matrix)\n",
        "print(\"Determinant of Singular Matrix:\", det_singular)\n",
        "\n",
        "# 3. Determinant of a 3x3 matrix\n",
        "matrix_3x3 = np.random.rand(3, 3)\n",
        "det_3x3 = np.linalg.det(matrix_3x3)\n",
        "print(\"Determinant of 3x3 Matrix:\", det_3x3)\n",
        "\n",
        "# 4. Check determinant property for matrix product\n",
        "A = np.random.rand(3, 3)\n",
        "B = np.random.rand(3, 3)\n",
        "product_matrix = np.dot(A, B)\n",
        "det_product = np.linalg.det(product_matrix)\n",
        "det_check = np.linalg.det(A) * np.linalg.det(B)\n",
        "print(\"Det of Product == Product of Dets:\", np.isclose(det_product, det_check))\n",
        "\n",
        "# 5. Determinant of identity matrix\n",
        "identity_matrix = np.eye(4)\n",
        "det_identity = np.linalg.det(identity_matrix)\n",
        "print(\"Determinant of Identity Matrix:\", det_identity)\n"
      ],
      "metadata": {
        "colab": {
          "base_uri": "https://localhost:8080/"
        },
        "id": "6ZPvOzE1BmQ0",
        "outputId": "2541e8d3-cb6a-468c-d7c6-381488475c8b"
      },
      "execution_count": null,
      "outputs": [
        {
          "output_type": "stream",
          "name": "stdout",
          "text": [
            "Determinant of 2x2 Matrix: 14.000000000000004\n",
            "Determinant of Singular Matrix: 0.0\n",
            "Determinant of 3x3 Matrix: -0.2801725496543638\n",
            "Det of Product == Product of Dets: True\n",
            "Determinant of Identity Matrix: 1.0\n"
          ]
        }
      ]
    },
    {
      "cell_type": "markdown",
      "source": [
        "**Linear Algebra: Eigenvalues**\n",
        "\n",
        "Create a 2x2 symmetric matrix and calculate its eigenvalues using np.linalg.eig.\n",
        "\n",
        "Verify the eigenvalue equation\n",
        "𝐴\n",
        "𝑥\n",
        "=\n",
        "𝜆\n",
        "𝑥\n",
        "Ax=λx for a matrix and its eigenvectors.\n",
        "\n",
        "Calculate the eigenvalues of a 3x3 diagonal matrix.\n",
        "\n",
        "Generate a 4x4 random matrix and compute its eigenvalues.\n",
        "\n",
        "Check if the sum of eigenvalues equals the trace of the matrix."
      ],
      "metadata": {
        "id": "qUucVi04BsJU"
      }
    },
    {
      "cell_type": "code",
      "source": [
        "# 1. Eigenvalues of a symmetric matrix\n",
        "symmetric_matrix = np.array([[2, -1], [-1, 2]])\n",
        "eigenvalues, eigenvectors = np.linalg.eig(symmetric_matrix)\n",
        "print(\"Eigenvalues of Symmetric Matrix:\", eigenvalues)\n",
        "\n",
        "# 2. Verify eigenvalue equation\n",
        "A = np.array([[4, 1], [2, 3]])\n",
        "eigenvalues, eigenvectors = np.linalg.eig(A)\n",
        "v = eigenvectors[:, 0]  # First eigenvector\n",
        "lambda_ = eigenvalues[0]  # First eigenvalue\n",
        "print(\"Ax:\", np.dot(A, v))\n",
        "print(\"λx:\", lambda_ * v)\n",
        "\n",
        "# 3. Eigenvalues of a diagonal matrix\n",
        "diagonal_matrix = np.diag([10, 20, 30])\n",
        "eigenvalues_diag = np.linalg.eigvals(diagonal_matrix)\n",
        "print(\"Eigenvalues of Diagonal Matrix:\", eigenvalues_diag)\n",
        "\n",
        "# 4. Random 4x4 matrix\n",
        "random_matrix = np.random.rand(4, 4)\n",
        "eigenvalues_random = np.linalg.eigvals(random_matrix)\n",
        "print(\"Eigenvalues of Random Matrix:\", eigenvalues_random)\n",
        "\n",
        "# 5. Sum of eigenvalues == trace\n",
        "matrix = np.array([[2, 0], [0, 3]])\n",
        "eigenvalues = np.linalg.eigvals(matrix)\n",
        "print(\"Sum of Eigenvalues:\", np.sum(eigenvalues))\n",
        "print(\"Trace of Matrix:\", np.trace(matrix))\n"
      ],
      "metadata": {
        "colab": {
          "base_uri": "https://localhost:8080/"
        },
        "id": "bRxG3MuOEP9l",
        "outputId": "b7b597b0-e76d-4660-e30c-d57df4de592c"
      },
      "execution_count": null,
      "outputs": [
        {
          "output_type": "stream",
          "name": "stdout",
          "text": [
            "Eigenvalues of Symmetric Matrix: [3. 1.]\n",
            "Ax: [3.53553391 3.53553391]\n",
            "λx: [3.53553391 3.53553391]\n",
            "Eigenvalues of Diagonal Matrix: [10. 20. 30.]\n",
            "Eigenvalues of Random Matrix: [ 1.89292053+0.j          0.16871246+0.35144213j  0.16871246-0.35144213j\n",
            " -0.25995674+0.j        ]\n",
            "Sum of Eigenvalues: 5.0\n",
            "Trace of Matrix: 5\n"
          ]
        }
      ]
    },
    {
      "cell_type": "markdown",
      "source": [
        "**Linear Algebra: Solving Equations**\n",
        "\n",
        "Solve the system of equations\n",
        "\n",
        "2\n",
        "𝑥\n",
        "+\n",
        "3\n",
        "𝑦\n",
        "=\n",
        "8\n",
        "and\n",
        "𝑥\n",
        "−\n",
        "𝑦\n",
        "=\n",
        "2\n",
        "using np.linalg.solve.\n",
        "\n",
        "Create a 3x3 matrix\n",
        "𝐴\n",
        "and a vector\n",
        "𝐵\n",
        "Solve\n",
        "𝐴\n",
        "𝑥\n",
        "=\n",
        "𝐵\n",
        "\n",
        "\n",
        "Verify that the solution\n",
        "𝑥\n",
        "satisfies\n",
        "𝐴\n",
        "𝑥\n",
        "=\n",
        "𝐵\n",
        "\n",
        "\n",
        "Solve a system of linear equations where the coefficient matrix is singular. Handle the error.\n",
        "\n",
        "Generate a random matrix\n",
        "𝐴\n",
        "and vector\n",
        "𝐵\n",
        "Solve\n",
        "𝐴\n",
        "𝑥\n",
        "=\n",
        "𝐵\n",
        "for\n",
        "𝑥\n",
        ".\n"
      ],
      "metadata": {
        "id": "1S5kawOFBzOk"
      }
    },
    {
      "cell_type": "code",
      "source": [
        "# 1. Solve 2x2 system of equations\n",
        "coeff_matrix = np.array([[2, 3], [1, -1]])\n",
        "constants = np.array([8, 2])\n",
        "solution = np.linalg.solve(coeff_matrix, constants)\n",
        "print(\"Solution to Equations:\", solution)\n",
        "\n",
        "# 2. Solve a 3x3 system\n",
        "A = np.array([[2, 1, -1], [-3, -1, 2], [-2, 1, 2]])\n",
        "B = np.array([8, -11, -3])\n",
        "solution_3x3 = np.linalg.solve(A, B)\n",
        "print(\"Solution to 3x3 System:\", solution_3x3)\n",
        "\n",
        "# 3. Verify solution satisfies Ax = B\n",
        "check = np.allclose(np.dot(A, solution_3x3), B)\n",
        "print(\"Does Ax = B?\", check)\n",
        "\n",
        "# 4. Singular matrix error\n",
        "try:\n",
        "    singular_matrix = np.array([[1, 2], [2, 4]])\n",
        "    np.linalg.solve(singular_matrix, np.array([1, 2]))\n",
        "except np.linalg.LinAlgError as e:\n",
        "    print(\"Error with Singular Matrix:\", e)\n",
        "\n",
        "# 5. Solve random system\n",
        "random_coeff = np.random.rand(4, 4)\n",
        "random_constants = np.random.rand(4)\n",
        "random_solution = np.linalg.solve(random_coeff, random_constants)\n",
        "print(\"Solution to Random System:\", random_solution)\n"
      ],
      "metadata": {
        "colab": {
          "base_uri": "https://localhost:8080/"
        },
        "id": "M8tciIVtEVyM",
        "outputId": "4bf09490-943f-432b-b2a8-1fbe6768d011"
      },
      "execution_count": null,
      "outputs": [
        {
          "output_type": "stream",
          "name": "stdout",
          "text": [
            "Solution to Equations: [2.8 0.8]\n",
            "Solution to 3x3 System: [ 2.  3. -1.]\n",
            "Does Ax = B? True\n",
            "Error with Singular Matrix: Singular matrix\n",
            "Solution to Random System: [ 0.74827609  0.05479382 -0.04356064 -0.194848  ]\n"
          ]
        }
      ]
    },
    {
      "cell_type": "code",
      "source": [
        "import numpy as np\n",
        "\n",
        "# Create a 3x3 grayscale image with random pixel intensities (0-255)\n",
        "grayscale_image = np.random.randint(0, 256, (3, 3))\n",
        "print(\"Original Grayscale Image:\\n\", grayscale_image)\n",
        "\n",
        "# Double the intensity and clip the values to stay within 0-255\n",
        "transformed_image = np.clip(grayscale_image * 2, 0, 255)\n",
        "print(\"\\nTransformed Grayscale Image (Doubled Intensity):\\n\", transformed_image)\n"
      ],
      "metadata": {
        "colab": {
          "base_uri": "https://localhost:8080/"
        },
        "id": "AC2jhndlmH3h",
        "outputId": "617661fa-bce0-4941-a12c-6a9b0c5493be"
      },
      "execution_count": null,
      "outputs": [
        {
          "output_type": "stream",
          "name": "stdout",
          "text": [
            "Original Grayscale Image:\n",
            " [[ 55  91 214]\n",
            " [196 103  14]\n",
            " [118 176 188]]\n",
            "\n",
            "Transformed Grayscale Image (Doubled Intensity):\n",
            " [[110 182 255]\n",
            " [255 206  28]\n",
            " [236 255 255]]\n"
          ]
        }
      ]
    },
    {
      "cell_type": "code",
      "source": [
        "coin_tosses = np.random.choice([0, 1], size=100)\n",
        "\n",
        "# Calculate the number of heads\n",
        "num_heads = np.sum(coin_tosses)\n",
        "\n",
        "# Calculate the probability of heads\n",
        "probability_heads = num_heads / 100\n",
        "print(\"\\nNumber of Heads:\", num_heads)\n",
        "print(\"Probability of Getting Heads:\", probability_heads)"
      ],
      "metadata": {
        "colab": {
          "base_uri": "https://localhost:8080/"
        },
        "id": "ofyLprDHmRX_",
        "outputId": "cbcf5d95-7b43-4d70-f14b-bb3b0b839b80"
      },
      "execution_count": null,
      "outputs": [
        {
          "output_type": "stream",
          "name": "stdout",
          "text": [
            "\n",
            "Number of Heads: 49\n",
            "Probability of Getting Heads: 0.49\n"
          ]
        }
      ]
    }
  ]
}