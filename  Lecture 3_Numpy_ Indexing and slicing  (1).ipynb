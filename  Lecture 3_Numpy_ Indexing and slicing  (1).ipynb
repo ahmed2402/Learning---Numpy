{
  "cells": [
    {
      "cell_type": "markdown",
      "source": [
        "What is NumPy?\n",
        "\n",
        "NumPy (short for \"Numerical Python\") is a powerful Python library used for performing efficient numerical computations. It is the foundation of the Python scientific computing ecosystem and provides support for working with arrays and matrices, along with a collection of mathematical functions to operate on these data structures.\n",
        "\n",
        "Why Do We Use NumPy?\n",
        "\n",
        "NumPy is widely used because:\n",
        "\n",
        "Efficient Array Operations:\n",
        "\n",
        "Provides support for large, multi-dimensional arrays and matrices.\n",
        "Operations on NumPy arrays are significantly faster than equivalent operations on Python lists due to its use of optimized C libraries.\n",
        "\n",
        "Vectorized Operations:\n",
        "\n",
        "Allows operations to be performed on entire arrays without the need for explicit loops, enabling faster and cleaner code.\n",
        "\n",
        "\n",
        "Mathematical and Statistical Functions:\n",
        "\n",
        "Provides built-in functions for mathematical, statistical, and linear algebra operations (e.g., mean, standard deviation, dot product).\n",
        "\n",
        "Memory Efficiency:\n",
        "\n",
        "Arrays consume less memory compared to equivalent Python lists.\n",
        "Example: NumPy uses fixed-size data types (e.g., int32, float64), whereas Python lists can have mixed types.\n",
        "Supports Multi-Dimensional Arrays:\n",
        "\n",
        "Offers tools to create and manipulate arrays of any dimension (1D, 2D, 3D, or higher).\n",
        "\n",
        "Integration with Other Libraries:\n",
        "\n",
        "Essential for data science and machine learning, as libraries like Pandas, Scikit-learn, and TensorFlow are built on NumPy.\n",
        "\n",
        "Why Are We Learning NumPy for Data Collection and Preprocessing?\n",
        "\n",
        "NumPy is crucial for data collection and preprocessing in data science for the following reasons:\n",
        "\n",
        "1. Efficient Handling of Data\n",
        "Real-world data is often large and complex (e.g., millions of rows in datasets). NumPy allows efficient storage and manipulation of such data, enabling faster computations compared to Python lists.\n",
        "2. Data Cleaning\n",
        "Operations like removing missing values, replacing invalid entries, or normalizing data can be performed easily using NumPy arrays.\n",
        "3. Array-Based Operations\n",
        "Preprocessing often involves mathematical operations like scaling, normalization, or standardization. NumPy simplifies these operations through its vectorized operations:\n",
        "\n",
        "4. Supports Complex Data Structures\n",
        "Data collection often requires handling matrices or higher-dimensional data (e.g., images as 3D arrays). NumPy supports these complex structures efficiently.\n",
        "5. Mathematical Preprocessing\n",
        "Includes statistical tools for preprocessing, such as calculating:\n",
        "Mean and standard deviation for normalization.\n",
        "Sum, min, and max for summarization.\n",
        "\n",
        "6. Bridging Data into Machine Learning Models\n",
        "After data preprocessing, cleaned data is often converted into NumPy arrays for compatibility with machine learning libraries like TensorFlow, Scikit-learn, etc.\n",
        "7. Flexibility in Handling Missing or Null Values\n",
        "NumPy provides functions to handle missing values during preprocessing:\n",
        "Replace nulls with a specific value.\n",
        "Identify invalid entries.\n",
        "8. Integration with Data Science Libraries\n",
        "Pandas, Matplotlib, and Seaborn often use NumPy arrays as their underlying data structure. Understanding NumPy ensures smooth transition to these tools.\n",
        "9. Efficient Data Aggregation\n",
        "Aggregating and transforming large datasets (e.g., grouping data, applying functions) is simplified in NumPy.\n",
        "10. Essential for Data Manipulation\n",
        "NumPy provides advanced features like reshaping, slicing, indexing, and broadcasting, which are indispensable for data preprocessing.\n",
        "\n",
        "Conclusion\n",
        "\n",
        "We learn NumPy in data collection and preprocessing because it provides:\n",
        "\n",
        "High performance for numerical computations.\n",
        "\n",
        "A foundation for handling and manipulating large datasets.\n",
        "Seamless integration with other Python data science libraries.\n",
        "Essential tools for mathematical preprocessing, data cleaning, and transformation.\n",
        "\n",
        "Understanding NumPy is fundamental for any data scientist or machine learning practitioner, as it forms the backbone of most preprocessing pipelines in data science projects."
      ],
      "metadata": {
        "id": "LpnfjKIKpmYc"
      }
    },
    {
      "cell_type": "markdown",
      "metadata": {
        "id": "vkpasuiJisUI"
      },
      "source": [
        "# Learning Numpy and Pandas for Data Analysis"
      ]
    },
    {
      "cell_type": "markdown",
      "source": [
        "Purpose: NumPy is a Python library used for numerical computations. It is highly optimized for performance and works with arrays, which are faster than Python lists."
      ],
      "metadata": {
        "id": "6XSqqQvOkmr5"
      }
    },
    {
      "cell_type": "markdown",
      "metadata": {
        "id": "_Z9RtQjdisUS"
      },
      "source": [
        "## Numpy - Numerical Python\n",
        "      - structure - Numpy ndimensional\n",
        "      - Super fast processing\n",
        "      - it deals only in numeric values"
      ]
    },
    {
      "cell_type": "markdown",
      "metadata": {
        "id": "P7MY1-woisUS"
      },
      "source": [
        "### Creating a numpy Array"
      ]
    },
    {
      "cell_type": "markdown",
      "metadata": {
        "id": "NsOIl752isUT"
      },
      "source": [
        "Dimensional Array"
      ]
    },
    {
      "cell_type": "code",
      "execution_count": 1,
      "metadata": {
        "id": "0TpPwEyMisUT"
      },
      "outputs": [],
      "source": [
        "import numpy as np"
      ]
    },
    {
      "cell_type": "code",
      "execution_count": null,
      "metadata": {
        "colab": {
          "base_uri": "https://localhost:8080/"
        },
        "id": "1PE7vQPsisUU",
        "outputId": "976a3c44-f27d-44de-f4fc-91a7febc27b1"
      },
      "outputs": [
        {
          "output_type": "stream",
          "name": "stdout",
          "text": [
            "<class 'list'>\n"
          ]
        },
        {
          "output_type": "execute_result",
          "data": {
            "text/plain": [
              "numpy.ndarray"
            ]
          },
          "metadata": {},
          "execution_count": 2
        }
      ],
      "source": [
        "# using python list\n",
        "lst = [1,2,3,4,5,6,7,8,9,10]\n",
        "print(type(lst))\n",
        "arr1d = np.array(lst)\n",
        "type(arr1d)"
      ]
    },
    {
      "cell_type": "code",
      "execution_count": null,
      "metadata": {
        "colab": {
          "base_uri": "https://localhost:8080/"
        },
        "id": "bzGOdcxmisUV",
        "outputId": "6f79869a-ca70-43be-9737-f61f882c3fed"
      },
      "outputs": [
        {
          "output_type": "execute_result",
          "data": {
            "text/plain": [
              "[1, 2, 3, 4, 5, 6, 7, 8, 9, 10]"
            ]
          },
          "metadata": {},
          "execution_count": 3
        }
      ],
      "source": [
        "lst"
      ]
    },
    {
      "cell_type": "code",
      "execution_count": null,
      "metadata": {
        "colab": {
          "base_uri": "https://localhost:8080/"
        },
        "id": "jvI4piWSisUV",
        "outputId": "509c9bb4-e043-4367-fa0f-bb093dd4144e"
      },
      "outputs": [
        {
          "output_type": "execute_result",
          "data": {
            "text/plain": [
              "[1, 2, 3, 4, 5, 6, 7, 8, 9, 10, 1, 2, 3, 4, 5, 6, 7, 8, 9, 10]"
            ]
          },
          "metadata": {},
          "execution_count": 4
        }
      ],
      "source": [
        "lst * 2"
      ]
    },
    {
      "cell_type": "markdown",
      "metadata": {
        "id": "7h-yvsHDisUW"
      },
      "source": [
        "Vectorized Operation\n"
      ]
    },
    {
      "cell_type": "code",
      "execution_count": null,
      "metadata": {
        "colab": {
          "base_uri": "https://localhost:8080/"
        },
        "id": "C4ddkH8BisUW",
        "outputId": "01d334ee-4f9b-4528-de24-b099244be413"
      },
      "outputs": [
        {
          "output_type": "execute_result",
          "data": {
            "text/plain": [
              "array([ 2,  4,  6,  8, 10, 12, 14, 16, 18, 20])"
            ]
          },
          "metadata": {},
          "execution_count": 5
        }
      ],
      "source": [
        "arr1d * 2"
      ]
    },
    {
      "cell_type": "code",
      "execution_count": null,
      "metadata": {
        "colab": {
          "base_uri": "https://localhost:8080/"
        },
        "id": "u2vwkzGyisUW",
        "outputId": "b9cee0ba-9d33-4855-a5f4-924dfc1c3b89"
      },
      "outputs": [
        {
          "output_type": "execute_result",
          "data": {
            "text/plain": [
              "array([0.1, 0.2, 0.3, 0.4, 0.5, 0.6, 0.7, 0.8, 0.9, 1. ])"
            ]
          },
          "metadata": {},
          "execution_count": 6
        }
      ],
      "source": [
        "arr1d/10"
      ]
    },
    {
      "cell_type": "code",
      "execution_count": null,
      "metadata": {
        "colab": {
          "base_uri": "https://localhost:8080/"
        },
        "id": "D0MactKgisUX",
        "outputId": "3fdf569d-6fb9-4da0-baaa-373acf7a5f2d"
      },
      "outputs": [
        {
          "output_type": "execute_result",
          "data": {
            "text/plain": [
              "array([ 3,  4,  5,  6,  7,  8,  9, 10, 11, 12])"
            ]
          },
          "metadata": {},
          "execution_count": 7
        }
      ],
      "source": [
        "arr1d +2"
      ]
    },
    {
      "cell_type": "code",
      "execution_count": null,
      "metadata": {
        "colab": {
          "base_uri": "https://localhost:8080/"
        },
        "id": "LuxP3gCDisUX",
        "outputId": "b55dde2e-d9bc-4fb2-d43a-2974149bcf3f"
      },
      "outputs": [
        {
          "output_type": "execute_result",
          "data": {
            "text/plain": [
              "array([-1,  0,  1,  2,  3,  4,  5,  6,  7,  8])"
            ]
          },
          "metadata": {},
          "execution_count": 8
        }
      ],
      "source": [
        "arr1d - 2"
      ]
    },
    {
      "cell_type": "code",
      "execution_count": null,
      "metadata": {
        "colab": {
          "base_uri": "https://localhost:8080/"
        },
        "id": "JPrpWj6jisUX",
        "outputId": "ab6e9051-10b8-4d0b-fe8e-8ebf4925a731"
      },
      "outputs": [
        {
          "output_type": "execute_result",
          "data": {
            "text/plain": [
              "array([1, 0, 1, 0, 1, 0, 1, 0, 1, 0])"
            ]
          },
          "metadata": {},
          "execution_count": 9
        }
      ],
      "source": [
        "arr1d % 2"
      ]
    },
    {
      "cell_type": "code",
      "execution_count": null,
      "metadata": {
        "colab": {
          "base_uri": "https://localhost:8080/"
        },
        "id": "sU_XM5F1isUX",
        "outputId": "a5148e17-4d01-49c0-a1cd-68b15b4e5d9d"
      },
      "outputs": [
        {
          "output_type": "execute_result",
          "data": {
            "text/plain": [
              "10"
            ]
          },
          "metadata": {},
          "execution_count": 10
        }
      ],
      "source": [
        "arr1d.size"
      ]
    },
    {
      "cell_type": "code",
      "execution_count": null,
      "metadata": {
        "colab": {
          "base_uri": "https://localhost:8080/"
        },
        "id": "3og6oYB3isUX",
        "outputId": "e2c3545b-0d6e-4cce-d8cb-dbb048aab72d"
      },
      "outputs": [
        {
          "output_type": "execute_result",
          "data": {
            "text/plain": [
              "1"
            ]
          },
          "metadata": {},
          "execution_count": 11
        }
      ],
      "source": [
        "arr1d.ndim #attribute of NumPy array that describes the no of dimensions"
      ]
    },
    {
      "cell_type": "code",
      "execution_count": null,
      "metadata": {
        "colab": {
          "base_uri": "https://localhost:8080/"
        },
        "id": "m-5samIyisUY",
        "outputId": "9d3e6322-2fbf-4463-f144-5a58328a6b39"
      },
      "outputs": [
        {
          "output_type": "execute_result",
          "data": {
            "text/plain": [
              "(10,)"
            ]
          },
          "metadata": {},
          "execution_count": 12
        }
      ],
      "source": [
        "arr1d.shape"
      ]
    },
    {
      "cell_type": "code",
      "execution_count": null,
      "metadata": {
        "colab": {
          "base_uri": "https://localhost:8080/"
        },
        "id": "5Ee2RWCaisUY",
        "outputId": "64827e74-3242-4937-b0ac-a8297511a351"
      },
      "outputs": [
        {
          "output_type": "execute_result",
          "data": {
            "text/plain": [
              "array([0, 1, 2, 3, 4, 5, 6, 7, 8, 9])"
            ]
          },
          "metadata": {},
          "execution_count": 13
        }
      ],
      "source": [
        "#Using numpy arange\n",
        "arr1d = np.arange(10)\n",
        "arr1d"
      ]
    },
    {
      "cell_type": "code",
      "execution_count": null,
      "metadata": {
        "colab": {
          "base_uri": "https://localhost:8080/"
        },
        "id": "63uk6_b4isUY",
        "outputId": "392fccb8-5d77-4f0b-a899-027474547376"
      },
      "outputs": [
        {
          "output_type": "execute_result",
          "data": {
            "text/plain": [
              "[[1, 2, 3], [11, 22, 33], [111, 222, 333]]"
            ]
          },
          "metadata": {},
          "execution_count": 14
        }
      ],
      "source": [
        "#2dArray from python list\n",
        "lst2d = [[1,2,3],[11,22,33],[111,222,333]]\n",
        "lst2d"
      ]
    },
    {
      "cell_type": "code",
      "execution_count": null,
      "metadata": {
        "colab": {
          "base_uri": "https://localhost:8080/"
        },
        "id": "0SGQ-QyiisUY",
        "outputId": "0ab83aae-269e-4d4c-e18a-210c64c38256"
      },
      "outputs": [
        {
          "output_type": "execute_result",
          "data": {
            "text/plain": [
              "array([[  1,   2,   3],\n",
              "       [ 11,  22,  33],\n",
              "       [111, 222, 333]])"
            ]
          },
          "metadata": {},
          "execution_count": 15
        }
      ],
      "source": [
        "arr2d = np.array(lst2d)\n",
        "arr2d"
      ]
    },
    {
      "cell_type": "code",
      "execution_count": null,
      "metadata": {
        "colab": {
          "base_uri": "https://localhost:8080/"
        },
        "id": "OUov1xdMisUY",
        "outputId": "d847ca4a-71ee-4e69-8a69-d0c50f36eda2"
      },
      "outputs": [
        {
          "output_type": "execute_result",
          "data": {
            "text/plain": [
              "2"
            ]
          },
          "metadata": {},
          "execution_count": 16
        }
      ],
      "source": [
        "arr2d.ndim"
      ]
    },
    {
      "cell_type": "code",
      "execution_count": null,
      "metadata": {
        "colab": {
          "base_uri": "https://localhost:8080/"
        },
        "id": "RgYpfU2IisUY",
        "outputId": "a87b6a6f-e51a-4982-cb78-b3d0e9086481"
      },
      "outputs": [
        {
          "output_type": "execute_result",
          "data": {
            "text/plain": [
              "(3, 3)"
            ]
          },
          "metadata": {},
          "execution_count": 17
        }
      ],
      "source": [
        "arr2d.shape"
      ]
    },
    {
      "cell_type": "code",
      "execution_count": null,
      "metadata": {
        "colab": {
          "base_uri": "https://localhost:8080/"
        },
        "id": "zKgLpU1wisUY",
        "outputId": "2e68cb3c-ed4b-40a7-f92a-9fbd89bf0b0a"
      },
      "outputs": [
        {
          "output_type": "execute_result",
          "data": {
            "text/plain": [
              "array([[ 0,  1,  2,  3,  4,  5,  6,  7,  8],\n",
              "       [ 9, 10, 11, 12, 13, 14, 15, 16, 17],\n",
              "       [18, 19, 20, 21, 22, 23, 24, 25, 26],\n",
              "       [27, 28, 29, 30, 31, 32, 33, 34, 35]])"
            ]
          },
          "metadata": {},
          "execution_count": 18
        }
      ],
      "source": [
        "arr2d = np.arange(36).reshape(4,9)\n",
        "arr2d"
      ]
    },
    {
      "cell_type": "code",
      "execution_count": null,
      "metadata": {
        "colab": {
          "base_uri": "https://localhost:8080/"
        },
        "id": "sBNC2tbfisUZ",
        "outputId": "77a031fc-6dc9-472e-f3f2-766826d0d845"
      },
      "outputs": [
        {
          "output_type": "execute_result",
          "data": {
            "text/plain": [
              "array([[ 0,  1,  2,  3],\n",
              "       [ 4,  5,  6,  7],\n",
              "       [ 8,  9, 10, 11],\n",
              "       [12, 13, 14, 15],\n",
              "       [16, 17, 18, 19],\n",
              "       [20, 21, 22, 23],\n",
              "       [24, 25, 26, 27],\n",
              "       [28, 29, 30, 31],\n",
              "       [32, 33, 34, 35]])"
            ]
          },
          "metadata": {},
          "execution_count": 19
        }
      ],
      "source": [
        "arr2d = np.arange(36).reshape(9,4)\n",
        "arr2d"
      ]
    },
    {
      "cell_type": "code",
      "execution_count": null,
      "metadata": {
        "colab": {
          "base_uri": "https://localhost:8080/"
        },
        "id": "5-Tav-I2isUZ",
        "outputId": "a9b29b99-5a6e-4f7c-e4b0-986cb19cdc19"
      },
      "outputs": [
        {
          "output_type": "execute_result",
          "data": {
            "text/plain": [
              "array([0, 1, 2, 3, 4, 5, 6, 7, 8, 9])"
            ]
          },
          "metadata": {},
          "execution_count": 20
        }
      ],
      "source": [
        "arr1d"
      ]
    },
    {
      "cell_type": "code",
      "execution_count": null,
      "metadata": {
        "colab": {
          "base_uri": "https://localhost:8080/"
        },
        "id": "TEV0CL8-isUZ",
        "outputId": "a6ed7162-6a59-4c3e-ba04-60e9cfa00b88"
      },
      "outputs": [
        {
          "output_type": "execute_result",
          "data": {
            "text/plain": [
              "7"
            ]
          },
          "metadata": {},
          "execution_count": 21
        }
      ],
      "source": [
        "arr1d[7]"
      ]
    },
    {
      "cell_type": "code",
      "execution_count": null,
      "metadata": {
        "colab": {
          "base_uri": "https://localhost:8080/"
        },
        "id": "Wtp3mXL2isUZ",
        "outputId": "f4feb2c9-028e-45f7-9b85-24f58c92700e"
      },
      "outputs": [
        {
          "output_type": "execute_result",
          "data": {
            "text/plain": [
              "array([4])"
            ]
          },
          "metadata": {},
          "execution_count": 22
        }
      ],
      "source": [
        "arr1d[4:5]"
      ]
    },
    {
      "cell_type": "markdown",
      "source": [
        "Okay, let's break down the code arr1d[4:8]:\n",
        "\n",
        "arr1d: This is the name of your NumPy array, likely a one-dimensional array (1D) based on its name. It stores a sequence of numerical values.\n",
        "\n",
        "\n",
        "[4:8]: This part is called slicing. It is used to select a portion of the array arr1d. Let's understand the numbers within the brackets:\n",
        "\n",
        "\n",
        "4: This is the starting index of the slice. It means the selection begins from the element at index 4 within arr1d. Remember that Python uses zero-based indexing, so the first element is at index 0, the second at index 1, and so on.\n",
        "\n",
        "\n",
        "8: This is the ending index of the slice. It indicates that the selection should go up to, but not include, the element at index 8.\n",
        "\n",
        "\n",
        "In simpler terms, arr1d[4:8] extracts a sub-array from arr1d, containing elements from index 4 up to (but excluding) index 8. This would give you elements at indices 4, 5, 6, and 7 of the original arr1d array.\n",
        "\n",
        "Example:\n",
        "\n",
        "If arr1d contains the values [10, 20, 30, 40, 50, 60, 70, 80, 90, 100], then arr1d[4:8] would result in a new array: [50, 60, 70, 80]."
      ],
      "metadata": {
        "id": "DHzVZCKbwcnT"
      }
    },
    {
      "cell_type": "code",
      "execution_count": null,
      "metadata": {
        "colab": {
          "base_uri": "https://localhost:8080/"
        },
        "id": "JZzutG1IisUZ",
        "outputId": "6a93f5b8-fd40-40c0-a612-852cb5bced97"
      },
      "outputs": [
        {
          "output_type": "execute_result",
          "data": {
            "text/plain": [
              "3"
            ]
          },
          "metadata": {},
          "execution_count": 23
        }
      ],
      "source": [
        "arr1d[-7]"
      ]
    },
    {
      "cell_type": "markdown",
      "source": [
        "[-1]: This part uses negative indexing to access elements within the array. In Python and NumPy, negative indices count backward from the end of the array.\n",
        "In simpler terms, arr1d[-1] selects the last element of the arr1d array."
      ],
      "metadata": {
        "id": "SFIc4kNWw11t"
      }
    },
    {
      "cell_type": "code",
      "execution_count": null,
      "metadata": {
        "colab": {
          "base_uri": "https://localhost:8080/"
        },
        "id": "LoI2KdMwisUZ",
        "outputId": "dffeec97-33d1-4299-c069-8b1813868084"
      },
      "outputs": [
        {
          "output_type": "execute_result",
          "data": {
            "text/plain": [
              "5"
            ]
          },
          "metadata": {},
          "execution_count": 24
        }
      ],
      "source": [
        "arr1d[5]"
      ]
    },
    {
      "cell_type": "code",
      "execution_count": null,
      "metadata": {
        "colab": {
          "base_uri": "https://localhost:8080/"
        },
        "id": "VTGTjHGsisUa",
        "outputId": "423b68a4-e880-4224-90f2-7de68999fd57"
      },
      "outputs": [
        {
          "output_type": "execute_result",
          "data": {
            "text/plain": [
              "array([5])"
            ]
          },
          "metadata": {},
          "execution_count": 25
        }
      ],
      "source": [
        "arr1d[5:6]"
      ]
    },
    {
      "cell_type": "code",
      "execution_count": null,
      "metadata": {
        "colab": {
          "base_uri": "https://localhost:8080/"
        },
        "id": "i3pgPJFcisUa",
        "outputId": "9ba1aecb-ba65-48bd-e903-4874c2308f0f"
      },
      "outputs": [
        {
          "output_type": "execute_result",
          "data": {
            "text/plain": [
              "array([[ 0,  1,  2,  3],\n",
              "       [ 4,  5,  6,  7],\n",
              "       [ 8,  9, 10, 11],\n",
              "       [12, 13, 14, 15],\n",
              "       [16, 17, 18, 19],\n",
              "       [20, 21, 22, 23],\n",
              "       [24, 25, 26, 27],\n",
              "       [28, 29, 30, 31],\n",
              "       [32, 33, 34, 35]])"
            ]
          },
          "metadata": {},
          "execution_count": 26
        }
      ],
      "source": [
        "arr2d"
      ]
    },
    {
      "cell_type": "code",
      "execution_count": null,
      "metadata": {
        "colab": {
          "base_uri": "https://localhost:8080/"
        },
        "id": "pUB-hTA9isUa",
        "outputId": "b4323373-4e64-47b5-b7c5-ccb6835819c1"
      },
      "outputs": [
        {
          "output_type": "execute_result",
          "data": {
            "text/plain": [
              "array([[ 0,  1,  2,  3,  4,  5,  6,  7,  8],\n",
              "       [ 9, 10, 11, 12, 13, 14, 15, 16, 17],\n",
              "       [18, 19, 20, 21, 22, 23, 24, 25, 26],\n",
              "       [27, 28, 29, 30, 31, 32, 33, 34, 35]])"
            ]
          },
          "metadata": {},
          "execution_count": 27
        }
      ],
      "source": [
        "arr2d.reshape(4,9)"
      ]
    },
    {
      "cell_type": "code",
      "execution_count": null,
      "metadata": {
        "colab": {
          "base_uri": "https://localhost:8080/"
        },
        "id": "-qQ15mvtisUa",
        "outputId": "60df50b8-7555-40f3-e4fd-e2547cb67baa"
      },
      "outputs": [
        {
          "output_type": "execute_result",
          "data": {
            "text/plain": [
              "array([[ 0,  1,  2,  3],\n",
              "       [ 4,  5,  6,  7],\n",
              "       [ 8,  9, 10, 11],\n",
              "       [12, 13, 14, 15],\n",
              "       [16, 17, 18, 19],\n",
              "       [20, 21, 22, 23],\n",
              "       [24, 25, 26, 27],\n",
              "       [28, 29, 30, 31],\n",
              "       [32, 33, 34, 35]])"
            ]
          },
          "metadata": {},
          "execution_count": 28
        }
      ],
      "source": [
        "arr2d"
      ]
    },
    {
      "cell_type": "code",
      "execution_count": null,
      "metadata": {
        "id": "9lWnYfWLisUa"
      },
      "outputs": [],
      "source": [
        "arr2d = arr2d.reshape(4,9)"
      ]
    },
    {
      "cell_type": "code",
      "execution_count": null,
      "metadata": {
        "colab": {
          "base_uri": "https://localhost:8080/"
        },
        "id": "qVJWjY9pisUa",
        "outputId": "4706e893-7970-416e-9898-dafe737c9e2c"
      },
      "outputs": [
        {
          "output_type": "execute_result",
          "data": {
            "text/plain": [
              "array([[ 0,  1,  2,  3,  4,  5,  6,  7,  8],\n",
              "       [ 9, 10, 11, 12, 13, 14, 15, 16, 17],\n",
              "       [18, 19, 20, 21, 22, 23, 24, 25, 26],\n",
              "       [27, 28, 29, 30, 31, 32, 33, 34, 35]])"
            ]
          },
          "metadata": {},
          "execution_count": 30
        }
      ],
      "source": [
        "arr2d"
      ]
    },
    {
      "cell_type": "code",
      "execution_count": null,
      "metadata": {
        "colab": {
          "base_uri": "https://localhost:8080/"
        },
        "id": "ozx6ZH52isUa",
        "outputId": "a9f1e2df-0975-4b3a-8f19-a62c0fbc98ed"
      },
      "outputs": [
        {
          "output_type": "execute_result",
          "data": {
            "text/plain": [
              "23"
            ]
          },
          "metadata": {},
          "execution_count": 31
        }
      ],
      "source": [
        "# index value 23 from arr2d\n",
        "arr2d[2][5]"
      ]
    },
    {
      "cell_type": "code",
      "execution_count": null,
      "metadata": {
        "colab": {
          "base_uri": "https://localhost:8080/"
        },
        "id": "a-oZnYQEisUb",
        "outputId": "57f9cbfc-fa9c-4022-f2af-3c4f9657a06b"
      },
      "outputs": [
        {
          "output_type": "execute_result",
          "data": {
            "text/plain": [
              "23"
            ]
          },
          "metadata": {},
          "execution_count": 32
        }
      ],
      "source": [
        "arr2d[2,5]"
      ]
    },
    {
      "cell_type": "code",
      "execution_count": null,
      "metadata": {
        "colab": {
          "base_uri": "https://localhost:8080/"
        },
        "id": "j8elSbIPisUb",
        "outputId": "809eb705-ba8e-4e1d-aee8-a56dc87d29fe"
      },
      "outputs": [
        {
          "output_type": "stream",
          "name": "stdout",
          "text": [
            "[[ 0  1  2  3  4  5  6  7  8]\n",
            " [ 9 10 11 12 13 14 15 16 17]\n",
            " [18 19 20 21 22 23 24 25 26]\n",
            " [27 28 29 30 31 32 33 34 35]]\n"
          ]
        },
        {
          "output_type": "execute_result",
          "data": {
            "text/plain": [
              "array([[11, 12, 13, 14, 15]])"
            ]
          },
          "metadata": {},
          "execution_count": 33
        }
      ],
      "source": [
        "# arr2d[row,col]  >>> [startrow:endrow,statcol:endcol]\n",
        "print(arr2d)\n",
        "arr2d[1:2,2:7]\n",
        "#Slice"
      ]
    },
    {
      "cell_type": "markdown",
      "source": [
        "[1:2, 2:7]: This part is doing slicing to select a specific portion of the arr2d array. The slicing happens in two dimensions separated by a comma:\n",
        "\n",
        "1:2: This selects the rows. It means, \"Start from row with index 1 (the second row, as indexing starts from 0) and go up to, but not include, row with index 2.\" In other words, it selects only row 1.\n",
        "\n",
        "2:7: This selects the columns. It means, \"Start from the column with index 2 (the third column) and go up to, but not include, the column with index 7.\" In other words, it selects columns with indices 2, 3, 4, 5, and 6"
      ],
      "metadata": {
        "id": "kfTU1HRdy49O"
      }
    },
    {
      "cell_type": "code",
      "execution_count": null,
      "metadata": {
        "colab": {
          "base_uri": "https://localhost:8080/"
        },
        "id": "hqM9Mos0isUb",
        "outputId": "e1b537d1-d2aa-4ea7-f50d-7f95d17d010b"
      },
      "outputs": [
        {
          "output_type": "stream",
          "name": "stdout",
          "text": [
            "[[ 0  1  2  3  4  5  6  7  8]\n",
            " [ 9 10 11 12 13 14 15 16 17]\n",
            " [18 19 20 21 22 23 24 25 26]\n",
            " [27 28 29 30 31 32 33 34 35]]\n"
          ]
        },
        {
          "output_type": "execute_result",
          "data": {
            "text/plain": [
              "array([[14, 15],\n",
              "       [23, 24]])"
            ]
          },
          "metadata": {},
          "execution_count": 34
        }
      ],
      "source": [
        "print(arr2d)\n",
        "arr2d[1:3,5:7]"
      ]
    },
    {
      "cell_type": "code",
      "execution_count": null,
      "metadata": {
        "colab": {
          "base_uri": "https://localhost:8080/"
        },
        "id": "eeKBs7ckisUc",
        "outputId": "f53c8b52-73d7-4ca9-9d0e-255ba30f4282"
      },
      "outputs": [
        {
          "output_type": "execute_result",
          "data": {
            "text/plain": [
              "array([[ 6,  7,  8],\n",
              "       [15, 16, 17],\n",
              "       [24, 25, 26],\n",
              "       [33, 34, 35]])"
            ]
          },
          "metadata": {},
          "execution_count": 35
        }
      ],
      "source": [
        "arr2d[0:4, 6:9]"
      ]
    },
    {
      "cell_type": "code",
      "execution_count": null,
      "metadata": {
        "colab": {
          "base_uri": "https://localhost:8080/"
        },
        "id": "el075y6FisUc",
        "outputId": "018bb3e2-b2d2-4bd0-fa58-c1f9fa9ce43b"
      },
      "outputs": [
        {
          "output_type": "execute_result",
          "data": {
            "text/plain": [
              "array([[ 6,  7,  8],\n",
              "       [15, 16, 17],\n",
              "       [24, 25, 26],\n",
              "       [33, 34, 35]])"
            ]
          },
          "metadata": {},
          "execution_count": 36
        }
      ],
      "source": [
        "arr2d[:, 6:]"
      ]
    },
    {
      "cell_type": "code",
      "execution_count": null,
      "metadata": {
        "colab": {
          "base_uri": "https://localhost:8080/"
        },
        "id": "vvTyv4FIisUc",
        "outputId": "e4a79f83-5c35-4411-8293-896e8cee629f"
      },
      "outputs": [
        {
          "output_type": "execute_result",
          "data": {
            "text/plain": [
              "array([22, 23, 24])"
            ]
          },
          "metadata": {},
          "execution_count": 37
        }
      ],
      "source": [
        "arr2d[2,4:7]\n"
      ]
    },
    {
      "cell_type": "code",
      "execution_count": null,
      "metadata": {
        "colab": {
          "base_uri": "https://localhost:8080/"
        },
        "id": "aks3Yq6DisUc",
        "outputId": "19213c09-a495-4547-c1f0-0b2c4c57b0f3"
      },
      "outputs": [
        {
          "output_type": "stream",
          "name": "stdout",
          "text": [
            "[[ 0  1  2  3  4  5  6  7  8]\n",
            " [ 9 10 11 12 13 14 15 16 17]\n",
            " [18 19 20 21 22 23 24 25 26]\n",
            " [27 28 29 30 31 32 33 34 35]]\n"
          ]
        },
        {
          "output_type": "execute_result",
          "data": {
            "text/plain": [
              "array([ 8, 17, 26, 35])"
            ]
          },
          "metadata": {},
          "execution_count": 38
        }
      ],
      "source": [
        "print(arr2d)\n",
        "\n",
        "arr2d[:,-1]"
      ]
    },
    {
      "cell_type": "code",
      "execution_count": null,
      "metadata": {
        "colab": {
          "base_uri": "https://localhost:8080/"
        },
        "id": "-LnqHztXisUc",
        "outputId": "e41af888-b543-4a2a-ba5f-230605170e2a"
      },
      "outputs": [
        {
          "output_type": "execute_result",
          "data": {
            "text/plain": [
              "array([[ 8],\n",
              "       [17],\n",
              "       [26],\n",
              "       [35]])"
            ]
          },
          "metadata": {},
          "execution_count": 39
        }
      ],
      "source": [
        "arr2d[:,8:]"
      ]
    },
    {
      "cell_type": "code",
      "execution_count": null,
      "metadata": {
        "colab": {
          "base_uri": "https://localhost:8080/"
        },
        "id": "rWghG8B_isUd",
        "outputId": "f456fb04-5055-4129-fc03-378afd45218d"
      },
      "outputs": [
        {
          "output_type": "stream",
          "name": "stdout",
          "text": [
            "[[ 0  1  2  3  4  5  6  7  8]\n",
            " [ 9 10 11 12 13 14 15 16 17]\n",
            " [18 19 20 21 22 23 24 25 26]\n",
            " [27 28 29 30 31 32 33 34 35]]\n"
          ]
        },
        {
          "output_type": "execute_result",
          "data": {
            "text/plain": [
              "array([[ 0,  3,  6],\n",
              "       [ 9, 12, 15],\n",
              "       [18, 21, 24],\n",
              "       [27, 30, 33]])"
            ]
          },
          "metadata": {},
          "execution_count": 40
        }
      ],
      "source": [
        "print(arr2d)\n",
        "\n",
        "arr2d[:,::3]"
      ]
    },
    {
      "cell_type": "markdown",
      "source": [
        "[:,::3]: This part uses slicing to select a subset of the array. It has three parts separated by colons:\n",
        "\n",
        ": (before the first colon): This selects all rows in the array.\n",
        "\n",
        ": (between the colons): This selects all columns in the array.\n",
        "\n",
        "3 (after the second colon): This defines the step size. It means it will select every third element along the columns (axis 1)."
      ],
      "metadata": {
        "id": "ZEMJUj8r07iW"
      }
    },
    {
      "cell_type": "code",
      "execution_count": null,
      "metadata": {
        "id": "nUC2vjsuisUd",
        "outputId": "4889d01c-39b2-47ce-c852-cd4285c4929f",
        "colab": {
          "base_uri": "https://localhost:8080/"
        }
      },
      "outputs": [
        {
          "output_type": "execute_result",
          "data": {
            "text/plain": [
              "array([[ 8,  6,  4,  2,  0],\n",
              "       [17, 15, 13, 11,  9],\n",
              "       [26, 24, 22, 20, 18],\n",
              "       [35, 33, 31, 29, 27]])"
            ]
          },
          "metadata": {},
          "execution_count": 41
        }
      ],
      "source": [
        "arr2d[:,::-2]"
      ]
    },
    {
      "cell_type": "code",
      "execution_count": null,
      "metadata": {
        "id": "lXuvaEBZisUd",
        "outputId": "e0962377-8cf3-440d-c8c6-fef9e222331f",
        "colab": {
          "base_uri": "https://localhost:8080/"
        }
      },
      "outputs": [
        {
          "output_type": "execute_result",
          "data": {
            "text/plain": [
              "array([0, 1, 2, 3, 4, 5, 6, 7, 8, 9])"
            ]
          },
          "metadata": {},
          "execution_count": 42
        }
      ],
      "source": [
        "np.arange(10)"
      ]
    },
    {
      "cell_type": "code",
      "execution_count": null,
      "metadata": {
        "colab": {
          "base_uri": "https://localhost:8080/"
        },
        "id": "bd5U0D40isUd",
        "outputId": "0c5a0a6e-12e3-4c5c-d317-8765a168ee99"
      },
      "outputs": [
        {
          "output_type": "execute_result",
          "data": {
            "text/plain": [
              "numpy.ndarray"
            ]
          },
          "metadata": {},
          "execution_count": 43
        }
      ],
      "source": [
        "type(np.arange(10))"
      ]
    },
    {
      "cell_type": "markdown",
      "source": [
        "The code type(np.arange(10)) is checking and returning the data type of the NumPy array created by np.arange(10). Since np.arange() creates NumPy arrays, the result of this code would be <class 'numpy.ndarray'>, indicating that it's a NumPy array object."
      ],
      "metadata": {
        "id": "9BFGJl8T1o9n"
      }
    },
    {
      "cell_type": "code",
      "execution_count": null,
      "metadata": {
        "colab": {
          "base_uri": "https://localhost:8080/"
        },
        "id": "8kfLwiMaisUd",
        "outputId": "384667f3-b066-48ee-ab19-dbf9181b08c0"
      },
      "outputs": [
        {
          "output_type": "execute_result",
          "data": {
            "text/plain": [
              "1"
            ]
          },
          "metadata": {},
          "execution_count": 44
        }
      ],
      "source": [
        "np.arange(10).ndim"
      ]
    },
    {
      "cell_type": "code",
      "execution_count": null,
      "metadata": {
        "colab": {
          "base_uri": "https://localhost:8080/"
        },
        "id": "JWkiC6bZisUd",
        "outputId": "b696b7d2-4bfd-47f1-a3fb-a5ac6da9e544"
      },
      "outputs": [
        {
          "output_type": "execute_result",
          "data": {
            "text/plain": [
              "(10,)"
            ]
          },
          "metadata": {},
          "execution_count": 45
        }
      ],
      "source": [
        "np.arange(10).shape"
      ]
    },
    {
      "cell_type": "code",
      "execution_count": null,
      "metadata": {
        "colab": {
          "base_uri": "https://localhost:8080/"
        },
        "id": "P7FXVqcCisUe",
        "outputId": "e77919ce-144c-49f0-900e-d41daf66651e"
      },
      "outputs": [
        {
          "output_type": "execute_result",
          "data": {
            "text/plain": [
              "array([[0, 1, 2, 3, 4, 5, 6, 7, 8, 9]])"
            ]
          },
          "metadata": {},
          "execution_count": 50
        }
      ],
      "source": [
        "np.arange(10).reshape(1,10)\n"
      ]
    },
    {
      "cell_type": "markdown",
      "source": [
        "np.arange(10): This part creates a 1-dimensional NumPy array using the np.arange() function.\n",
        "\n",
        "np.arange() is a NumPy function that generates a sequence of numbers within a given range. In this case, it creates an array with numbers from 0 to 9 (10 elements in total).\n",
        ".reshape(1, 10): This part is chained to the array created by np.arange(10). It uses the .reshape() method to change the shape of the array.\n",
        "\n",
        ".reshape() is a method that allows you to modify the dimensions of a NumPy array without changing its data.\n",
        "(1, 10) specifies the new desired shape of the array. This means we want to transform the 1-dimensional array into a 2-dimensional array with 1 row and 10 columns.\n",
        "In simpler terms:\n",
        "\n",
        "The code np.arange(10).reshape(1,10) first creates a simple array of numbers from 0 to 9. Then, it takes this array and reshapes it into a 2-dimensional array with 1 row and 10 columns, essentially turning it into a row vector."
      ],
      "metadata": {
        "id": "NkE0UCwx2TRB"
      }
    },
    {
      "cell_type": "code",
      "execution_count": null,
      "metadata": {
        "colab": {
          "base_uri": "https://localhost:8080/"
        },
        "id": "9Jy-I5TJisUe",
        "outputId": "f33e1618-bc7d-47c8-ff6a-3c683459e821"
      },
      "outputs": [
        {
          "output_type": "execute_result",
          "data": {
            "text/plain": [
              "numpy.ndarray"
            ]
          },
          "metadata": {},
          "execution_count": 51
        }
      ],
      "source": [
        "type(np.arange(10).reshape(1,10))"
      ]
    },
    {
      "cell_type": "code",
      "execution_count": null,
      "metadata": {
        "colab": {
          "base_uri": "https://localhost:8080/"
        },
        "id": "7D-twbh1isUe",
        "outputId": "9769db9a-963b-4854-8cea-b47dee262853"
      },
      "outputs": [
        {
          "output_type": "execute_result",
          "data": {
            "text/plain": [
              "2"
            ]
          },
          "metadata": {},
          "execution_count": 52
        }
      ],
      "source": [
        "np.arange(10).reshape(1,10).ndim"
      ]
    },
    {
      "cell_type": "code",
      "execution_count": null,
      "metadata": {
        "colab": {
          "base_uri": "https://localhost:8080/"
        },
        "id": "XyNxU-jJisUg",
        "outputId": "439b55b0-4fd3-4524-ba55-3326eb4492b9"
      },
      "outputs": [
        {
          "output_type": "execute_result",
          "data": {
            "text/plain": [
              "(1, 10)"
            ]
          },
          "metadata": {},
          "execution_count": 53
        }
      ],
      "source": [
        "np.arange(10).reshape(1,10).shape"
      ]
    },
    {
      "cell_type": "code",
      "execution_count": null,
      "metadata": {
        "colab": {
          "base_uri": "https://localhost:8080/"
        },
        "id": "1TgLIiPaisUi",
        "outputId": "e30210ae-1e16-4fa0-855e-c7a58c5f8884"
      },
      "outputs": [
        {
          "output_type": "execute_result",
          "data": {
            "text/plain": [
              "array([[19]])"
            ]
          },
          "metadata": {},
          "execution_count": 54
        }
      ],
      "source": [
        "np.array([[19]])"
      ]
    },
    {
      "cell_type": "code",
      "execution_count": null,
      "metadata": {
        "colab": {
          "base_uri": "https://localhost:8080/"
        },
        "id": "lk8IEU3JisUk",
        "outputId": "38296b87-9818-4da2-f771-e48fef9740a3"
      },
      "outputs": [
        {
          "output_type": "execute_result",
          "data": {
            "text/plain": [
              "array([[19,  1,  2],\n",
              "       [ 4,  5,  6]])"
            ]
          },
          "metadata": {},
          "execution_count": 55
        }
      ],
      "source": [
        "np.array([[19,1, 2], [4, 5, 6]])"
      ]
    },
    {
      "cell_type": "code",
      "execution_count": null,
      "metadata": {
        "colab": {
          "base_uri": "https://localhost:8080/"
        },
        "id": "fMT42l_fisUn",
        "outputId": "2dd64c7f-ea30-4d39-a976-ab2bd82118ed"
      },
      "outputs": [
        {
          "output_type": "execute_result",
          "data": {
            "text/plain": [
              "array([[ 0,  1,  2,  3,  4,  5,  6,  7,  8],\n",
              "       [ 9, 10, 11, 12, 13, 14, 15, 16, 17],\n",
              "       [18, 19, 20, 21, 22, 23, 24, 25, 26],\n",
              "       [27, 28, 29, 30, 31, 32, 33, 34, 35]])"
            ]
          },
          "metadata": {},
          "execution_count": 56
        }
      ],
      "source": [
        "arr2d"
      ]
    },
    {
      "cell_type": "code",
      "execution_count": null,
      "metadata": {
        "colab": {
          "base_uri": "https://localhost:8080/"
        },
        "id": "Iha8gx6KisUo",
        "outputId": "82be4793-9da4-4024-a59e-ddc33fbafe6a"
      },
      "outputs": [
        {
          "output_type": "execute_result",
          "data": {
            "text/plain": [
              "array([ 2, 25])"
            ]
          },
          "metadata": {},
          "execution_count": 57
        }
      ],
      "source": [
        "# Fancy Indexing\n",
        "arr2d[[0,2],[2,7]]\n"
      ]
    },
    {
      "cell_type": "markdown",
      "source": [
        "[[0,2],[2,7]]: This part provides the indices for selection. It consists of two lists:\n",
        "\n",
        "[0,2]: This list specifies the row indices you want to access. In this case, it indicates you want to select elements from rows 0 and 2 of arr2d.\n",
        "[2,7]: This list specifies the column indices corresponding to the selected rows. It indicates that you want to select elements from column 2 of row 0 and column 7 of row 2.\n",
        "Fancy Indexing Logic: NumPy uses these lists to perform the selection. It pairs the corresponding elements from the row and column index lists. So, it selects the element at:\n",
        "\n",
        "arr2d[0,2] (row 0, column 2)\n",
        "arr2d[2,7] (row 2, column 7)\n",
        "In essence, fancy indexing allows you to pick out specific elements from an array using lists of indices instead of sequential slicing. It's a flexible way to access data in non-contiguous locations within your array."
      ],
      "metadata": {
        "id": "gK4gy8Sh8YjS"
      }
    },
    {
      "cell_type": "code",
      "execution_count": null,
      "metadata": {
        "id": "B_zT2uGjisUp"
      },
      "outputs": [],
      "source": [
        "arr3d = np.arange(80).reshape(5,4,4)"
      ]
    },
    {
      "cell_type": "code",
      "execution_count": null,
      "metadata": {
        "colab": {
          "base_uri": "https://localhost:8080/"
        },
        "id": "iNZfokRqisUq",
        "outputId": "f54311a9-3b90-4fa7-e359-3cc5bf2b7b03"
      },
      "outputs": [
        {
          "output_type": "execute_result",
          "data": {
            "text/plain": [
              "array([[[ 0,  1,  2,  3],\n",
              "        [ 4,  5,  6,  7],\n",
              "        [ 8,  9, 10, 11],\n",
              "        [12, 13, 14, 15]],\n",
              "\n",
              "       [[16, 17, 18, 19],\n",
              "        [20, 21, 22, 23],\n",
              "        [24, 25, 26, 27],\n",
              "        [28, 29, 30, 31]],\n",
              "\n",
              "       [[32, 33, 34, 35],\n",
              "        [36, 37, 38, 39],\n",
              "        [40, 41, 42, 43],\n",
              "        [44, 45, 46, 47]],\n",
              "\n",
              "       [[48, 49, 50, 51],\n",
              "        [52, 53, 54, 55],\n",
              "        [56, 57, 58, 59],\n",
              "        [60, 61, 62, 63]],\n",
              "\n",
              "       [[64, 65, 66, 67],\n",
              "        [68, 69, 70, 71],\n",
              "        [72, 73, 74, 75],\n",
              "        [76, 77, 78, 79]]])"
            ]
          },
          "metadata": {},
          "execution_count": 66
        }
      ],
      "source": [
        "arr3d"
      ]
    },
    {
      "cell_type": "code",
      "execution_count": null,
      "metadata": {
        "id": "GOBEzqOQisUq",
        "outputId": "5687216b-615b-450a-ba78-afb778e059ab",
        "colab": {
          "base_uri": "https://localhost:8080/"
        }
      },
      "outputs": [
        {
          "output_type": "execute_result",
          "data": {
            "text/plain": [
              "26"
            ]
          },
          "metadata": {},
          "execution_count": 67
        }
      ],
      "source": [
        "arr3d[1][2][2]"
      ]
    },
    {
      "cell_type": "code",
      "execution_count": null,
      "metadata": {
        "id": "RkUz8Uh7isUr",
        "outputId": "6f679758-20fe-46ef-980d-a29b8b94a016",
        "colab": {
          "base_uri": "https://localhost:8080/"
        }
      },
      "outputs": [
        {
          "output_type": "execute_result",
          "data": {
            "text/plain": [
              "55"
            ]
          },
          "metadata": {},
          "execution_count": 68
        }
      ],
      "source": [
        "arr3d[3][1][3]"
      ]
    },
    {
      "cell_type": "code",
      "execution_count": null,
      "metadata": {
        "colab": {
          "base_uri": "https://localhost:8080/"
        },
        "id": "nx-cwHjYisUs",
        "outputId": "8dca490b-bfb3-45da-e915-f11a66e34380"
      },
      "outputs": [
        {
          "output_type": "stream",
          "name": "stdout",
          "text": [
            "[[[ 0  1  2  3]\n",
            "  [ 4  5  6  7]\n",
            "  [ 8  9 10 11]\n",
            "  [12 13 14 15]]\n",
            "\n",
            " [[16 17 18 19]\n",
            "  [20 21 22 23]\n",
            "  [24 25 26 27]\n",
            "  [28 29 30 31]]\n",
            "\n",
            " [[32 33 34 35]\n",
            "  [36 37 38 39]\n",
            "  [40 41 42 43]\n",
            "  [44 45 46 47]]\n",
            "\n",
            " [[48 49 50 51]\n",
            "  [52 53 54 55]\n",
            "  [56 57 58 59]\n",
            "  [60 61 62 63]]\n",
            "\n",
            " [[64 65 66 67]\n",
            "  [68 69 70 71]\n",
            "  [72 73 74 75]\n",
            "  [76 77 78 79]]]\n"
          ]
        },
        {
          "output_type": "execute_result",
          "data": {
            "text/plain": [
              "array([[[32, 33, 34],\n",
              "        [36, 37, 38],\n",
              "        [40, 41, 42]]])"
            ]
          },
          "metadata": {},
          "execution_count": 69
        }
      ],
      "source": [
        "print(arr3d)\n",
        "arr3d[2:3, :3, :3]"
      ]
    },
    {
      "cell_type": "code",
      "execution_count": null,
      "metadata": {
        "id": "MxeDf9kzisUt",
        "outputId": "1128539f-f6ac-41f6-c089-10e66c7f9a2a",
        "colab": {
          "base_uri": "https://localhost:8080/"
        }
      },
      "outputs": [
        {
          "output_type": "stream",
          "name": "stdout",
          "text": [
            "[[[ 0  1  2  3]\n",
            "  [ 4  5  6  7]\n",
            "  [ 8  9 10 11]\n",
            "  [12 13 14 15]]\n",
            "\n",
            " [[16 17 18 19]\n",
            "  [20 21 22 23]\n",
            "  [24 25 26 27]\n",
            "  [28 29 30 31]]\n",
            "\n",
            " [[32 33 34 35]\n",
            "  [36 37 38 39]\n",
            "  [40 41 42 43]\n",
            "  [44 45 46 47]]\n",
            "\n",
            " [[48 49 50 51]\n",
            "  [52 53 54 55]\n",
            "  [56 57 58 59]\n",
            "  [60 61 62 63]]\n",
            "\n",
            " [[64 65 66 67]\n",
            "  [68 69 70 71]\n",
            "  [72 73 74 75]\n",
            "  [76 77 78 79]]]\n"
          ]
        },
        {
          "output_type": "execute_result",
          "data": {
            "text/plain": [
              "array([[[ 0,  1,  2],\n",
              "        [ 4,  5,  6],\n",
              "        [ 8,  9, 10]]])"
            ]
          },
          "metadata": {},
          "execution_count": 82
        }
      ],
      "source": [
        "#arr3d = np.arange(32).reshape(2,4,4)\n",
        "print(arr3d)\n",
        "arr3d[0:1, :3, :3]"
      ]
    },
    {
      "cell_type": "code",
      "execution_count": null,
      "metadata": {
        "colab": {
          "base_uri": "https://localhost:8080/"
        },
        "id": "EF1M1mO7isUu",
        "outputId": "cdc7121d-832c-4cf4-d4a7-cfd0531f2300"
      },
      "outputs": [
        {
          "output_type": "execute_result",
          "data": {
            "text/plain": [
              "array([[32, 36, 40]])"
            ]
          },
          "metadata": {},
          "execution_count": 86
        }
      ],
      "source": [
        "arr3d[2:3, :3, 0]"
      ]
    },
    {
      "cell_type": "code",
      "execution_count": null,
      "metadata": {
        "id": "RcSF1kwnisUu",
        "outputId": "b9ac1941-dc4c-4b2a-87ed-20cbd28421a1",
        "colab": {
          "base_uri": "https://localhost:8080/"
        }
      },
      "outputs": [
        {
          "output_type": "execute_result",
          "data": {
            "text/plain": [
              "(1, 3)"
            ]
          },
          "metadata": {},
          "execution_count": 88
        }
      ],
      "source": [
        "arr3d[2:3, :3, 0].shape"
      ]
    },
    {
      "cell_type": "code",
      "execution_count": null,
      "metadata": {
        "id": "Y5i2LjQnisUv",
        "outputId": "3fd88669-63f7-45c7-926c-e73ec355b3e1",
        "colab": {
          "base_uri": "https://localhost:8080/"
        }
      },
      "outputs": [
        {
          "output_type": "execute_result",
          "data": {
            "text/plain": [
              "array([[[53, 54],\n",
              "        [57, 58]]])"
            ]
          },
          "metadata": {},
          "execution_count": 87
        }
      ],
      "source": [
        "arr3d[3:4,1:3,1:3]"
      ]
    },
    {
      "cell_type": "code",
      "execution_count": null,
      "metadata": {
        "id": "oxMy65PYisUv",
        "outputId": "297cf18b-ec31-41a4-8c3e-71c1eb3e9904",
        "colab": {
          "base_uri": "https://localhost:8080/"
        }
      },
      "outputs": [
        {
          "output_type": "execute_result",
          "data": {
            "text/plain": [
              "3"
            ]
          },
          "metadata": {},
          "execution_count": 90
        }
      ],
      "source": [
        "arr3d[:,2:3,1:3].ndim"
      ]
    },
    {
      "cell_type": "code",
      "execution_count": null,
      "metadata": {
        "id": "eVk-8UcDisUv",
        "outputId": "dc9d4104-5b11-481a-b726-b2d4d20fc98f",
        "colab": {
          "base_uri": "https://localhost:8080/"
        }
      },
      "outputs": [
        {
          "output_type": "execute_result",
          "data": {
            "text/plain": [
              "3"
            ]
          },
          "metadata": {},
          "execution_count": 96
        }
      ],
      "source": [
        "np.zeros(12).reshape(3,2,2)"
      ]
    },
    {
      "cell_type": "code",
      "execution_count": null,
      "metadata": {
        "id": "TDmfT7wZisUw",
        "outputId": "1dcc0aa3-c7cc-4b70-abb4-6a0d4ba906aa",
        "colab": {
          "base_uri": "https://localhost:8080/"
        }
      },
      "outputs": [
        {
          "output_type": "execute_result",
          "data": {
            "text/plain": [
              "numpy.ndarray"
            ]
          },
          "metadata": {},
          "execution_count": 97
        }
      ],
      "source": [
        "type(np.zeros(12))"
      ]
    },
    {
      "cell_type": "code",
      "execution_count": null,
      "metadata": {
        "id": "L7dpPulcisUw",
        "outputId": "4aece37f-4baf-4352-daa5-3dd063a030d2",
        "colab": {
          "base_uri": "https://localhost:8080/"
        }
      },
      "outputs": [
        {
          "output_type": "execute_result",
          "data": {
            "text/plain": [
              "numpy.float64"
            ]
          },
          "metadata": {},
          "execution_count": 98
        }
      ],
      "source": [
        "type(np.zeros(12)[0])"
      ]
    },
    {
      "cell_type": "code",
      "execution_count": null,
      "metadata": {
        "id": "Z8PDPK-AisUx",
        "outputId": "b6294b1f-2713-42a8-94d6-89fbe3268a57",
        "colab": {
          "base_uri": "https://localhost:8080/"
        }
      },
      "outputs": [
        {
          "output_type": "execute_result",
          "data": {
            "text/plain": [
              "array([[0, 0, 0, 0, 0],\n",
              "       [0, 0, 0, 0, 0],\n",
              "       [0, 0, 0, 0, 0],\n",
              "       [0, 0, 0, 0, 0]])"
            ]
          },
          "metadata": {},
          "execution_count": 100
        }
      ],
      "source": [
        "np.zeros((4,5),dtype='int')"
      ]
    },
    {
      "cell_type": "code",
      "execution_count": null,
      "metadata": {
        "id": "yi6duSe2isUx",
        "outputId": "956656a8-f43a-4512-ee39-698479656bd9",
        "colab": {
          "base_uri": "https://localhost:8080/"
        }
      },
      "outputs": [
        {
          "output_type": "execute_result",
          "data": {
            "text/plain": [
              "array([1., 1., 1., 1., 1.])"
            ]
          },
          "metadata": {},
          "execution_count": 99
        }
      ],
      "source": [
        "np.ones(5)"
      ]
    },
    {
      "cell_type": "code",
      "execution_count": null,
      "metadata": {
        "id": "gv1zGZSUisUx",
        "outputId": "ca112f91-e851-4e04-bc99-b6b8f5612842",
        "colab": {
          "base_uri": "https://localhost:8080/"
        }
      },
      "outputs": [
        {
          "output_type": "execute_result",
          "data": {
            "text/plain": [
              "array([[1., 1., 1., 1., 1.],\n",
              "       [1., 1., 1., 1., 1.],\n",
              "       [1., 1., 1., 1., 1.],\n",
              "       [1., 1., 1., 1., 1.],\n",
              "       [1., 1., 1., 1., 1.]])"
            ]
          },
          "metadata": {},
          "execution_count": 101
        }
      ],
      "source": [
        "np.ones((5,5))"
      ]
    },
    {
      "cell_type": "code",
      "execution_count": null,
      "metadata": {
        "id": "Ks5WhW1xisUy",
        "outputId": "2a53d66c-9b84-44bf-cc56-bc4385bf4572",
        "colab": {
          "base_uri": "https://localhost:8080/"
        }
      },
      "outputs": [
        {
          "output_type": "execute_result",
          "data": {
            "text/plain": [
              "array([[10., 10., 10., 10., 10.],\n",
              "       [10., 10., 10., 10., 10.],\n",
              "       [10., 10., 10., 10., 10.],\n",
              "       [10., 10., 10., 10., 10.],\n",
              "       [10., 10., 10., 10., 10.]])"
            ]
          },
          "metadata": {},
          "execution_count": 102
        }
      ],
      "source": [
        "np.ones((5,5))*10"
      ]
    },
    {
      "cell_type": "code",
      "execution_count": null,
      "metadata": {
        "id": "ckIyLcgZisUy",
        "outputId": "f8a4c744-78f5-44d7-f6a6-a7b41742bf59",
        "colab": {
          "base_uri": "https://localhost:8080/"
        }
      },
      "outputs": [
        {
          "output_type": "execute_result",
          "data": {
            "text/plain": [
              "array([[1., 0., 0., 0.],\n",
              "       [0., 1., 0., 0.],\n",
              "       [0., 0., 1., 0.],\n",
              "       [0., 0., 0., 1.]])"
            ]
          },
          "metadata": {},
          "execution_count": 106
        }
      ],
      "source": [
        "np.eye(4)"
      ]
    },
    {
      "cell_type": "code",
      "execution_count": null,
      "metadata": {
        "colab": {
          "base_uri": "https://localhost:8080/"
        },
        "id": "2w-WKLLUisUy",
        "outputId": "e04185f7-5189-40c6-eea9-0399eb68c62d"
      },
      "outputs": [
        {
          "output_type": "execute_result",
          "data": {
            "text/plain": [
              "array([[ 0,  1,  2,  3],\n",
              "       [ 4,  5,  6,  7],\n",
              "       [ 8,  9, 10, 11]])"
            ]
          },
          "metadata": {},
          "execution_count": 107
        }
      ],
      "source": [
        "arr2d1 = np.arange(12).reshape(3,4)\n",
        "arr2d1"
      ]
    },
    {
      "cell_type": "code",
      "execution_count": null,
      "metadata": {
        "id": "hbLb1VJHisUz"
      },
      "outputs": [],
      "source": [
        "arr2d1 = np.arange(12,24).reshape(3,4)"
      ]
    },
    {
      "cell_type": "code",
      "execution_count": null,
      "metadata": {
        "colab": {
          "base_uri": "https://localhost:8080/"
        },
        "id": "10XpgrqFisUz",
        "outputId": "10730289-2f0f-488d-cb60-89a60ed81f0c"
      },
      "outputs": [
        {
          "output_type": "execute_result",
          "data": {
            "text/plain": [
              "array([[12, 13, 14, 15],\n",
              "       [16, 17, 18, 19],\n",
              "       [20, 21, 22, 23]])"
            ]
          },
          "metadata": {},
          "execution_count": 109
        }
      ],
      "source": [
        "arr2d1"
      ]
    },
    {
      "cell_type": "code",
      "execution_count": null,
      "metadata": {
        "id": "feA7Z523isU0"
      },
      "outputs": [],
      "source": [
        "arr2d2 = np.random.randn(3,4)"
      ]
    },
    {
      "cell_type": "code",
      "execution_count": null,
      "metadata": {
        "colab": {
          "base_uri": "https://localhost:8080/"
        },
        "id": "Y9gMIUaoisU0",
        "outputId": "965e9aa7-868a-4582-9b7a-de9b3a6df48a"
      },
      "outputs": [
        {
          "output_type": "execute_result",
          "data": {
            "text/plain": [
              "array([[-0.18906205, -0.01002645,  0.39425655,  0.63814793],\n",
              "       [-0.81509918,  0.97226456,  0.1088648 , -0.48719228],\n",
              "       [ 1.60102273, -0.0731291 ,  0.38982042, -0.89487157]])"
            ]
          },
          "metadata": {},
          "execution_count": 111
        }
      ],
      "source": [
        "arr2d2"
      ]
    },
    {
      "cell_type": "code",
      "execution_count": null,
      "metadata": {
        "colab": {
          "base_uri": "https://localhost:8080/"
        },
        "id": "Xc5-XXSmisU0",
        "outputId": "0e7b105d-8622-42a0-9131-b18144933bf3"
      },
      "outputs": [
        {
          "output_type": "execute_result",
          "data": {
            "text/plain": [
              "array([[11.81093795, 12.98997355, 14.39425655, 15.63814793],\n",
              "       [15.18490082, 17.97226456, 18.1088648 , 18.51280772],\n",
              "       [21.60102273, 20.9268709 , 22.38982042, 22.10512843]])"
            ]
          },
          "metadata": {},
          "execution_count": 112
        }
      ],
      "source": [
        "arr2d1 + arr2d2"
      ]
    },
    {
      "cell_type": "code",
      "execution_count": null,
      "metadata": {
        "id": "X-iqOH5jisU1"
      },
      "outputs": [],
      "source": []
    }
  ],
  "metadata": {
    "kernelspec": {
      "display_name": "base",
      "language": "python",
      "name": "python3"
    },
    "language_info": {
      "codemirror_mode": {
        "name": "ipython",
        "version": 3
      },
      "file_extension": ".py",
      "mimetype": "text/x-python",
      "name": "python",
      "nbconvert_exporter": "python",
      "pygments_lexer": "ipython3",
      "version": "3.8.8"
    },
    "colab": {
      "provenance": []
    }
  },
  "nbformat": 4,
  "nbformat_minor": 0
}