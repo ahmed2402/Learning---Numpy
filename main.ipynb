{
 "cells": [
  {
   "cell_type": "markdown",
   "metadata": {},
   "source": [
    "## Numpy array and Basics"
   ]
  },
  {
   "cell_type": "code",
   "execution_count": 48,
   "metadata": {},
   "outputs": [],
   "source": [
    "import numpy as np"
   ]
  },
  {
   "cell_type": "markdown",
   "metadata": {},
   "source": [
    "### Creating array from List"
   ]
  },
  {
   "cell_type": "code",
   "execution_count": 43,
   "metadata": {},
   "outputs": [
    {
     "name": "stdout",
     "output_type": "stream",
     "text": [
      "1D ARRAY : [1 2 3 4 5]\n",
      "2D ARRAY : [[1 2 3]\n",
      " [4 5 6]]\n"
     ]
    }
   ],
   "source": [
    "arr1d = np.array([1,2,3,4,5])\n",
    "print(f\"1D ARRAY : {arr1d}\")\n",
    "\n",
    "arr2d = np.array([[1,2,3],[4,5,6]])\n",
    "print(f\"2D ARRAY : {arr2d}\")"
   ]
  },
  {
   "cell_type": "markdown",
   "metadata": {},
   "source": [
    "Exercise:\n",
    "\n",
    "Create a 1D array of integers from 1 to 10 and print its properties.\n",
    "\n",
    "Create a 2D array of shape (3, 3) filled with zeros.\n",
    "\n",
    "Convert a Python list [1.1, 2.2, 3.3] into a NumPy array and check its data type.\n"
   ]
  },
  {
   "cell_type": "code",
   "execution_count": 44,
   "metadata": {},
   "outputs": [
    {
     "name": "stdout",
     "output_type": "stream",
     "text": [
      "1d array :  [ 1  2  3  4  5  6  7  8  9 10]\n",
      "Array Shape (10,)\n",
      "Array Dimensions 1\n",
      "Array Dtype int64\n"
     ]
    }
   ],
   "source": [
    "# Q1\n",
    "array_1d = np.arange(1,11)\n",
    "print(\"1d array : \",array_1d)\n",
    "print(\"Array Shape\",array_1d.shape)\n",
    "print(\"Array Dimensions\",array_1d.ndim)\n",
    "print(\"Array Dtype\", arr1d.dtype)"
   ]
  },
  {
   "cell_type": "code",
   "execution_count": 45,
   "metadata": {},
   "outputs": [
    {
     "name": "stdout",
     "output_type": "stream",
     "text": [
      "[[0. 0. 0.]\n",
      " [0. 0. 0.]\n",
      " [0. 0. 0.]]\n"
     ]
    }
   ],
   "source": [
    "#Q2\n",
    "arr = np.zeros([3,3])\n",
    "print(arr)"
   ]
  },
  {
   "cell_type": "code",
   "execution_count": 46,
   "metadata": {},
   "outputs": [
    {
     "name": "stdout",
     "output_type": "stream",
     "text": [
      "[1.1 2.2 3.3]\n",
      "<class 'numpy.ndarray'>\n"
     ]
    }
   ],
   "source": [
    "list = [1.1,2.2,3.3]\n",
    "arr = np.array([1.1,2.2,3.3])\n",
    "print(arr)\n",
    "print(type(arr))"
   ]
  },
  {
   "cell_type": "markdown",
   "metadata": {},
   "source": [
    "Array Manipulation\n",
    "\n",
    "Reshaping with reshape\n",
    "\n",
    "Flattening with flatten or ravel\n",
    "\n",
    "Concatenation and stacking (vstack, hstack, concatenate)\n"
   ]
  },
  {
   "cell_type": "markdown",
   "metadata": {},
   "source": [
    "Create a 3D array of shape (2, 3, 4) filled with random integers between 0 and 100.\n",
    "\n",
    "Reshape a 1D array of size 12 into a 2D array of shape (4, 3).\n",
    "\n",
    "Concatenate two arrays of size (2, 2) along rows and columns.\n",
    "\n"
   ]
  },
  {
   "cell_type": "code",
   "execution_count": 50,
   "metadata": {},
   "outputs": [
    {
     "name": "stdout",
     "output_type": "stream",
     "text": [
      "[[[25 55 46  3]\n",
      "  [16 36 92 79]\n",
      "  [21  9 19 23]]\n",
      "\n",
      " [[66 40 63 25]\n",
      "  [20 79  8 85]\n",
      "  [38 33 37 29]]]\n"
     ]
    }
   ],
   "source": [
    "#Q1\n",
    "arr3d = np.random.randint(1,100 , (2,3,4))\n",
    "print(arr3d)"
   ]
  },
  {
   "cell_type": "code",
   "execution_count": 63,
   "metadata": {},
   "outputs": [
    {
     "name": "stdout",
     "output_type": "stream",
     "text": [
      "[ 0  1  2  3  4  5  6  7  8  9 10 11]\n",
      "[[ 0  1  2]\n",
      " [ 3  4  5]\n",
      " [ 6  7  8]\n",
      " [ 9 10 11]]\n"
     ]
    }
   ],
   "source": [
    "#q2\n",
    "arr1d = np.arange(12)\n",
    "print(arr1d)\n",
    "reshape = arr1d.reshape((4,3))\n",
    "print(reshape)"
   ]
  },
  {
   "cell_type": "code",
   "execution_count": 71,
   "metadata": {},
   "outputs": [
    {
     "name": "stdout",
     "output_type": "stream",
     "text": [
      "[[1 2]\n",
      " [3 4]\n",
      " [5 6]\n",
      " [7 8]]\n",
      "Concatenated along rows:\n",
      " [[1 2]\n",
      " [3 4]\n",
      " [5 6]\n",
      " [7 8]]\n",
      "Concatenated along columns:\n",
      " [[1 2 5 6]\n",
      " [3 4 7 8]]\n"
     ]
    }
   ],
   "source": [
    "#q3\n",
    "arr1 = np.array([[1, 2], [3, 4]])\n",
    "arr2 = np.array([[5, 6], [7, 8]])\n",
    "stacked=np.vstack((arr1,arr2))\n",
    "print(stacked)\n",
    "\n",
    "##concatenate\n",
    "concatenated_rows = np.concatenate((arr1, arr2), axis=0)\n",
    "concatenated_columns = np.concatenate((arr1, arr2), axis=1)\n",
    "print(\"Concatenated along rows:\\n\", concatenated_rows)\n",
    "print(\"Concatenated along columns:\\n\",concatenated_columns)"
   ]
  },
  {
   "cell_type": "markdown",
   "metadata": {},
   "source": [
    "## MEAN, MEDIAN , VARIANCE AND STANDARD DEVIATION"
   ]
  },
  {
   "cell_type": "code",
   "execution_count": 1,
   "metadata": {},
   "outputs": [
    {
     "name": "stdout",
     "output_type": "stream",
     "text": [
      "Mean: 5.0\n",
      "Median: 5.0\n",
      "Variance: 6.666666666666667\n",
      "Standard Deviation: 2.581988897471611\n"
     ]
    }
   ],
   "source": [
    "import numpy as np\n",
    "arr = np.array([1, 2, 3, 4, 5,6,7,8,9])\n",
    "print(\"Mean:\", np.mean(arr))\n",
    "print(\"Median:\", np.median(arr))\n",
    "print(\"Variance:\", np.var(arr))\n",
    "print(\"Standard Deviation:\", np.std(arr))"
   ]
  }
 ],
 "metadata": {
  "kernelspec": {
   "display_name": "Python 3",
   "language": "python",
   "name": "python3"
  },
  "language_info": {
   "codemirror_mode": {
    "name": "ipython",
    "version": 3
   },
   "file_extension": ".py",
   "mimetype": "text/x-python",
   "name": "python",
   "nbconvert_exporter": "python",
   "pygments_lexer": "ipython3",
   "version": "3.13.2"
  }
 },
 "nbformat": 4,
 "nbformat_minor": 2
}
