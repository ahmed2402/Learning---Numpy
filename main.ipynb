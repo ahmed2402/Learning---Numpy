{
 "cells": [
  {
   "cell_type": "markdown",
   "metadata": {},
   "source": [
    "## Numpy array and Basics"
   ]
  },
  {
   "cell_type": "code",
   "execution_count": 2,
   "metadata": {},
   "outputs": [],
   "source": [
    "import numpy as np"
   ]
  },
  {
   "cell_type": "markdown",
   "metadata": {},
   "source": [
    "### Creating array from List"
   ]
  },
  {
   "cell_type": "code",
   "execution_count": 3,
   "metadata": {},
   "outputs": [
    {
     "name": "stdout",
     "output_type": "stream",
     "text": [
      "1D ARRAY : [1 2 3 4 5]\n",
      "2D ARRAY : [[1 2 3]\n",
      " [4 5 6]]\n"
     ]
    }
   ],
   "source": [
    "arr1d = np.array([1,2,3,4,5])\n",
    "print(f\"1D ARRAY : {arr1d}\")\n",
    "\n",
    "arr2d = np.array([[1,2,3],[4,5,6]])\n",
    "print(f\"2D ARRAY : {arr2d}\")"
   ]
  },
  {
   "cell_type": "markdown",
   "metadata": {},
   "source": [
    "Exercise:\n",
    "\n",
    "Create a 1D array of integers from 1 to 10 and print its properties.\n",
    "\n",
    "Create a 2D array of shape (3, 3) filled with zeros.\n",
    "\n",
    "Convert a Python list [1.1, 2.2, 3.3] into a NumPy array and check its data type.\n"
   ]
  },
  {
   "cell_type": "code",
   "execution_count": 4,
   "metadata": {},
   "outputs": [
    {
     "name": "stdout",
     "output_type": "stream",
     "text": [
      "1d array :  [ 1  2  3  4  5  6  7  8  9 10]\n",
      "Array Shape (10,)\n",
      "Array Dimensions 1\n",
      "Array Dtype int64\n"
     ]
    }
   ],
   "source": [
    "# Q1\n",
    "array_1d = np.arange(1,11)\n",
    "print(\"1d array : \",array_1d)\n",
    "print(\"Array Shape\",array_1d.shape)\n",
    "print(\"Array Dimensions\",array_1d.ndim)\n",
    "print(\"Array Dtype\", arr1d.dtype)"
   ]
  },
  {
   "cell_type": "code",
   "execution_count": 5,
   "metadata": {},
   "outputs": [
    {
     "name": "stdout",
     "output_type": "stream",
     "text": [
      "[[0. 0. 0.]\n",
      " [0. 0. 0.]\n",
      " [0. 0. 0.]]\n"
     ]
    }
   ],
   "source": [
    "#Q2\n",
    "arr = np.zeros([3,3])\n",
    "print(arr)"
   ]
  },
  {
   "cell_type": "code",
   "execution_count": 6,
   "metadata": {},
   "outputs": [
    {
     "name": "stdout",
     "output_type": "stream",
     "text": [
      "[1.1 2.2 3.3]\n",
      "<class 'numpy.ndarray'>\n"
     ]
    }
   ],
   "source": [
    "list = [1.1,2.2,3.3]\n",
    "arr = np.array([1.1,2.2,3.3])\n",
    "print(arr)\n",
    "print(type(arr))"
   ]
  },
  {
   "cell_type": "markdown",
   "metadata": {},
   "source": [
    "Array Manipulation\n",
    "\n",
    "Reshaping with reshape\n",
    "\n",
    "Flattening with flatten or ravel\n",
    "\n",
    "Concatenation and stacking (vstack, hstack, concatenate)\n"
   ]
  },
  {
   "cell_type": "markdown",
   "metadata": {},
   "source": [
    "Create a 3D array of shape (2, 3, 4) filled with random integers between 0 and 100.\n",
    "\n",
    "Reshape a 1D array of size 12 into a 2D array of shape (4, 3).\n",
    "\n",
    "Concatenate two arrays of size (2, 2) along rows and columns.\n",
    "\n"
   ]
  },
  {
   "cell_type": "code",
   "execution_count": 7,
   "metadata": {},
   "outputs": [
    {
     "name": "stdout",
     "output_type": "stream",
     "text": [
      "[[[24 19 93 31]\n",
      "  [84 48 94 22]\n",
      "  [42 59 78 58]]\n",
      "\n",
      " [[ 7 42 66 73]\n",
      "  [ 8 44 52 58]\n",
      "  [84 69 20  1]]]\n"
     ]
    }
   ],
   "source": [
    "#Q1\n",
    "arr3d = np.random.randint(1,100 , (2,3,4))\n",
    "print(arr3d)"
   ]
  },
  {
   "cell_type": "code",
   "execution_count": 8,
   "metadata": {},
   "outputs": [
    {
     "name": "stdout",
     "output_type": "stream",
     "text": [
      "[ 0  1  2  3  4  5  6  7  8  9 10 11]\n",
      "[[ 0  1  2]\n",
      " [ 3  4  5]\n",
      " [ 6  7  8]\n",
      " [ 9 10 11]]\n"
     ]
    }
   ],
   "source": [
    "#q2\n",
    "arr1d = np.arange(12)\n",
    "print(arr1d)\n",
    "reshape = arr1d.reshape((4,3))\n",
    "print(reshape)"
   ]
  },
  {
   "cell_type": "code",
   "execution_count": 9,
   "metadata": {},
   "outputs": [
    {
     "name": "stdout",
     "output_type": "stream",
     "text": [
      "[[1 2]\n",
      " [3 4]\n",
      " [5 6]\n",
      " [7 8]]\n",
      "Concatenated along rows:\n",
      " [[1 2]\n",
      " [3 4]\n",
      " [5 6]\n",
      " [7 8]]\n",
      "Concatenated along columns:\n",
      " [[1 2 5 6]\n",
      " [3 4 7 8]]\n"
     ]
    }
   ],
   "source": [
    "#q3\n",
    "arr1 = np.array([[1, 2], [3, 4]])\n",
    "arr2 = np.array([[5, 6], [7, 8]])\n",
    "stacked=np.vstack((arr1,arr2))\n",
    "print(stacked)\n",
    "\n",
    "##concatenate\n",
    "concatenated_rows = np.concatenate((arr1, arr2), axis=0)\n",
    "concatenated_columns = np.concatenate((arr1, arr2), axis=1)\n",
    "print(\"Concatenated along rows:\\n\", concatenated_rows)\n",
    "print(\"Concatenated along columns:\\n\",concatenated_columns)"
   ]
  },
  {
   "cell_type": "markdown",
   "metadata": {},
   "source": [
    "## MEAN, MEDIAN , VARIANCE AND STANDARD DEVIATION"
   ]
  },
  {
   "cell_type": "code",
   "execution_count": 10,
   "metadata": {},
   "outputs": [
    {
     "name": "stdout",
     "output_type": "stream",
     "text": [
      "Mean: 5.0\n",
      "Median: 5.0\n",
      "Variance: 6.666666666666667\n",
      "Standard Deviation: 2.581988897471611\n"
     ]
    }
   ],
   "source": [
    "import numpy as np\n",
    "arr = np.array([1, 2, 3, 4, 5,6,7,8,9])\n",
    "print(\"Mean:\", np.mean(arr))\n",
    "print(\"Median:\", np.median(arr))\n",
    "print(\"Variance:\", np.var(arr))\n",
    "print(\"Standard Deviation:\", np.std(arr))"
   ]
  },
  {
   "cell_type": "markdown",
   "metadata": {},
   "source": [
    "Exercise 1: Properties of ndarray\n",
    "\n",
    "Create a NumPy array from the list [1, 2, 3, 4, 5, 6].\n",
    "\n",
    "Print the shape, size, data type (dtype), and number of dimensions (ndim) of the array.\n",
    "\n",
    "Reshape the array into a 2x3 matrix and verify the properties again."
   ]
  },
  {
   "cell_type": "code",
   "execution_count": 13,
   "metadata": {},
   "outputs": [
    {
     "name": "stdout",
     "output_type": "stream",
     "text": [
      "shape (6,)\n",
      "dtype int64\n",
      "dimensions 1\n",
      "reshape [[1 2 3]\n",
      " [4 5 6]]\n"
     ]
    }
   ],
   "source": [
    "array1 = np.array([1,2,3,4,5,6])\n",
    "print(\"shape\",array1.shape)\n",
    "print(\"dtype\",array1.dtype)\n",
    "print(\"dimensions\",array1.ndim)\n",
    "print(\"reshape\",array1.reshape((2,3)))\n"
   ]
  },
  {
   "cell_type": "markdown",
   "metadata": {},
   "source": [
    "Exercise 2: Array Creation\n",
    "\n",
    "Create the following arrays using NumPy functions:\n",
    "\n",
    "A 3x3 array filled with zeros.\n",
    "\n",
    "A 4x4 identity matrix using np.eye.\n",
    "\n",
    "An array of evenly spaced numbers from 0 to 10 with 5 elements using np.\n",
    "linspace.\n",
    "\n",
    "An array of numbers from 10 to 50 with a step of 5 using np.arange.\n",
    "\n",
    "Print each array along with its properties."
   ]
  },
  {
   "cell_type": "code",
   "execution_count": 21,
   "metadata": {},
   "outputs": [
    {
     "name": "stdout",
     "output_type": "stream",
     "text": [
      "zeroes [[0. 0. 0.]\n",
      " [0. 0. 0.]\n",
      " [0. 0. 0.]]\n",
      "[[1. 0. 0. 0.]\n",
      " [0. 1. 0. 0.]\n",
      " [0. 0. 1. 0.]\n",
      " [0. 0. 0. 1.]]\n",
      "\n",
      " linespace array \n",
      " [ 0.   2.5  5.   7.5 10. ]\n",
      "arange [10 15 20 25 30 35 40 45 50]\n"
     ]
    }
   ],
   "source": [
    "array01=np.zeros((3,3))\n",
    "print(\"zeroes\", array01)\n",
    "identity = np.eye(4,4)\n",
    "print(identity)\n",
    "\n",
    "linspace_array = np.linspace(0, 10, 5)\n",
    "print(\"\\n linespace array \\n\",linspace_array)\n",
    "\n",
    "arr11=np.arange(10,51,5)\n",
    "print(\"arange\",arr11)"
   ]
  },
  {
   "cell_type": "markdown",
   "metadata": {},
   "source": [
    "Exercise 3: Array Manipulation\n",
    "\n",
    "Create a 1D array with 12 elements using np.arange(1, 13).\n",
    "\n",
    "Reshape it into a 3x4 matrix.\n",
    "\n",
    "Flatten the reshaped matrix using flatten and ravel. Observe the differences.\n",
    "\n",
    "Create a second array, [[13, 14, 15, 16], [17, 18, 19, 20], [21, 22, 23, 24]].\n",
    "\n",
    "Concatenate the two arrays vertically and horizontally using vstack and hstack."
   ]
  },
  {
   "cell_type": "code",
   "execution_count": 36,
   "metadata": {},
   "outputs": [
    {
     "name": "stdout",
     "output_type": "stream",
     "text": [
      "[[ 1  2  3  4]\n",
      " [ 5  6  7  8]\n",
      " [ 9 10 11 12]]\n",
      "2d array [[13 14 15 16]\n",
      " [17 18 19 20]\n",
      " [21 22 23 24]]\n",
      "vstacked\n",
      " [[ 1  2  3  4]\n",
      " [ 5  6  7  8]\n",
      " [ 9 10 11 12]\n",
      " [13 14 15 16]\n",
      " [17 18 19 20]\n",
      " [21 22 23 24]]\n",
      "horizontal stacked \n",
      " [[ 1  2  3  4 13 14 15 16]\n",
      " [ 5  6  7  8 17 18 19 20]\n",
      " [ 9 10 11 12 21 22 23 24]]\n"
     ]
    }
   ],
   "source": [
    "arr1d = np.arange(1,13).reshape(3,4)\n",
    "print(arr1d)\n",
    "# print(\"flattened\",arr1d.flatten())\n",
    "# print(\"ravel\",arr1d.ravel())\n",
    "\n",
    "arr2d = np.array([[13, 14, 15, 16], [17, 18, 19, 20], [21, 22, 23, 24]])\n",
    "print(\"2d array\" , arr2d)\n",
    "\n",
    "stacked=np.vstack((arr1d,arr2d))\n",
    "print(\"vstacked\\n\",stacked)\n",
    "hstacked=np.hstack((arr1d,arr2d))\n",
    "print(\"horizontal stacked \\n\",hstacked)\n"
   ]
  }
 ],
 "metadata": {
  "kernelspec": {
   "display_name": "Python 3",
   "language": "python",
   "name": "python3"
  },
  "language_info": {
   "codemirror_mode": {
    "name": "ipython",
    "version": 3
   },
   "file_extension": ".py",
   "mimetype": "text/x-python",
   "name": "python",
   "nbconvert_exporter": "python",
   "pygments_lexer": "ipython3",
   "version": "3.13.2"
  }
 },
 "nbformat": 4,
 "nbformat_minor": 2
}
