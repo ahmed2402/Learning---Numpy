{
  "cells": [
    {
      "cell_type": "markdown",
      "metadata": {
        "id": "gkwVAOTGOAdz"
      },
      "source": [
        "NumPy provides a wide variety of mathematical functions to operate on arrays efficiently."
      ]
    },
    {
      "cell_type": "code",
      "execution_count": 2,
      "metadata": {
        "colab": {
          "base_uri": "https://localhost:8080/"
        },
        "id": "H1aYn14EOBnc",
        "outputId": "c900c0c6-a6c9-4b4a-bad1-c2243eaf2eea"
      },
      "outputs": [
        {
          "name": "stdout",
          "output_type": "stream",
          "text": [
            "[6 7 8 9]\n",
            "[2 4 6 8]\n"
          ]
        }
      ],
      "source": [
        "#Basic Arithmetic:\n",
        "import numpy as np\n",
        "arr = np.array([1, 2, 3, 4])\n",
        "print(np.add(arr, 5))  # Add 5 to each element\n",
        "print(np.multiply(arr, 2))  # Multiply each element by 2\n"
      ]
    },
    {
      "cell_type": "code",
      "execution_count": 3,
      "metadata": {
        "colab": {
          "base_uri": "https://localhost:8080/"
        },
        "id": "PSdJ4GZUOK7Q",
        "outputId": "dd1bfcc2-1a45-485c-d35f-ed4d225d7236"
      },
      "outputs": [
        {
          "name": "stdout",
          "output_type": "stream",
          "text": [
            "[0.0000000e+00 1.0000000e+00 1.2246468e-16]\n",
            "[ 1.000000e+00  6.123234e-17 -1.000000e+00]\n"
          ]
        }
      ],
      "source": [
        "#Trigonometric Functions:\n",
        "angles = np.array([0, np.pi/2, np.pi])\n",
        "print(np.sin(angles))  # Compute sine values\n",
        "print(np.cos(angles))  # Compute cosine values\n"
      ]
    },
    {
      "cell_type": "code",
      "execution_count": 4,
      "metadata": {
        "colab": {
          "base_uri": "https://localhost:8080/"
        },
        "id": "xij8RKTqOYO1",
        "outputId": "7ad65ae3-faab-45ea-c470-22223f1bd107"
      },
      "outputs": [
        {
          "name": "stdout",
          "output_type": "stream",
          "text": [
            "[2.71828183e+00 7.38905610e+00 5.45981500e+01 2.20264658e+04]\n",
            "[0.         0.69314718 1.38629436 2.30258509]\n"
          ]
        }
      ],
      "source": [
        "#Exponents and Logarithms:\n",
        "numbers = np.array([1, 2, 4, 10])\n",
        "print(np.exp(numbers))  # Exponential\n",
        "print(np.log(numbers))  # Natural logarithm\n"
      ]
    },
    {
      "cell_type": "markdown",
      "metadata": {
        "id": "5mkKX9HHOnvJ"
      },
      "source": [
        "Create an array of 10 numbers and find the square root of each element.\n",
        "\n",
        "\n",
        "Compute the tangent of an array containing angles [0, 30, 45, 60, 90] (convert to radians first)."
      ]
    },
    {
      "cell_type": "markdown",
      "metadata": {
        "id": "tP_qzLQMOyf9"
      },
      "source": [
        "**Random Numbers/Strings/Sequences**\n",
        "\n",
        "NumPy provides functionality to generate random numbers, strings, and sequences."
      ]
    },
    {
      "cell_type": "code",
      "execution_count": 5,
      "metadata": {
        "colab": {
          "base_uri": "https://localhost:8080/"
        },
        "id": "sz-FL3E8O5Nj",
        "outputId": "04338f7f-fdc4-47d3-af9f-5a1c24cd0220"
      },
      "outputs": [
        {
          "name": "stdout",
          "output_type": "stream",
          "text": [
            "[[865 917 209 949]\n",
            " [872 630 524  29]\n",
            " [428 262 564 317]\n",
            " [332 296 669 146]]\n"
          ]
        }
      ],
      "source": [
        "import numpy as np\n",
        "#random integers\n",
        "print(np.random.randint(1 , 1000 , size=( 4,4 )))  # 5 random integers between 1 and 10\n"
      ]
    },
    {
      "cell_type": "code",
      "execution_count": 6,
      "metadata": {
        "colab": {
          "base_uri": "https://localhost:8080/"
        },
        "id": "2BUuiQCCO_zn",
        "outputId": "c7ada674-da4c-4e5f-86c1-f0f124809766"
      },
      "outputs": [
        {
          "name": "stdout",
          "output_type": "stream",
          "text": [
            "[0.47102177 0.53877907 0.51762845 0.82781018 0.35068043]\n"
          ]
        }
      ],
      "source": [
        "#random floats\n",
        "print(np.random.random(5))  # 5 random floats between 0 and 1\n"
      ]
    },
    {
      "cell_type": "code",
      "execution_count": 7,
      "metadata": {
        "colab": {
          "base_uri": "https://localhost:8080/"
        },
        "id": "k9QhN_b9PHuZ",
        "outputId": "a47f5907-d38f-47c6-f174-ded404f60a6c"
      },
      "outputs": [
        {
          "name": "stdout",
          "output_type": "stream",
          "text": [
            "['blue' 'red' 'red' 'red' 'blue' 'red' 'green' 'green' 'green' 'green']\n"
          ]
        }
      ],
      "source": [
        "#random choice\n",
        "choices = ['red', 'blue', 'green']\n",
        "print(np.random.choice(choices, size=10))  # Randomly pick 3 elements\n"
      ]
    },
    {
      "cell_type": "code",
      "execution_count": null,
      "metadata": {
        "colab": {
          "base_uri": "https://localhost:8080/"
        },
        "id": "MKvt3PBlPOR9",
        "outputId": "f3c13f1c-40d1-4f20-de41-9a1a81f495bd"
      },
      "outputs": [
        {
          "name": "stdout",
          "output_type": "stream",
          "text": [
            "None\n",
            "[76 31  4]\n"
          ]
        }
      ],
      "source": [
        "#radom seed\n",
        "np.random.seed(45)\n",
        "print(np.random.randint(1, 100, 3))  # Same result with the same seed\n"
      ]
    },
    {
      "cell_type": "markdown",
      "metadata": {
        "id": "eET2fsrVP2be"
      },
      "source": [
        "Generate an array of 10 random integers between 20 and 50.\n",
        "\n",
        "Create a 3x3 matrix of random floats.\n",
        "\n",
        "Simulate rolling a die 20 times and find how often each number appears."
      ]
    },
    {
      "cell_type": "code",
      "execution_count": 9,
      "metadata": {
        "colab": {
          "base_uri": "https://localhost:8080/"
        },
        "id": "fEf7JunQzdx2",
        "outputId": "1b5b6ca0-b396-4249-c707-67e4956c7af0"
      },
      "outputs": [
        {
          "name": "stdout",
          "output_type": "stream",
          "text": [
            "{np.int32(1): np.int64(5), np.int32(2): np.int64(4), np.int32(3): np.int64(1), np.int32(4): np.int64(1), np.int32(5): np.int64(5), np.int32(6): np.int64(4)}\n"
          ]
        }
      ],
      "source": [
        "#Simulate rolling a die 20 times and find how often each number appears.\n",
        "die_rolls = np.random.randint(1, 7, size=20)\n",
        "unique, counts = np.unique(die_rolls, return_counts=True)\n",
        "print(dict(zip(unique, counts)))"
      ]
    },
    {
      "cell_type": "markdown",
      "metadata": {
        "id": "3ruBkAqPP8EF"
      },
      "source": [
        "Sorting and Searching\n",
        "\n",
        "NumPy provides efficient tools for sorting arrays and searching for elements."
      ]
    },
    {
      "cell_type": "code",
      "execution_count": 10,
      "metadata": {
        "colab": {
          "base_uri": "https://localhost:8080/"
        },
        "id": "1mUYtnlgQN4t",
        "outputId": "9fff4d5d-b755-42e7-a423-b3438482abef"
      },
      "outputs": [
        {
          "name": "stdout",
          "output_type": "stream",
          "text": [
            "[1 2 5 9]\n"
          ]
        }
      ],
      "source": [
        "#Sorting an Array\n",
        "arr = np.array([5, 2, 9, 1])\n",
        "print(np.sort(arr))  # Sort in ascending order\n"
      ]
    },
    {
      "cell_type": "code",
      "execution_count": 11,
      "metadata": {
        "colab": {
          "base_uri": "https://localhost:8080/"
        },
        "id": "sJlwnI7PQYiA",
        "outputId": "0ef0a673-decf-4f2b-8373-7c60283cbde0"
      },
      "outputs": [
        {
          "name": "stdout",
          "output_type": "stream",
          "text": [
            "[5 2 9 1]\n",
            "[3 1 0 2]\n"
          ]
        }
      ],
      "source": [
        "#finding indices of sorted arrays\n",
        "print(arr)\n",
        "indices = np.argsort(arr)\n",
        "print(indices)  # Indices of sorted elements\n"
      ]
    },
    {
      "cell_type": "code",
      "execution_count": 12,
      "metadata": {
        "colab": {
          "base_uri": "https://localhost:8080/"
        },
        "id": "FICzAhYsQtbf",
        "outputId": "60f8ef88-340d-4a0e-810c-1ae98e98c9fd"
      },
      "outputs": [
        {
          "name": "stdout",
          "output_type": "stream",
          "text": [
            "(array([3, 4]),)\n"
          ]
        }
      ],
      "source": [
        "#searching for elements\n",
        "arr = np.array([1, 2, 3, 4, 5])\n",
        "print(np.where(arr > 3))  # Find indices where elements are > 3\n"
      ]
    },
    {
      "cell_type": "code",
      "execution_count": 13,
      "metadata": {
        "colab": {
          "base_uri": "https://localhost:8080/"
        },
        "id": "ApzkfnKFSL_v",
        "outputId": "95142026-cc53-41ea-ee10-45b5f3600b2a"
      },
      "outputs": [
        {
          "name": "stdout",
          "output_type": "stream",
          "text": [
            "4\n"
          ]
        }
      ],
      "source": [
        "#binary search\n",
        "arr = np.array([1, 3, 5, 7])\n",
        "print(np.searchsorted(arr, 9))  # Find index where 4 can be inserted\n"
      ]
    },
    {
      "cell_type": "markdown",
      "metadata": {
        "id": "_BryPH0oSd6K"
      },
      "source": [
        "Sort a 2D array by each row and each column.\n",
        "\n",
        "Find the indices of all elements greater than 50 in an array of random integers.\n",
        "\n",
        "Given a sorted array, find the index to insert a given number (use searchsorted)."
      ]
    },
    {
      "cell_type": "markdown",
      "metadata": {
        "id": "sQnDGc1YSxQt"
      },
      "source": [
        "**Boolean Masking**\n",
        "\n",
        "Use boolean conditions to filter arrays."
      ]
    },
    {
      "cell_type": "code",
      "execution_count": 14,
      "metadata": {
        "colab": {
          "base_uri": "https://localhost:8080/"
        },
        "id": "NgSsgLfkS5Ib",
        "outputId": "18821254-e7ac-429e-8235-a1b0beff59d2"
      },
      "outputs": [
        {
          "name": "stdout",
          "output_type": "stream",
          "text": [
            "[30 40]\n"
          ]
        }
      ],
      "source": [
        "#Basic Masking\n",
        "arr = np.array([10, 20, 30, 40])\n",
        "print(arr[arr > 20])  # Filter elements greater than 20"
      ]
    },
    {
      "cell_type": "code",
      "execution_count": 15,
      "metadata": {
        "colab": {
          "base_uri": "https://localhost:8080/"
        },
        "id": "skxrl0t9TYRy",
        "outputId": "5515c4fe-558f-497f-d736-feada412b15a"
      },
      "outputs": [
        {
          "name": "stdout",
          "output_type": "stream",
          "text": [
            "[20 30]\n"
          ]
        }
      ],
      "source": [
        "#combining conditions\n",
        "print(arr[(arr > 10) & (arr < 40)])  # Elements between 10 and 40\n"
      ]
    },
    {
      "cell_type": "code",
      "execution_count": 16,
      "metadata": {
        "colab": {
          "base_uri": "https://localhost:8080/"
        },
        "id": "MUJ-ELwsT2d9",
        "outputId": "e5f8d52f-d553-46ab-8298-b49c8aa98d4d"
      },
      "outputs": [
        {
          "name": "stdout",
          "output_type": "stream",
          "text": [
            "[10 20 30 99]\n"
          ]
        }
      ],
      "source": [
        "#setting values based on conditions\n",
        "arr[arr > 30] = 99  # Replace values > 30 with 99\n",
        "print(arr)\n"
      ]
    },
    {
      "cell_type": "code",
      "execution_count": 17,
      "metadata": {
        "colab": {
          "base_uri": "https://localhost:8080/"
        },
        "id": "Ktbscn0pUDr2",
        "outputId": "65bc2192-bb77-48b0-ef42-d460067536a8"
      },
      "outputs": [
        {
          "name": "stdout",
          "output_type": "stream",
          "text": [
            "[2 4]\n"
          ]
        }
      ],
      "source": [
        "#Boolean Masking with Matrices,2D arrays\n",
        "matrix = np.array([[1, 2], [3, 4]])\n",
        "print(matrix[matrix % 2 == 0])  # Extract even numbers"
      ]
    },
    {
      "cell_type": "markdown",
      "metadata": {
        "id": "I8c1wfthUPZD"
      },
      "source": [
        "Find all odd numbers in a 5x5 matrix.\n",
        "\n",
        "Replace all negative numbers in an array with zero.\n",
        "\n",
        "\n",
        "Create a mask for values greater than 50 in a random array."
      ]
    },
    {
      "cell_type": "markdown",
      "metadata": {
        "id": "XBjn6BjIYwwJ"
      },
      "source": [
        "**FILES I/O**\n",
        "\n",
        "Binary files are efficient for saving and loading large datasets as they preserve data types and structures.\n",
        "\n",
        "Functions:\n",
        "\n",
        "np.save(file, array): Saves a single NumPy array in .npy format.\n",
        "\n",
        "np.savez(file, *args, **kwargs): Saves multiple arrays in a compressed .npz format.\n",
        "\n",
        "np.load(file): Loads .npy or .npz files back into NumPy arrays."
      ]
    },
    {
      "cell_type": "code",
      "execution_count": 18,
      "metadata": {
        "colab": {
          "base_uri": "https://localhost:8080/"
        },
        "id": "r2sqgQHiY_jO",
        "outputId": "0b519ca8-1204-48d7-c3d0-2e0e795eaf5f"
      },
      "outputs": [
        {
          "name": "stdout",
          "output_type": "stream",
          "text": [
            "[[1 2 3]\n",
            " [4 5 6]]\n",
            "[1 2 3]\n",
            "[4 5 6]\n"
          ]
        }
      ],
      "source": [
        "import numpy as np\n",
        "\n",
        "# Saving a single array\n",
        "arr = np.array([[1, 2, 3], [4, 5, 6]])\n",
        "np.save('array.npy', arr)\n",
        "\n",
        "# Loading the array\n",
        "loaded_arr = np.load('array.npy')\n",
        "print(loaded_arr)\n",
        "\n",
        "# Saving multiple arrays\n",
        "arr1 = np.array([1, 2, 3])\n",
        "arr2 = np.array([4, 5, 6])\n",
        "np.savez('arrays.npz', array1=arr1, array2=arr2)\n",
        "\n",
        "# Loading multiple arrays\n",
        "data = np.load('arrays.npz')\n",
        "print(data['array1'])\n",
        "print(data['array2'])\n"
      ]
    },
    {
      "cell_type": "markdown",
      "metadata": {
        "id": "BtgUROVBUmDC"
      },
      "source": [
        "**FILES I/O**\n",
        "\n",
        "NumPy is generally used for numerical operations on arrays, but it can be used to read and write numerical data from and to files. We'll use numpy.loadtxt() and numpy.savetxt() for this purpose.\n",
        "\n",
        "If you have a text file, data.txt, with numerical values, you can use numpy.loadtxt() to read it.\n"
      ]
    },
    {
      "cell_type": "code",
      "execution_count": 19,
      "metadata": {
        "colab": {
          "base_uri": "https://localhost:8080/",
          "height": 347
        },
        "id": "EcNoyWntVcy0",
        "outputId": "5a6d97e4-f857-4522-943f-5f7214a63645"
      },
      "outputs": [
        {
          "ename": "FileNotFoundError",
          "evalue": "data.txt not found.",
          "output_type": "error",
          "traceback": [
            "\u001b[31m---------------------------------------------------------------------------\u001b[39m",
            "\u001b[31mFileNotFoundError\u001b[39m                         Traceback (most recent call last)",
            "\u001b[36mCell\u001b[39m\u001b[36m \u001b[39m\u001b[32mIn[19]\u001b[39m\u001b[32m, line 4\u001b[39m\n\u001b[32m      1\u001b[39m \u001b[38;5;28;01mimport\u001b[39;00m\u001b[38;5;250m \u001b[39m\u001b[34;01mnumpy\u001b[39;00m\u001b[38;5;250m \u001b[39m\u001b[38;5;28;01mas\u001b[39;00m\u001b[38;5;250m \u001b[39m\u001b[34;01mnp\u001b[39;00m\n\u001b[32m      3\u001b[39m \u001b[38;5;66;03m# Reading a text file with numerical data\u001b[39;00m\n\u001b[32m----> \u001b[39m\u001b[32m4\u001b[39m data = \u001b[43mnp\u001b[49m\u001b[43m.\u001b[49m\u001b[43mloadtxt\u001b[49m\u001b[43m(\u001b[49m\u001b[33;43m'\u001b[39;49m\u001b[33;43mdata.txt\u001b[39;49m\u001b[33;43m'\u001b[39;49m\u001b[43m,\u001b[49m\u001b[43m \u001b[49m\u001b[43mdelimiter\u001b[49m\u001b[43m=\u001b[49m\u001b[33;43m'\u001b[39;49m\u001b[33;43m,\u001b[39;49m\u001b[33;43m'\u001b[39;49m\u001b[43m)\u001b[49m\n\u001b[32m      5\u001b[39m \u001b[38;5;28mprint\u001b[39m(data)\n",
            "\u001b[36mFile \u001b[39m\u001b[32mc:\\Users\\Zainab\\AppData\\Local\\Programs\\Python\\Python313\\Lib\\site-packages\\numpy\\lib\\_npyio_impl.py:1395\u001b[39m, in \u001b[36mloadtxt\u001b[39m\u001b[34m(fname, dtype, comments, delimiter, converters, skiprows, usecols, unpack, ndmin, encoding, max_rows, quotechar, like)\u001b[39m\n\u001b[32m   1392\u001b[39m \u001b[38;5;28;01mif\u001b[39;00m \u001b[38;5;28misinstance\u001b[39m(delimiter, \u001b[38;5;28mbytes\u001b[39m):\n\u001b[32m   1393\u001b[39m     delimiter = delimiter.decode(\u001b[33m'\u001b[39m\u001b[33mlatin1\u001b[39m\u001b[33m'\u001b[39m)\n\u001b[32m-> \u001b[39m\u001b[32m1395\u001b[39m arr = \u001b[43m_read\u001b[49m\u001b[43m(\u001b[49m\u001b[43mfname\u001b[49m\u001b[43m,\u001b[49m\u001b[43m \u001b[49m\u001b[43mdtype\u001b[49m\u001b[43m=\u001b[49m\u001b[43mdtype\u001b[49m\u001b[43m,\u001b[49m\u001b[43m \u001b[49m\u001b[43mcomment\u001b[49m\u001b[43m=\u001b[49m\u001b[43mcomment\u001b[49m\u001b[43m,\u001b[49m\u001b[43m \u001b[49m\u001b[43mdelimiter\u001b[49m\u001b[43m=\u001b[49m\u001b[43mdelimiter\u001b[49m\u001b[43m,\u001b[49m\n\u001b[32m   1396\u001b[39m \u001b[43m            \u001b[49m\u001b[43mconverters\u001b[49m\u001b[43m=\u001b[49m\u001b[43mconverters\u001b[49m\u001b[43m,\u001b[49m\u001b[43m \u001b[49m\u001b[43mskiplines\u001b[49m\u001b[43m=\u001b[49m\u001b[43mskiprows\u001b[49m\u001b[43m,\u001b[49m\u001b[43m \u001b[49m\u001b[43musecols\u001b[49m\u001b[43m=\u001b[49m\u001b[43musecols\u001b[49m\u001b[43m,\u001b[49m\n\u001b[32m   1397\u001b[39m \u001b[43m            \u001b[49m\u001b[43munpack\u001b[49m\u001b[43m=\u001b[49m\u001b[43munpack\u001b[49m\u001b[43m,\u001b[49m\u001b[43m \u001b[49m\u001b[43mndmin\u001b[49m\u001b[43m=\u001b[49m\u001b[43mndmin\u001b[49m\u001b[43m,\u001b[49m\u001b[43m \u001b[49m\u001b[43mencoding\u001b[49m\u001b[43m=\u001b[49m\u001b[43mencoding\u001b[49m\u001b[43m,\u001b[49m\n\u001b[32m   1398\u001b[39m \u001b[43m            \u001b[49m\u001b[43mmax_rows\u001b[49m\u001b[43m=\u001b[49m\u001b[43mmax_rows\u001b[49m\u001b[43m,\u001b[49m\u001b[43m \u001b[49m\u001b[43mquote\u001b[49m\u001b[43m=\u001b[49m\u001b[43mquotechar\u001b[49m\u001b[43m)\u001b[49m\n\u001b[32m   1400\u001b[39m \u001b[38;5;28;01mreturn\u001b[39;00m arr\n",
            "\u001b[36mFile \u001b[39m\u001b[32mc:\\Users\\Zainab\\AppData\\Local\\Programs\\Python\\Python313\\Lib\\site-packages\\numpy\\lib\\_npyio_impl.py:1022\u001b[39m, in \u001b[36m_read\u001b[39m\u001b[34m(fname, delimiter, comment, quote, imaginary_unit, usecols, skiplines, max_rows, converters, ndmin, unpack, dtype, encoding)\u001b[39m\n\u001b[32m   1020\u001b[39m     fname = os.fspath(fname)\n\u001b[32m   1021\u001b[39m \u001b[38;5;28;01mif\u001b[39;00m \u001b[38;5;28misinstance\u001b[39m(fname, \u001b[38;5;28mstr\u001b[39m):\n\u001b[32m-> \u001b[39m\u001b[32m1022\u001b[39m     fh = \u001b[43mnp\u001b[49m\u001b[43m.\u001b[49m\u001b[43mlib\u001b[49m\u001b[43m.\u001b[49m\u001b[43m_datasource\u001b[49m\u001b[43m.\u001b[49m\u001b[43mopen\u001b[49m\u001b[43m(\u001b[49m\u001b[43mfname\u001b[49m\u001b[43m,\u001b[49m\u001b[43m \u001b[49m\u001b[33;43m'\u001b[39;49m\u001b[33;43mrt\u001b[39;49m\u001b[33;43m'\u001b[39;49m\u001b[43m,\u001b[49m\u001b[43m \u001b[49m\u001b[43mencoding\u001b[49m\u001b[43m=\u001b[49m\u001b[43mencoding\u001b[49m\u001b[43m)\u001b[49m\n\u001b[32m   1023\u001b[39m     \u001b[38;5;28;01mif\u001b[39;00m encoding \u001b[38;5;129;01mis\u001b[39;00m \u001b[38;5;28;01mNone\u001b[39;00m:\n\u001b[32m   1024\u001b[39m         encoding = \u001b[38;5;28mgetattr\u001b[39m(fh, \u001b[33m'\u001b[39m\u001b[33mencoding\u001b[39m\u001b[33m'\u001b[39m, \u001b[33m'\u001b[39m\u001b[33mlatin1\u001b[39m\u001b[33m'\u001b[39m)\n",
            "\u001b[36mFile \u001b[39m\u001b[32mc:\\Users\\Zainab\\AppData\\Local\\Programs\\Python\\Python313\\Lib\\site-packages\\numpy\\lib\\_datasource.py:192\u001b[39m, in \u001b[36mopen\u001b[39m\u001b[34m(path, mode, destpath, encoding, newline)\u001b[39m\n\u001b[32m    155\u001b[39m \u001b[38;5;250m\u001b[39m\u001b[33;03m\"\"\"\u001b[39;00m\n\u001b[32m    156\u001b[39m \u001b[33;03mOpen `path` with `mode` and return the file object.\u001b[39;00m\n\u001b[32m    157\u001b[39m \n\u001b[32m   (...)\u001b[39m\u001b[32m    188\u001b[39m \n\u001b[32m    189\u001b[39m \u001b[33;03m\"\"\"\u001b[39;00m\n\u001b[32m    191\u001b[39m ds = DataSource(destpath)\n\u001b[32m--> \u001b[39m\u001b[32m192\u001b[39m \u001b[38;5;28;01mreturn\u001b[39;00m \u001b[43mds\u001b[49m\u001b[43m.\u001b[49m\u001b[43mopen\u001b[49m\u001b[43m(\u001b[49m\u001b[43mpath\u001b[49m\u001b[43m,\u001b[49m\u001b[43m \u001b[49m\u001b[43mmode\u001b[49m\u001b[43m,\u001b[49m\u001b[43m \u001b[49m\u001b[43mencoding\u001b[49m\u001b[43m=\u001b[49m\u001b[43mencoding\u001b[49m\u001b[43m,\u001b[49m\u001b[43m \u001b[49m\u001b[43mnewline\u001b[49m\u001b[43m=\u001b[49m\u001b[43mnewline\u001b[49m\u001b[43m)\u001b[49m\n",
            "\u001b[36mFile \u001b[39m\u001b[32mc:\\Users\\Zainab\\AppData\\Local\\Programs\\Python\\Python313\\Lib\\site-packages\\numpy\\lib\\_datasource.py:529\u001b[39m, in \u001b[36mDataSource.open\u001b[39m\u001b[34m(self, path, mode, encoding, newline)\u001b[39m\n\u001b[32m    526\u001b[39m     \u001b[38;5;28;01mreturn\u001b[39;00m _file_openers[ext](found, mode=mode,\n\u001b[32m    527\u001b[39m                               encoding=encoding, newline=newline)\n\u001b[32m    528\u001b[39m \u001b[38;5;28;01melse\u001b[39;00m:\n\u001b[32m--> \u001b[39m\u001b[32m529\u001b[39m     \u001b[38;5;28;01mraise\u001b[39;00m \u001b[38;5;167;01mFileNotFoundError\u001b[39;00m(\u001b[33mf\u001b[39m\u001b[33m\"\u001b[39m\u001b[38;5;132;01m{\u001b[39;00mpath\u001b[38;5;132;01m}\u001b[39;00m\u001b[33m not found.\u001b[39m\u001b[33m\"\u001b[39m)\n",
            "\u001b[31mFileNotFoundError\u001b[39m: data.txt not found."
          ]
        }
      ],
      "source": [
        "import numpy as np\n",
        "\n",
        "# Reading a text file with numerical data\n",
        "data = np.loadtxt('data.txt', delimiter=',')\n",
        "print(data)\n"
      ]
    },
    {
      "cell_type": "code",
      "execution_count": null,
      "metadata": {
        "id": "-myPrwCpWCa8"
      },
      "outputs": [],
      "source": [
        "# Replace with the actual file path if it's in a different directory\n",
        "   file_path = '/path/to/your/data.txt'\n",
        "   data = np.loadtxt(file_path, delimiter=',')\n",
        "   print(data)"
      ]
    },
    {
      "cell_type": "markdown",
      "metadata": {
        "id": "jPfDYnY9WQS_"
      },
      "source": [
        "To write an array to a text file, you can use numpy.savetxt()."
      ]
    },
    {
      "cell_type": "code",
      "execution_count": null,
      "metadata": {
        "id": "w8XJiz-IWRaT"
      },
      "outputs": [],
      "source": [
        "import numpy as np\n",
        "\n",
        "# Assume you have a NumPy array\n",
        "data = np.array([[1, 2, 3], [4, 5, 6], [7, 8, 9]])\n",
        "\n",
        "# Writing the array to a text file\n",
        "np.savetxt('output.txt', data, delimiter=',')\n"
      ]
    },
    {
      "cell_type": "markdown",
      "metadata": {
        "id": "8edBTVutWvr4"
      },
      "source": [
        "**Reading and Writing CSV Files**\n",
        "\n",
        "If you're dealing with CSV files, numpy.genfromtxt() can be more flexible for reading, and you can still use numpy.savetxt() for writing."
      ]
    },
    {
      "cell_type": "code",
      "execution_count": null,
      "metadata": {
        "id": "U5gYsofPW5LV"
      },
      "outputs": [],
      "source": [
        "import numpy as np\n",
        "\n",
        "# Reading from a CSV file\n",
        "data = np.genfromtxt('data.csv', delimiter=',')\n",
        "print(data)\n"
      ]
    },
    {
      "cell_type": "code",
      "execution_count": null,
      "metadata": {
        "id": "uDXML82wW-kR"
      },
      "outputs": [],
      "source": [
        "import numpy as np\n",
        "\n",
        "# Assume you have a NumPy array\n",
        "data = np.array([[1, 2, 3], [4, 5, 6], [7, 8, 9]])\n",
        "\n",
        "# Writing the array to a text file\n",
        "np.savetxt('output.csv', data, delimiter=',')"
      ]
    },
    {
      "cell_type": "code",
      "execution_count": null,
      "metadata": {
        "id": "-eZTw6rpXJKo"
      },
      "outputs": [],
      "source": [
        "import numpy as np\n",
        "\n",
        "# Create a 3x3 matrix\n",
        "matrix = np.array([[1, 2, 3], [4, 5, 6], [7, 8, 9]])\n",
        "\n",
        "# Save the matrix to a CSV file\n",
        "file_path = \"/mnt/data/matrix.csv\"\n",
        "np.savetxt(file_path, matrix, delimiter=',', fmt='%d')\n",
        "\n",
        "# Load the matrix back from the CSV file\n",
        "loaded_matrix = np.loadtxt(file_path, delimiter=',', dtype=int)\n",
        "\n",
        "matrix, loaded_matrix\n"
      ]
    }
  ],
  "metadata": {
    "colab": {
      "provenance": []
    },
    "kernelspec": {
      "display_name": "Python 3",
      "name": "python3"
    },
    "language_info": {
      "codemirror_mode": {
        "name": "ipython",
        "version": 3
      },
      "file_extension": ".py",
      "mimetype": "text/x-python",
      "name": "python",
      "nbconvert_exporter": "python",
      "pygments_lexer": "ipython3",
      "version": "3.13.2"
    }
  },
  "nbformat": 4,
  "nbformat_minor": 0
}
