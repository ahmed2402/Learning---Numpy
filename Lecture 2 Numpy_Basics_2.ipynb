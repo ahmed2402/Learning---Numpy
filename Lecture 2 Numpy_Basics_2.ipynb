{
  "nbformat": 4,
  "nbformat_minor": 0,
  "metadata": {
    "colab": {
      "provenance": []
    },
    "kernelspec": {
      "name": "python3",
      "display_name": "Python 3"
    },
    "language_info": {
      "name": "python"
    }
  },
  "cells": [
    {
      "cell_type": "markdown",
      "source": [
        "NumPy provides a wide variety of mathematical functions to operate on arrays efficiently."
      ],
      "metadata": {
        "id": "gkwVAOTGOAdz"
      }
    },
    {
      "cell_type": "code",
      "source": [
        "#Basic Arithmetic:\n",
        "import numpy as np\n",
        "arr = np.array([1, 2, 3, 4])\n",
        "print(np.add(arr, 5))  # Add 5 to each element\n",
        "print(np.multiply(arr, 2))  # Multiply each element by 2\n"
      ],
      "metadata": {
        "colab": {
          "base_uri": "https://localhost:8080/"
        },
        "id": "H1aYn14EOBnc",
        "outputId": "c900c0c6-a6c9-4b4a-bad1-c2243eaf2eea"
      },
      "execution_count": null,
      "outputs": [
        {
          "output_type": "stream",
          "name": "stdout",
          "text": [
            "[6 7 8 9]\n",
            "[2 4 6 8]\n"
          ]
        }
      ]
    },
    {
      "cell_type": "code",
      "source": [
        "#Trigonometric Functions:\n",
        "angles = np.array([0, np.pi/2, np.pi])\n",
        "print(np.sin(angles))  # Compute sine values\n",
        "print(np.cos(angles))  # Compute cosine values\n"
      ],
      "metadata": {
        "colab": {
          "base_uri": "https://localhost:8080/"
        },
        "id": "PSdJ4GZUOK7Q",
        "outputId": "dd1bfcc2-1a45-485c-d35f-ed4d225d7236"
      },
      "execution_count": null,
      "outputs": [
        {
          "output_type": "stream",
          "name": "stdout",
          "text": [
            "[0.0000000e+00 1.0000000e+00 1.2246468e-16]\n",
            "[ 1.000000e+00  6.123234e-17 -1.000000e+00]\n"
          ]
        }
      ]
    },
    {
      "cell_type": "code",
      "source": [
        "#Exponents and Logarithms:\n",
        "numbers = np.array([1, 2, 4, 10])\n",
        "print(np.exp(numbers))  # Exponential\n",
        "print(np.log(numbers))  # Natural logarithm\n"
      ],
      "metadata": {
        "colab": {
          "base_uri": "https://localhost:8080/"
        },
        "id": "xij8RKTqOYO1",
        "outputId": "7ad65ae3-faab-45ea-c470-22223f1bd107"
      },
      "execution_count": null,
      "outputs": [
        {
          "output_type": "stream",
          "name": "stdout",
          "text": [
            "[2.71828183e+00 7.38905610e+00 5.45981500e+01 2.20264658e+04]\n",
            "[0.         0.69314718 1.38629436 2.30258509]\n"
          ]
        }
      ]
    },
    {
      "cell_type": "markdown",
      "source": [
        "Create an array of 10 numbers and find the square root of each element.\n",
        "\n",
        "\n",
        "Compute the tangent of an array containing angles [0, 30, 45, 60, 90] (convert to radians first)."
      ],
      "metadata": {
        "id": "5mkKX9HHOnvJ"
      }
    },
    {
      "cell_type": "markdown",
      "source": [
        "**Random Numbers/Strings/Sequences**\n",
        "\n",
        "NumPy provides functionality to generate random numbers, strings, and sequences."
      ],
      "metadata": {
        "id": "tP_qzLQMOyf9"
      }
    },
    {
      "cell_type": "code",
      "source": [
        "import numpy as np\n",
        "#random integers\n",
        "print(np.random.randint(1 , 1000 , size=( 4,4 )))  # 5 random integers between 1 and 10\n"
      ],
      "metadata": {
        "colab": {
          "base_uri": "https://localhost:8080/"
        },
        "id": "sz-FL3E8O5Nj",
        "outputId": "04338f7f-fdc4-47d3-af9f-5a1c24cd0220"
      },
      "execution_count": 13,
      "outputs": [
        {
          "output_type": "stream",
          "name": "stdout",
          "text": [
            "[[254  97 807 885]\n",
            " [ 56 954 256 191]\n",
            " [351 164 743 308]\n",
            " [284 453 796 660]]\n"
          ]
        }
      ]
    },
    {
      "cell_type": "code",
      "source": [
        "#random floats\n",
        "print(np.random.random(5))  # 5 random floats between 0 and 1\n"
      ],
      "metadata": {
        "colab": {
          "base_uri": "https://localhost:8080/"
        },
        "id": "2BUuiQCCO_zn",
        "outputId": "c7ada674-da4c-4e5f-86c1-f0f124809766"
      },
      "execution_count": 14,
      "outputs": [
        {
          "output_type": "stream",
          "name": "stdout",
          "text": [
            "[0.96398606 0.7117822  0.8119303  0.73649846 0.25348161]\n"
          ]
        }
      ]
    },
    {
      "cell_type": "code",
      "source": [
        "#random choice\n",
        "choices = ['red', 'blue', 'green']\n",
        "print(np.random.choice(choices, size=10))  # Randomly pick 3 elements\n"
      ],
      "metadata": {
        "colab": {
          "base_uri": "https://localhost:8080/"
        },
        "id": "k9QhN_b9PHuZ",
        "outputId": "a47f5907-d38f-47c6-f174-ded404f60a6c"
      },
      "execution_count": 28,
      "outputs": [
        {
          "output_type": "stream",
          "name": "stdout",
          "text": [
            "['red' 'red' 'blue' 'blue' 'red' 'blue' 'red' 'blue' 'green' 'blue']\n"
          ]
        }
      ]
    },
    {
      "cell_type": "code",
      "source": [
        "#radom seed\n",
        "np.random.seed(45)\n",
        "print(np.random.randint(1, 100, 3))  # Same result with the same seed\n"
      ],
      "metadata": {
        "colab": {
          "base_uri": "https://localhost:8080/"
        },
        "id": "MKvt3PBlPOR9",
        "outputId": "f3c13f1c-40d1-4f20-de41-9a1a81f495bd"
      },
      "execution_count": 27,
      "outputs": [
        {
          "output_type": "stream",
          "name": "stdout",
          "text": [
            "[76 31  4]\n"
          ]
        }
      ]
    },
    {
      "cell_type": "markdown",
      "source": [
        "Generate an array of 10 random integers between 20 and 50.\n",
        "\n",
        "Create a 3x3 matrix of random floats.\n",
        "\n",
        "Simulate rolling a die 20 times and find how often each number appears."
      ],
      "metadata": {
        "id": "eET2fsrVP2be"
      }
    },
    {
      "cell_type": "code",
      "source": [
        "#Simulate rolling a die 20 times and find how often each number appears.\n",
        "die_rolls = np.random.randint(1, 7, size=20)\n",
        "unique, counts = np.unique(die_rolls, return_counts=True)\n",
        "print(dict(zip(unique, counts)))"
      ],
      "metadata": {
        "colab": {
          "base_uri": "https://localhost:8080/"
        },
        "id": "fEf7JunQzdx2",
        "outputId": "1b5b6ca0-b396-4249-c707-67e4956c7af0"
      },
      "execution_count": null,
      "outputs": [
        {
          "output_type": "stream",
          "name": "stdout",
          "text": [
            "{1: 3, 2: 2, 3: 6, 4: 5, 5: 2, 6: 2}\n"
          ]
        }
      ]
    },
    {
      "cell_type": "markdown",
      "source": [
        "Sorting and Searching\n",
        "\n",
        "NumPy provides efficient tools for sorting arrays and searching for elements."
      ],
      "metadata": {
        "id": "3ruBkAqPP8EF"
      }
    },
    {
      "cell_type": "code",
      "source": [
        "#Sorting an Array\n",
        "arr = np.array([5, 2, 9, 1])\n",
        "print(np.sort(arr))  # Sort in ascending order\n"
      ],
      "metadata": {
        "colab": {
          "base_uri": "https://localhost:8080/"
        },
        "id": "1mUYtnlgQN4t",
        "outputId": "9fff4d5d-b755-42e7-a423-b3438482abef"
      },
      "execution_count": null,
      "outputs": [
        {
          "output_type": "stream",
          "name": "stdout",
          "text": [
            "[1 2 5 9]\n"
          ]
        }
      ]
    },
    {
      "cell_type": "code",
      "source": [
        "#finding indices of sorted arrays\n",
        "print(arr)\n",
        "indices = np.argsort(arr)\n",
        "print(indices)  # Indices of sorted elements\n"
      ],
      "metadata": {
        "colab": {
          "base_uri": "https://localhost:8080/"
        },
        "id": "sJlwnI7PQYiA",
        "outputId": "0ef0a673-decf-4f2b-8373-7c60283cbde0"
      },
      "execution_count": null,
      "outputs": [
        {
          "output_type": "stream",
          "name": "stdout",
          "text": [
            "[1 2 3 4 5]\n",
            "[0 1 2 3 4]\n"
          ]
        }
      ]
    },
    {
      "cell_type": "code",
      "source": [
        "#searching for elements\n",
        "arr = np.array([1, 2, 3, 4, 5])\n",
        "print(np.where(arr > 3))  # Find indices where elements are > 3\n"
      ],
      "metadata": {
        "colab": {
          "base_uri": "https://localhost:8080/"
        },
        "id": "FICzAhYsQtbf",
        "outputId": "60f8ef88-340d-4a0e-810c-1ae98e98c9fd"
      },
      "execution_count": null,
      "outputs": [
        {
          "output_type": "stream",
          "name": "stdout",
          "text": [
            "(array([3, 4]),)\n"
          ]
        }
      ]
    },
    {
      "cell_type": "code",
      "source": [
        "#binary search\n",
        "arr = np.array([1, 3, 5, 7])\n",
        "print(np.searchsorted(arr, 9))  # Find index where 4 can be inserted\n"
      ],
      "metadata": {
        "colab": {
          "base_uri": "https://localhost:8080/"
        },
        "id": "ApzkfnKFSL_v",
        "outputId": "95142026-cc53-41ea-ee10-45b5f3600b2a"
      },
      "execution_count": null,
      "outputs": [
        {
          "output_type": "stream",
          "name": "stdout",
          "text": [
            "4\n"
          ]
        }
      ]
    },
    {
      "cell_type": "markdown",
      "source": [
        "Sort a 2D array by each row and each column.\n",
        "\n",
        "Find the indices of all elements greater than 50 in an array of random integers.\n",
        "\n",
        "Given a sorted array, find the index to insert a given number (use searchsorted)."
      ],
      "metadata": {
        "id": "_BryPH0oSd6K"
      }
    },
    {
      "cell_type": "markdown",
      "source": [
        "**Boolean Masking**\n",
        "\n",
        "Use boolean conditions to filter arrays."
      ],
      "metadata": {
        "id": "sQnDGc1YSxQt"
      }
    },
    {
      "cell_type": "code",
      "source": [
        "#Basic Masking\n",
        "arr = np.array([10, 20, 30, 40])\n",
        "print(arr[arr > 20])  # Filter elements greater than 20"
      ],
      "metadata": {
        "colab": {
          "base_uri": "https://localhost:8080/"
        },
        "id": "NgSsgLfkS5Ib",
        "outputId": "18821254-e7ac-429e-8235-a1b0beff59d2"
      },
      "execution_count": null,
      "outputs": [
        {
          "output_type": "stream",
          "name": "stdout",
          "text": [
            "[30 40]\n"
          ]
        }
      ]
    },
    {
      "cell_type": "code",
      "source": [
        "#combining conditions\n",
        "print(arr[(arr > 10) & (arr < 40)])  # Elements between 10 and 40\n"
      ],
      "metadata": {
        "colab": {
          "base_uri": "https://localhost:8080/"
        },
        "id": "skxrl0t9TYRy",
        "outputId": "5515c4fe-558f-497f-d736-feada412b15a"
      },
      "execution_count": null,
      "outputs": [
        {
          "output_type": "stream",
          "name": "stdout",
          "text": [
            "[20 30]\n"
          ]
        }
      ]
    },
    {
      "cell_type": "code",
      "source": [
        "#setting values based on conditions\n",
        "arr[arr > 30] = 99  # Replace values > 30 with 99\n",
        "print(arr)\n"
      ],
      "metadata": {
        "colab": {
          "base_uri": "https://localhost:8080/"
        },
        "id": "MUJ-ELwsT2d9",
        "outputId": "e5f8d52f-d553-46ab-8298-b49c8aa98d4d"
      },
      "execution_count": null,
      "outputs": [
        {
          "output_type": "stream",
          "name": "stdout",
          "text": [
            "[10 20 30 99]\n"
          ]
        }
      ]
    },
    {
      "cell_type": "code",
      "source": [
        "#Boolean Masking with Matrices,2D arrays\n",
        "matrix = np.array([[1, 2], [3, 4]])\n",
        "print(matrix[matrix % 2 == 0])  # Extract even numbers"
      ],
      "metadata": {
        "colab": {
          "base_uri": "https://localhost:8080/"
        },
        "id": "Ktbscn0pUDr2",
        "outputId": "65bc2192-bb77-48b0-ef42-d460067536a8"
      },
      "execution_count": null,
      "outputs": [
        {
          "output_type": "stream",
          "name": "stdout",
          "text": [
            "[2 4]\n"
          ]
        }
      ]
    },
    {
      "cell_type": "markdown",
      "source": [
        "Find all odd numbers in a 5x5 matrix.\n",
        "\n",
        "Replace all negative numbers in an array with zero.\n",
        "\n",
        "\n",
        "Create a mask for values greater than 50 in a random array."
      ],
      "metadata": {
        "id": "I8c1wfthUPZD"
      }
    },
    {
      "cell_type": "markdown",
      "source": [
        "**FILES I/O**\n",
        "\n",
        "Binary files are efficient for saving and loading large datasets as they preserve data types and structures.\n",
        "\n",
        "Functions:\n",
        "\n",
        "np.save(file, array): Saves a single NumPy array in .npy format.\n",
        "\n",
        "np.savez(file, *args, **kwargs): Saves multiple arrays in a compressed .npz format.\n",
        "\n",
        "np.load(file): Loads .npy or .npz files back into NumPy arrays."
      ],
      "metadata": {
        "id": "XBjn6BjIYwwJ"
      }
    },
    {
      "cell_type": "code",
      "source": [
        "import numpy as np\n",
        "\n",
        "# Saving a single array\n",
        "arr = np.array([[1, 2, 3], [4, 5, 6]])\n",
        "np.save('array.npy', arr)\n",
        "\n",
        "# Loading the array\n",
        "loaded_arr = np.load('array.npy')\n",
        "print(loaded_arr)\n",
        "\n",
        "# Saving multiple arrays\n",
        "arr1 = np.array([1, 2, 3])\n",
        "arr2 = np.array([4, 5, 6])\n",
        "np.savez('arrays.npz', array1=arr1, array2=arr2)\n",
        "\n",
        "# Loading multiple arrays\n",
        "data = np.load('arrays.npz')\n",
        "print(data['array1'])\n",
        "print(data['array2'])\n"
      ],
      "metadata": {
        "colab": {
          "base_uri": "https://localhost:8080/"
        },
        "id": "r2sqgQHiY_jO",
        "outputId": "0b519ca8-1204-48d7-c3d0-2e0e795eaf5f"
      },
      "execution_count": null,
      "outputs": [
        {
          "output_type": "stream",
          "name": "stdout",
          "text": [
            "[[1 2 3]\n",
            " [4 5 6]]\n",
            "[1 2 3]\n",
            "[4 5 6]\n"
          ]
        }
      ]
    },
    {
      "cell_type": "markdown",
      "source": [
        "**FILES I/O**\n",
        "\n",
        "NumPy is generally used for numerical operations on arrays, but it can be used to read and write numerical data from and to files. We'll use numpy.loadtxt() and numpy.savetxt() for this purpose.\n",
        "\n",
        "If you have a text file, data.txt, with numerical values, you can use numpy.loadtxt() to read it.\n"
      ],
      "metadata": {
        "id": "BtgUROVBUmDC"
      }
    },
    {
      "cell_type": "code",
      "source": [
        "import numpy as np\n",
        "\n",
        "# Reading a text file with numerical data\n",
        "data = np.loadtxt('data.txt', delimiter=',')\n",
        "print(data)\n"
      ],
      "metadata": {
        "colab": {
          "base_uri": "https://localhost:8080/",
          "height": 347
        },
        "id": "EcNoyWntVcy0",
        "outputId": "5a6d97e4-f857-4522-943f-5f7214a63645"
      },
      "execution_count": null,
      "outputs": [
        {
          "output_type": "error",
          "ename": "FileNotFoundError",
          "evalue": "data.txt not found.",
          "traceback": [
            "\u001b[0;31m---------------------------------------------------------------------------\u001b[0m",
            "\u001b[0;31mFileNotFoundError\u001b[0m                         Traceback (most recent call last)",
            "\u001b[0;32m<ipython-input-35-572f933f2b8a>\u001b[0m in \u001b[0;36m<cell line: 0>\u001b[0;34m()\u001b[0m\n\u001b[1;32m      2\u001b[0m \u001b[0;34m\u001b[0m\u001b[0m\n\u001b[1;32m      3\u001b[0m \u001b[0;31m# Reading a text file with numerical data\u001b[0m\u001b[0;34m\u001b[0m\u001b[0;34m\u001b[0m\u001b[0m\n\u001b[0;32m----> 4\u001b[0;31m \u001b[0mdata\u001b[0m \u001b[0;34m=\u001b[0m \u001b[0mnp\u001b[0m\u001b[0;34m.\u001b[0m\u001b[0mloadtxt\u001b[0m\u001b[0;34m(\u001b[0m\u001b[0;34m'data.txt'\u001b[0m\u001b[0;34m,\u001b[0m \u001b[0mdelimiter\u001b[0m\u001b[0;34m=\u001b[0m\u001b[0;34m','\u001b[0m\u001b[0;34m)\u001b[0m\u001b[0;34m\u001b[0m\u001b[0;34m\u001b[0m\u001b[0m\n\u001b[0m\u001b[1;32m      5\u001b[0m \u001b[0mprint\u001b[0m\u001b[0;34m(\u001b[0m\u001b[0mdata\u001b[0m\u001b[0;34m)\u001b[0m\u001b[0;34m\u001b[0m\u001b[0;34m\u001b[0m\u001b[0m\n",
            "\u001b[0;32m/usr/local/lib/python3.11/dist-packages/numpy/lib/npyio.py\u001b[0m in \u001b[0;36mloadtxt\u001b[0;34m(fname, dtype, comments, delimiter, converters, skiprows, usecols, unpack, ndmin, encoding, max_rows, quotechar, like)\u001b[0m\n\u001b[1;32m   1371\u001b[0m         \u001b[0mdelimiter\u001b[0m \u001b[0;34m=\u001b[0m \u001b[0mdelimiter\u001b[0m\u001b[0;34m.\u001b[0m\u001b[0mdecode\u001b[0m\u001b[0;34m(\u001b[0m\u001b[0;34m'latin1'\u001b[0m\u001b[0;34m)\u001b[0m\u001b[0;34m\u001b[0m\u001b[0;34m\u001b[0m\u001b[0m\n\u001b[1;32m   1372\u001b[0m \u001b[0;34m\u001b[0m\u001b[0m\n\u001b[0;32m-> 1373\u001b[0;31m     arr = _read(fname, dtype=dtype, comment=comment, delimiter=delimiter,\n\u001b[0m\u001b[1;32m   1374\u001b[0m                 \u001b[0mconverters\u001b[0m\u001b[0;34m=\u001b[0m\u001b[0mconverters\u001b[0m\u001b[0;34m,\u001b[0m \u001b[0mskiplines\u001b[0m\u001b[0;34m=\u001b[0m\u001b[0mskiprows\u001b[0m\u001b[0;34m,\u001b[0m \u001b[0musecols\u001b[0m\u001b[0;34m=\u001b[0m\u001b[0musecols\u001b[0m\u001b[0;34m,\u001b[0m\u001b[0;34m\u001b[0m\u001b[0;34m\u001b[0m\u001b[0m\n\u001b[1;32m   1375\u001b[0m                 \u001b[0munpack\u001b[0m\u001b[0;34m=\u001b[0m\u001b[0munpack\u001b[0m\u001b[0;34m,\u001b[0m \u001b[0mndmin\u001b[0m\u001b[0;34m=\u001b[0m\u001b[0mndmin\u001b[0m\u001b[0;34m,\u001b[0m \u001b[0mencoding\u001b[0m\u001b[0;34m=\u001b[0m\u001b[0mencoding\u001b[0m\u001b[0;34m,\u001b[0m\u001b[0;34m\u001b[0m\u001b[0;34m\u001b[0m\u001b[0m\n",
            "\u001b[0;32m/usr/local/lib/python3.11/dist-packages/numpy/lib/npyio.py\u001b[0m in \u001b[0;36m_read\u001b[0;34m(fname, delimiter, comment, quote, imaginary_unit, usecols, skiplines, max_rows, converters, ndmin, unpack, dtype, encoding)\u001b[0m\n\u001b[1;32m    990\u001b[0m             \u001b[0mfname\u001b[0m \u001b[0;34m=\u001b[0m \u001b[0mos\u001b[0m\u001b[0;34m.\u001b[0m\u001b[0mfspath\u001b[0m\u001b[0;34m(\u001b[0m\u001b[0mfname\u001b[0m\u001b[0;34m)\u001b[0m\u001b[0;34m\u001b[0m\u001b[0;34m\u001b[0m\u001b[0m\n\u001b[1;32m    991\u001b[0m         \u001b[0;32mif\u001b[0m \u001b[0misinstance\u001b[0m\u001b[0;34m(\u001b[0m\u001b[0mfname\u001b[0m\u001b[0;34m,\u001b[0m \u001b[0mstr\u001b[0m\u001b[0;34m)\u001b[0m\u001b[0;34m:\u001b[0m\u001b[0;34m\u001b[0m\u001b[0;34m\u001b[0m\u001b[0m\n\u001b[0;32m--> 992\u001b[0;31m             \u001b[0mfh\u001b[0m \u001b[0;34m=\u001b[0m \u001b[0mnp\u001b[0m\u001b[0;34m.\u001b[0m\u001b[0mlib\u001b[0m\u001b[0;34m.\u001b[0m\u001b[0m_datasource\u001b[0m\u001b[0;34m.\u001b[0m\u001b[0mopen\u001b[0m\u001b[0;34m(\u001b[0m\u001b[0mfname\u001b[0m\u001b[0;34m,\u001b[0m \u001b[0;34m'rt'\u001b[0m\u001b[0;34m,\u001b[0m \u001b[0mencoding\u001b[0m\u001b[0;34m=\u001b[0m\u001b[0mencoding\u001b[0m\u001b[0;34m)\u001b[0m\u001b[0;34m\u001b[0m\u001b[0;34m\u001b[0m\u001b[0m\n\u001b[0m\u001b[1;32m    993\u001b[0m             \u001b[0;32mif\u001b[0m \u001b[0mencoding\u001b[0m \u001b[0;32mis\u001b[0m \u001b[0;32mNone\u001b[0m\u001b[0;34m:\u001b[0m\u001b[0;34m\u001b[0m\u001b[0;34m\u001b[0m\u001b[0m\n\u001b[1;32m    994\u001b[0m                 \u001b[0mencoding\u001b[0m \u001b[0;34m=\u001b[0m \u001b[0mgetattr\u001b[0m\u001b[0;34m(\u001b[0m\u001b[0mfh\u001b[0m\u001b[0;34m,\u001b[0m \u001b[0;34m'encoding'\u001b[0m\u001b[0;34m,\u001b[0m \u001b[0;34m'latin1'\u001b[0m\u001b[0;34m)\u001b[0m\u001b[0;34m\u001b[0m\u001b[0;34m\u001b[0m\u001b[0m\n",
            "\u001b[0;32m/usr/local/lib/python3.11/dist-packages/numpy/lib/_datasource.py\u001b[0m in \u001b[0;36mopen\u001b[0;34m(path, mode, destpath, encoding, newline)\u001b[0m\n\u001b[1;32m    191\u001b[0m \u001b[0;34m\u001b[0m\u001b[0m\n\u001b[1;32m    192\u001b[0m     \u001b[0mds\u001b[0m \u001b[0;34m=\u001b[0m \u001b[0mDataSource\u001b[0m\u001b[0;34m(\u001b[0m\u001b[0mdestpath\u001b[0m\u001b[0;34m)\u001b[0m\u001b[0;34m\u001b[0m\u001b[0;34m\u001b[0m\u001b[0m\n\u001b[0;32m--> 193\u001b[0;31m     \u001b[0;32mreturn\u001b[0m \u001b[0mds\u001b[0m\u001b[0;34m.\u001b[0m\u001b[0mopen\u001b[0m\u001b[0;34m(\u001b[0m\u001b[0mpath\u001b[0m\u001b[0;34m,\u001b[0m \u001b[0mmode\u001b[0m\u001b[0;34m,\u001b[0m \u001b[0mencoding\u001b[0m\u001b[0;34m=\u001b[0m\u001b[0mencoding\u001b[0m\u001b[0;34m,\u001b[0m \u001b[0mnewline\u001b[0m\u001b[0;34m=\u001b[0m\u001b[0mnewline\u001b[0m\u001b[0;34m)\u001b[0m\u001b[0;34m\u001b[0m\u001b[0;34m\u001b[0m\u001b[0m\n\u001b[0m\u001b[1;32m    194\u001b[0m \u001b[0;34m\u001b[0m\u001b[0m\n\u001b[1;32m    195\u001b[0m \u001b[0;34m\u001b[0m\u001b[0m\n",
            "\u001b[0;32m/usr/local/lib/python3.11/dist-packages/numpy/lib/_datasource.py\u001b[0m in \u001b[0;36mopen\u001b[0;34m(self, path, mode, encoding, newline)\u001b[0m\n\u001b[1;32m    531\u001b[0m                                       encoding=encoding, newline=newline)\n\u001b[1;32m    532\u001b[0m         \u001b[0;32melse\u001b[0m\u001b[0;34m:\u001b[0m\u001b[0;34m\u001b[0m\u001b[0;34m\u001b[0m\u001b[0m\n\u001b[0;32m--> 533\u001b[0;31m             \u001b[0;32mraise\u001b[0m \u001b[0mFileNotFoundError\u001b[0m\u001b[0;34m(\u001b[0m\u001b[0;34mf\"{path} not found.\"\u001b[0m\u001b[0;34m)\u001b[0m\u001b[0;34m\u001b[0m\u001b[0;34m\u001b[0m\u001b[0m\n\u001b[0m\u001b[1;32m    534\u001b[0m \u001b[0;34m\u001b[0m\u001b[0m\n\u001b[1;32m    535\u001b[0m \u001b[0;34m\u001b[0m\u001b[0m\n",
            "\u001b[0;31mFileNotFoundError\u001b[0m: data.txt not found."
          ]
        }
      ]
    },
    {
      "cell_type": "code",
      "source": [
        "# Replace with the actual file path if it's in a different directory\n",
        "   file_path = '/path/to/your/data.txt'\n",
        "   data = np.loadtxt(file_path, delimiter=',')\n",
        "   print(data)"
      ],
      "metadata": {
        "id": "-myPrwCpWCa8"
      },
      "execution_count": null,
      "outputs": []
    },
    {
      "cell_type": "markdown",
      "source": [
        "To write an array to a text file, you can use numpy.savetxt()."
      ],
      "metadata": {
        "id": "jPfDYnY9WQS_"
      }
    },
    {
      "cell_type": "code",
      "source": [
        "import numpy as np\n",
        "\n",
        "# Assume you have a NumPy array\n",
        "data = np.array([[1, 2, 3], [4, 5, 6], [7, 8, 9]])\n",
        "\n",
        "# Writing the array to a text file\n",
        "np.savetxt('output.txt', data, delimiter=',')\n"
      ],
      "metadata": {
        "id": "w8XJiz-IWRaT"
      },
      "execution_count": null,
      "outputs": []
    },
    {
      "cell_type": "markdown",
      "source": [
        "**Reading and Writing CSV Files**\n",
        "\n",
        "If you're dealing with CSV files, numpy.genfromtxt() can be more flexible for reading, and you can still use numpy.savetxt() for writing."
      ],
      "metadata": {
        "id": "8edBTVutWvr4"
      }
    },
    {
      "cell_type": "code",
      "source": [
        "import numpy as np\n",
        "\n",
        "# Reading from a CSV file\n",
        "data = np.genfromtxt('data.csv', delimiter=',')\n",
        "print(data)\n"
      ],
      "metadata": {
        "id": "U5gYsofPW5LV"
      },
      "execution_count": null,
      "outputs": []
    },
    {
      "cell_type": "code",
      "source": [
        "import numpy as np\n",
        "\n",
        "# Assume you have a NumPy array\n",
        "data = np.array([[1, 2, 3], [4, 5, 6], [7, 8, 9]])\n",
        "\n",
        "# Writing the array to a text file\n",
        "np.savetxt('output.csv', data, delimiter=',')"
      ],
      "metadata": {
        "id": "uDXML82wW-kR"
      },
      "execution_count": null,
      "outputs": []
    },
    {
      "cell_type": "code",
      "source": [
        "import numpy as np\n",
        "\n",
        "# Create a 3x3 matrix\n",
        "matrix = np.array([[1, 2, 3], [4, 5, 6], [7, 8, 9]])\n",
        "\n",
        "# Save the matrix to a CSV file\n",
        "file_path = \"/mnt/data/matrix.csv\"\n",
        "np.savetxt(file_path, matrix, delimiter=',', fmt='%d')\n",
        "\n",
        "# Load the matrix back from the CSV file\n",
        "loaded_matrix = np.loadtxt(file_path, delimiter=',', dtype=int)\n",
        "\n",
        "matrix, loaded_matrix\n"
      ],
      "metadata": {
        "id": "-eZTw6rpXJKo"
      },
      "execution_count": null,
      "outputs": []
    }
  ]
}